{
  "nbformat": 4,
  "nbformat_minor": 0,
  "metadata": {
    "colab": {
      "name": "Groupby_PartA.ipynb",
      "provenance": []
    },
    "kernelspec": {
      "name": "python3",
      "display_name": "Python 3"
    }
  },
  "cells": [
    {
      "cell_type": "markdown",
      "metadata": {
        "id": "Arj2Sc8Y8REv"
      },
      "source": [
        "**Name: Ankita Bera**\r\n",
        "\r\n",
        "**Roll number: 1828229**\r\n",
        "\r\n",
        "**House: Ra's al Ghul**"
      ]
    },
    {
      "cell_type": "markdown",
      "metadata": {
        "id": "MYBWa3idJD2x"
      },
      "source": [
        "#***PART A***\r\n",
        "\r\n",
        "> **Question 1**\r\n",
        "\r\n",
        "\r\n"
      ]
    },
    {
      "cell_type": "code",
      "metadata": {
        "id": "oHFHgxTbKBQo"
      },
      "source": [
        "import pandas as pd\r\n",
        "import numpy as np"
      ],
      "execution_count": 1,
      "outputs": []
    },
    {
      "cell_type": "code",
      "metadata": {
        "id": "Ws8HiY03JtTt"
      },
      "source": [
        "df = pd.DataFrame({\r\n",
        "  'A': ['group1', 'group1', 'group2', 'group1','group2',\r\n",
        "'group1', 'group2', 'group2','group2','group1'],\r\n",
        "  'B': ['true', 'true', 'true', 'false', 'false', 'false', 'false', 'true','false','true']})"
      ],
      "execution_count": 2,
      "outputs": []
    },
    {
      "cell_type": "code",
      "metadata": {
        "colab": {
          "base_uri": "https://localhost:8080/"
        },
        "id": "DSZKErCiKI-d",
        "outputId": "b6692a5a-a8e6-4c11-8fec-bbc5cde7689f"
      },
      "source": [
        "df1 = pd.crosstab(df.A, df.B)\r\n",
        "print (df1)"
      ],
      "execution_count": 3,
      "outputs": [
        {
          "output_type": "stream",
          "text": [
            "B       false  true\n",
            "A                  \n",
            "group1      2     3\n",
            "group2      3     2\n"
          ],
          "name": "stdout"
        }
      ]
    },
    {
      "cell_type": "code",
      "metadata": {
        "colab": {
          "base_uri": "https://localhost:8080/"
        },
        "id": "ILjOZW83KRkC",
        "outputId": "648db2d4-c944-42fc-de75-2de36525a4fb"
      },
      "source": [
        "g = df1.index[df1['true'] > df1['false']].tolist()\r\n",
        "print (g)"
      ],
      "execution_count": 4,
      "outputs": [
        {
          "output_type": "stream",
          "text": [
            "['group1']\n"
          ],
          "name": "stdout"
        }
      ]
    },
    {
      "cell_type": "markdown",
      "metadata": {
        "id": "9BHj40nmKcwu"
      },
      "source": [
        "\r\n",
        "\r\n",
        "> **Question 2 a.**\r\n",
        "\r\n"
      ]
    },
    {
      "cell_type": "code",
      "metadata": {
        "id": "61i2bIVMLEsU"
      },
      "source": [
        "ser1 = pd.Series([1, 2, 3, 4, 5]) \r\n",
        "ser2 = pd.Series([3, 4, 5, 6, 7])"
      ],
      "execution_count": 5,
      "outputs": []
    },
    {
      "cell_type": "code",
      "metadata": {
        "id": "XQtqMgTULLHs"
      },
      "source": [
        "# union of the series \r\n",
        "union = pd.Series(np.union1d(ser1, ser2)) \r\n",
        "  \r\n",
        "# intersection of the series \r\n",
        "intersect = pd.Series(np.intersect1d(ser1, ser2)) \r\n",
        "  \r\n",
        "# uncommon elements in both the series  \r\n",
        "notcommonseries = union[~union.isin(intersect)]"
      ],
      "execution_count": 6,
      "outputs": []
    },
    {
      "cell_type": "code",
      "metadata": {
        "colab": {
          "base_uri": "https://localhost:8080/"
        },
        "id": "RuwNbW8NLV-D",
        "outputId": "ec2eb14d-c828-492a-87f6-24384166938b"
      },
      "source": [
        "print(notcommonseries)"
      ],
      "execution_count": 7,
      "outputs": [
        {
          "output_type": "stream",
          "text": [
            "0    1\n",
            "1    2\n",
            "5    6\n",
            "6    7\n",
            "dtype: int64\n"
          ],
          "name": "stdout"
        }
      ]
    },
    {
      "cell_type": "markdown",
      "metadata": {
        "id": "nPJxWcpeMBe2"
      },
      "source": [
        "\r\n",
        "\r\n",
        "> **Question 2 b.**\r\n",
        "\r\n"
      ]
    },
    {
      "cell_type": "code",
      "metadata": {
        "id": "dgAE7gbANFCM"
      },
      "source": [
        "ser1 = pd.Series([1, 2, 3, 4, 5]) \r\n",
        "ser2 = pd.Series([3, 4, 5, 6, 7])"
      ],
      "execution_count": 8,
      "outputs": []
    },
    {
      "cell_type": "code",
      "metadata": {
        "id": "EoEjE6jZNMGq"
      },
      "source": [
        "# intersection of the series \r\n",
        "intersect = pd.Series(np.intersect1d(ser1, ser2))"
      ],
      "execution_count": 9,
      "outputs": []
    },
    {
      "cell_type": "code",
      "metadata": {
        "colab": {
          "base_uri": "https://localhost:8080/"
        },
        "id": "91-dnrMUNOs1",
        "outputId": "319c0228-8e0b-4f8c-cd88-5d719a1cf3a4"
      },
      "source": [
        "print(intersect)"
      ],
      "execution_count": 10,
      "outputs": [
        {
          "output_type": "stream",
          "text": [
            "0    3\n",
            "1    4\n",
            "2    5\n",
            "dtype: int64\n"
          ],
          "name": "stdout"
        }
      ]
    },
    {
      "cell_type": "markdown",
      "metadata": {
        "id": "KPE1XjqNO3Eo"
      },
      "source": [
        "\r\n",
        "\r\n",
        "> **Question 3 a.**\r\n",
        "\r\n"
      ]
    },
    {
      "cell_type": "code",
      "metadata": {
        "id": "1lsAskIyPCNl"
      },
      "source": [
        "import random"
      ],
      "execution_count": 11,
      "outputs": []
    },
    {
      "cell_type": "code",
      "metadata": {
        "id": "v56bIGBpQE_o"
      },
      "source": [
        "randomser = pd.Series(random.sample(range(0, 100), 10))"
      ],
      "execution_count": 12,
      "outputs": []
    },
    {
      "cell_type": "code",
      "metadata": {
        "colab": {
          "base_uri": "https://localhost:8080/"
        },
        "id": "y-HnLTbmQWVH",
        "outputId": "367ea780-bb09-40b5-86a9-f6bfc8a11ec8"
      },
      "source": [
        "for i in randomser:\r\n",
        "  if i % 3 == 0:\r\n",
        "    print(i)"
      ],
      "execution_count": 13,
      "outputs": [
        {
          "output_type": "stream",
          "text": [
            "60\n",
            "75\n",
            "12\n"
          ],
          "name": "stdout"
        }
      ]
    },
    {
      "cell_type": "markdown",
      "metadata": {
        "id": "5e0B-pLxRY4n"
      },
      "source": [
        "\r\n",
        "\r\n",
        "> **Question 3 b.**\r\n",
        "\r\n"
      ]
    },
    {
      "cell_type": "code",
      "metadata": {
        "id": "Im2bg_vKRiNq"
      },
      "source": [
        "ser = pd.Series([1, 3, 6, 10, 15, 21, 27, 35])"
      ],
      "execution_count": 14,
      "outputs": []
    },
    {
      "cell_type": "code",
      "metadata": {
        "colab": {
          "base_uri": "https://localhost:8080/"
        },
        "id": "rWLtCfWrSzhI",
        "outputId": "5180b50c-226c-4abf-b726-df584cb0806f"
      },
      "source": [
        "print (\"The original list is : \\n\" + str(ser))"
      ],
      "execution_count": 15,
      "outputs": [
        {
          "output_type": "stream",
          "text": [
            "The original list is : \n",
            "0     1\n",
            "1     3\n",
            "2     6\n",
            "3    10\n",
            "4    15\n",
            "5    21\n",
            "6    27\n",
            "7    35\n",
            "dtype: int64\n"
          ],
          "name": "stdout"
        }
      ]
    },
    {
      "cell_type": "code",
      "metadata": {
        "colab": {
          "base_uri": "https://localhost:8080/"
        },
        "id": "mX5bXBFuTC0w",
        "outputId": "148d4f28-c3a8-4787-e1dd-969d8a44ee39"
      },
      "source": [
        "res = [ser[i + 1] - ser[i] for i in range(len(ser)-1)]\r\n",
        "print (\"The computed successive difference list is : \\n\" + str(res))"
      ],
      "execution_count": 16,
      "outputs": [
        {
          "output_type": "stream",
          "text": [
            "The computed successive difference list is : \n",
            "[2, 3, 4, 5, 6, 6, 8]\n"
          ],
          "name": "stdout"
        }
      ]
    }
  ]
}