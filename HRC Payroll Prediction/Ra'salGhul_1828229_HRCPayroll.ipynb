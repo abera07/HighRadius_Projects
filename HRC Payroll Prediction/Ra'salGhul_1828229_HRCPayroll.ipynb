{
  "nbformat": 4,
  "nbformat_minor": 0,
  "metadata": {
    "colab": {
      "name": "Ra'salGhul_1828229_HRCPayroll.ipynb",
      "provenance": [],
      "collapsed_sections": []
    },
    "kernelspec": {
      "name": "python3",
      "display_name": "Python 3"
    }
  },
  "cells": [
    {
      "cell_type": "markdown",
      "metadata": {
        "id": "rSxufwj3EMG1"
      },
      "source": [
        "Name: Ankita Bera\r\n",
        "\r\n",
        "Roll-number: 1828229\r\n",
        "\r\n",
        "House: Ra's al Ghul"
      ]
    },
    {
      "cell_type": "markdown",
      "metadata": {
        "id": "vg4LepXoEovh"
      },
      "source": [
        "# EDA, FE, FS & Modeling Assignment"
      ]
    },
    {
      "cell_type": "code",
      "metadata": {
        "id": "knCfRD91Zrek"
      },
      "source": [
        "import pandas as pd\r\n",
        "import datetime"
      ],
      "execution_count": 1,
      "outputs": []
    },
    {
      "cell_type": "code",
      "metadata": {
        "colab": {
          "base_uri": "https://localhost:8080/",
          "height": 230
        },
        "id": "vGnMWDp8cvcV",
        "outputId": "156d6a37-2d15-47f3-dc3c-4db7b3350c81"
      },
      "source": [
        "df = pd.read_excel('1828229_HRC_dataset_Excel.xlsx')\r\n",
        "df.head(3)"
      ],
      "execution_count": 2,
      "outputs": [
        {
          "output_type": "execute_result",
          "data": {
            "text/html": [
              "<div>\n",
              "<style scoped>\n",
              "    .dataframe tbody tr th:only-of-type {\n",
              "        vertical-align: middle;\n",
              "    }\n",
              "\n",
              "    .dataframe tbody tr th {\n",
              "        vertical-align: top;\n",
              "    }\n",
              "\n",
              "    .dataframe thead th {\n",
              "        text-align: right;\n",
              "    }\n",
              "</style>\n",
              "<table border=\"1\" class=\"dataframe\">\n",
              "  <thead>\n",
              "    <tr style=\"text-align: right;\">\n",
              "      <th></th>\n",
              "      <th>business_code</th>\n",
              "      <th>cust_number</th>\n",
              "      <th>name_customer</th>\n",
              "      <th>clear_date</th>\n",
              "      <th>buisness_year</th>\n",
              "      <th>doc_id</th>\n",
              "      <th>posting_date</th>\n",
              "      <th>document_create_date</th>\n",
              "      <th>document_create_date.1</th>\n",
              "      <th>due_in_date</th>\n",
              "      <th>invoice_currency</th>\n",
              "      <th>document type</th>\n",
              "      <th>posting_id</th>\n",
              "      <th>area_business</th>\n",
              "      <th>total_open_amount</th>\n",
              "      <th>baseline_create_date</th>\n",
              "      <th>cust_payment_terms</th>\n",
              "      <th>invoice_id</th>\n",
              "      <th>isOpen</th>\n",
              "    </tr>\n",
              "  </thead>\n",
              "  <tbody>\n",
              "    <tr>\n",
              "      <th>0</th>\n",
              "      <td>U001</td>\n",
              "      <td>200732755</td>\n",
              "      <td>KROGER systems</td>\n",
              "      <td>2019-01-22</td>\n",
              "      <td>2019</td>\n",
              "      <td>1928568759</td>\n",
              "      <td>2019-01-05</td>\n",
              "      <td>20190104</td>\n",
              "      <td>20190105</td>\n",
              "      <td>20190120</td>\n",
              "      <td>USD</td>\n",
              "      <td>RV</td>\n",
              "      <td>1</td>\n",
              "      <td>NaN</td>\n",
              "      <td>85745.37</td>\n",
              "      <td>20190105</td>\n",
              "      <td>NAA8</td>\n",
              "      <td>1.928569e+09</td>\n",
              "      <td>0</td>\n",
              "    </tr>\n",
              "    <tr>\n",
              "      <th>1</th>\n",
              "      <td>U001</td>\n",
              "      <td>200794332</td>\n",
              "      <td>COST foundation</td>\n",
              "      <td>2019-09-23</td>\n",
              "      <td>2019</td>\n",
              "      <td>1929830151</td>\n",
              "      <td>2019-09-05</td>\n",
              "      <td>20190905</td>\n",
              "      <td>20190905</td>\n",
              "      <td>20190920</td>\n",
              "      <td>USD</td>\n",
              "      <td>RV</td>\n",
              "      <td>1</td>\n",
              "      <td>NaN</td>\n",
              "      <td>14838.48</td>\n",
              "      <td>20190905</td>\n",
              "      <td>NAAX</td>\n",
              "      <td>1.929830e+09</td>\n",
              "      <td>0</td>\n",
              "    </tr>\n",
              "    <tr>\n",
              "      <th>2</th>\n",
              "      <td>U001</td>\n",
              "      <td>200783609</td>\n",
              "      <td>PROFIC associates</td>\n",
              "      <td>2020-03-17</td>\n",
              "      <td>2020</td>\n",
              "      <td>1930488416</td>\n",
              "      <td>2020-02-13</td>\n",
              "      <td>20200206</td>\n",
              "      <td>20200213</td>\n",
              "      <td>20200316</td>\n",
              "      <td>USD</td>\n",
              "      <td>RV</td>\n",
              "      <td>1</td>\n",
              "      <td>NaN</td>\n",
              "      <td>11501.00</td>\n",
              "      <td>20200213</td>\n",
              "      <td>NA32</td>\n",
              "      <td>1.930488e+09</td>\n",
              "      <td>0</td>\n",
              "    </tr>\n",
              "  </tbody>\n",
              "</table>\n",
              "</div>"
            ],
            "text/plain": [
              "  business_code cust_number  ...    invoice_id isOpen\n",
              "0          U001   200732755  ...  1.928569e+09      0\n",
              "1          U001   200794332  ...  1.929830e+09      0\n",
              "2          U001   200783609  ...  1.930488e+09      0\n",
              "\n",
              "[3 rows x 19 columns]"
            ]
          },
          "metadata": {
            "tags": []
          },
          "execution_count": 2
        }
      ]
    },
    {
      "cell_type": "markdown",
      "metadata": {
        "id": "Om9jNhrvqV8j"
      },
      "source": [
        "### Analysing the statistical measures of our data set"
      ]
    },
    {
      "cell_type": "code",
      "metadata": {
        "colab": {
          "base_uri": "https://localhost:8080/"
        },
        "id": "xWuTIySeqdum",
        "outputId": "d2bc821f-728f-4648-d4b8-dc122f72b108"
      },
      "source": [
        "df.info()"
      ],
      "execution_count": 3,
      "outputs": [
        {
          "output_type": "stream",
          "text": [
            "<class 'pandas.core.frame.DataFrame'>\n",
            "RangeIndex: 50000 entries, 0 to 49999\n",
            "Data columns (total 19 columns):\n",
            " #   Column                  Non-Null Count  Dtype         \n",
            "---  ------                  --------------  -----         \n",
            " 0   business_code           50000 non-null  object        \n",
            " 1   cust_number             50000 non-null  object        \n",
            " 2   name_customer           50000 non-null  object        \n",
            " 3   clear_date              45248 non-null  datetime64[ns]\n",
            " 4   buisness_year           50000 non-null  int64         \n",
            " 5   doc_id                  50000 non-null  int64         \n",
            " 6   posting_date            50000 non-null  datetime64[ns]\n",
            " 7   document_create_date    50000 non-null  int64         \n",
            " 8   document_create_date.1  50000 non-null  int64         \n",
            " 9   due_in_date             50000 non-null  int64         \n",
            " 10  invoice_currency        50000 non-null  object        \n",
            " 11  document type           50000 non-null  object        \n",
            " 12  posting_id              50000 non-null  int64         \n",
            " 13  area_business           0 non-null      float64       \n",
            " 14  total_open_amount       50000 non-null  float64       \n",
            " 15  baseline_create_date    50000 non-null  int64         \n",
            " 16  cust_payment_terms      50000 non-null  object        \n",
            " 17  invoice_id              49992 non-null  float64       \n",
            " 18  isOpen                  50000 non-null  int64         \n",
            "dtypes: datetime64[ns](2), float64(3), int64(8), object(6)\n",
            "memory usage: 7.2+ MB\n"
          ],
          "name": "stdout"
        }
      ]
    },
    {
      "cell_type": "code",
      "metadata": {
        "colab": {
          "base_uri": "https://localhost:8080/"
        },
        "id": "zNyDRG4OqdrJ",
        "outputId": "fa53f8b6-222a-4f16-e3e7-48cb0c80c7ef"
      },
      "source": [
        "#Deriving the stastics of the amount that is yet to be paid for that invoice\r\n",
        "df['total_open_amount'].describe()"
      ],
      "execution_count": 4,
      "outputs": [
        {
          "output_type": "execute_result",
          "data": {
            "text/plain": [
              "count    5.000000e+04\n",
              "mean     3.209308e+04\n",
              "std      3.945076e+04\n",
              "min      7.900000e-01\n",
              "25%      4.833398e+03\n",
              "50%      1.732431e+04\n",
              "75%      4.677678e+04\n",
              "max      1.311833e+06\n",
              "Name: total_open_amount, dtype: float64"
            ]
          },
          "metadata": {
            "tags": []
          },
          "execution_count": 4
        }
      ]
    },
    {
      "cell_type": "code",
      "metadata": {
        "colab": {
          "base_uri": "https://localhost:8080/",
          "height": 278
        },
        "id": "XxUMmaWJqdjI",
        "outputId": "b64fc764-f777-473d-a4dc-4d1787d72f0a"
      },
      "source": [
        "#Performing exploratory data analysis on the amount due for the invoice\r\n",
        "import matplotlib.pyplot as plt\r\n",
        "fig=df.total_open_amount.hist(bins=20)"
      ],
      "execution_count": 5,
      "outputs": [
        {
          "output_type": "display_data",
          "data": {
            "image/png": "[encoded data removed]",
            "text/plain": [
              "<Figure size 432x288 with 1 Axes>"
            ]
          },
          "metadata": {
            "tags": [],
            "needs_background": "light"
          }
        }
      ]
    },
    {
      "cell_type": "code",
      "metadata": {
        "colab": {
          "base_uri": "https://localhost:8080/"
        },
        "id": "WS8Iuvzcc1-9",
        "outputId": "980742cc-b538-4f7c-dd98-12eb062790f2"
      },
      "source": [
        "df.isnull().sum()"
      ],
      "execution_count": 6,
      "outputs": [
        {
          "output_type": "execute_result",
          "data": {
            "text/plain": [
              "business_code                 0\n",
              "cust_number                   0\n",
              "name_customer                 0\n",
              "clear_date                 4752\n",
              "buisness_year                 0\n",
              "doc_id                        0\n",
              "posting_date                  0\n",
              "document_create_date          0\n",
              "document_create_date.1        0\n",
              "due_in_date                   0\n",
              "invoice_currency              0\n",
              "document type                 0\n",
              "posting_id                    0\n",
              "area_business             50000\n",
              "total_open_amount             0\n",
              "baseline_create_date          0\n",
              "cust_payment_terms            0\n",
              "invoice_id                    8\n",
              "isOpen                        0\n",
              "dtype: int64"
            ]
          },
          "metadata": {
            "tags": []
          },
          "execution_count": 6
        }
      ]
    },
    {
      "cell_type": "code",
      "metadata": {
        "colab": {
          "base_uri": "https://localhost:8080/"
        },
        "id": "Vraun-SxhsRm",
        "outputId": "942527df-f505-4601-b4ed-f1faa4870407"
      },
      "source": [
        "df.nunique()"
      ],
      "execution_count": 7,
      "outputs": [
        {
          "output_type": "execute_result",
          "data": {
            "text/plain": [
              "business_code                 6\n",
              "cust_number                1105\n",
              "name_customer              4286\n",
              "clear_date                  401\n",
              "buisness_year                 2\n",
              "doc_id                    50000\n",
              "posting_date                499\n",
              "document_create_date        501\n",
              "document_create_date.1      499\n",
              "due_in_date                 545\n",
              "invoice_currency              2\n",
              "document type                 2\n",
              "posting_id                    1\n",
              "area_business                 0\n",
              "total_open_amount         45243\n",
              "baseline_create_date        502\n",
              "cust_payment_terms           74\n",
              "invoice_id                49992\n",
              "isOpen                        2\n",
              "dtype: int64"
            ]
          },
          "metadata": {
            "tags": []
          },
          "execution_count": 7
        }
      ]
    },
    {
      "cell_type": "markdown",
      "metadata": {
        "id": "USZK39P_tu2S"
      },
      "source": [
        "### Dropping Constant, Quasi-constant, and Null columns"
      ]
    },
    {
      "cell_type": "code",
      "metadata": {
        "colab": {
          "base_uri": "https://localhost:8080/"
        },
        "id": "KnnzXdiViOVr",
        "outputId": "086e9d59-2667-4b44-8a74-745145771c0a"
      },
      "source": [
        "#Dropping primary key columns doc_id and invoice_id as they have unique values at all data points\r\n",
        "#Dropping posting_id since it is a constant column\r\n",
        "print(df['posting_id'].value_counts())\r\n",
        "print(df['doc_id'].value_counts())"
      ],
      "execution_count": 8,
      "outputs": [
        {
          "output_type": "stream",
          "text": [
            "1    50000\n",
            "Name: posting_id, dtype: int64\n",
            "1928792063    1\n",
            "1929511442    1\n",
            "1929274630    1\n",
            "1929673989    1\n",
            "1929334019    1\n",
            "             ..\n",
            "1930148212    1\n",
            "1929352278    1\n",
            "1929321544    1\n",
            "1929761423    1\n",
            "1928658944    1\n",
            "Name: doc_id, Length: 50000, dtype: int64\n"
          ],
          "name": "stdout"
        }
      ]
    },
    {
      "cell_type": "code",
      "metadata": {
        "id": "AXTwuUkFj3Jj"
      },
      "source": [
        "df.drop(columns=['area_business','posting_id','doc_id','invoice_id'], axis=1, inplace=True)"
      ],
      "execution_count": 9,
      "outputs": []
    },
    {
      "cell_type": "code",
      "metadata": {
        "colab": {
          "base_uri": "https://localhost:8080/",
          "height": 230
        },
        "id": "bGV0lANake9T",
        "outputId": "98e37cfb-428b-4506-8304-d16173659804"
      },
      "source": [
        "df.head(3)"
      ],
      "execution_count": 10,
      "outputs": [
        {
          "output_type": "execute_result",
          "data": {
            "text/html": [
              "<div>\n",
              "<style scoped>\n",
              "    .dataframe tbody tr th:only-of-type {\n",
              "        vertical-align: middle;\n",
              "    }\n",
              "\n",
              "    .dataframe tbody tr th {\n",
              "        vertical-align: top;\n",
              "    }\n",
              "\n",
              "    .dataframe thead th {\n",
              "        text-align: right;\n",
              "    }\n",
              "</style>\n",
              "<table border=\"1\" class=\"dataframe\">\n",
              "  <thead>\n",
              "    <tr style=\"text-align: right;\">\n",
              "      <th></th>\n",
              "      <th>business_code</th>\n",
              "      <th>cust_number</th>\n",
              "      <th>name_customer</th>\n",
              "      <th>clear_date</th>\n",
              "      <th>buisness_year</th>\n",
              "      <th>posting_date</th>\n",
              "      <th>document_create_date</th>\n",
              "      <th>document_create_date.1</th>\n",
              "      <th>due_in_date</th>\n",
              "      <th>invoice_currency</th>\n",
              "      <th>document type</th>\n",
              "      <th>total_open_amount</th>\n",
              "      <th>baseline_create_date</th>\n",
              "      <th>cust_payment_terms</th>\n",
              "      <th>isOpen</th>\n",
              "    </tr>\n",
              "  </thead>\n",
              "  <tbody>\n",
              "    <tr>\n",
              "      <th>0</th>\n",
              "      <td>U001</td>\n",
              "      <td>200732755</td>\n",
              "      <td>KROGER systems</td>\n",
              "      <td>2019-01-22</td>\n",
              "      <td>2019</td>\n",
              "      <td>2019-01-05</td>\n",
              "      <td>20190104</td>\n",
              "      <td>20190105</td>\n",
              "      <td>20190120</td>\n",
              "      <td>USD</td>\n",
              "      <td>RV</td>\n",
              "      <td>85745.37</td>\n",
              "      <td>20190105</td>\n",
              "      <td>NAA8</td>\n",
              "      <td>0</td>\n",
              "    </tr>\n",
              "    <tr>\n",
              "      <th>1</th>\n",
              "      <td>U001</td>\n",
              "      <td>200794332</td>\n",
              "      <td>COST foundation</td>\n",
              "      <td>2019-09-23</td>\n",
              "      <td>2019</td>\n",
              "      <td>2019-09-05</td>\n",
              "      <td>20190905</td>\n",
              "      <td>20190905</td>\n",
              "      <td>20190920</td>\n",
              "      <td>USD</td>\n",
              "      <td>RV</td>\n",
              "      <td>14838.48</td>\n",
              "      <td>20190905</td>\n",
              "      <td>NAAX</td>\n",
              "      <td>0</td>\n",
              "    </tr>\n",
              "    <tr>\n",
              "      <th>2</th>\n",
              "      <td>U001</td>\n",
              "      <td>200783609</td>\n",
              "      <td>PROFIC associates</td>\n",
              "      <td>2020-03-17</td>\n",
              "      <td>2020</td>\n",
              "      <td>2020-02-13</td>\n",
              "      <td>20200206</td>\n",
              "      <td>20200213</td>\n",
              "      <td>20200316</td>\n",
              "      <td>USD</td>\n",
              "      <td>RV</td>\n",
              "      <td>11501.00</td>\n",
              "      <td>20200213</td>\n",
              "      <td>NA32</td>\n",
              "      <td>0</td>\n",
              "    </tr>\n",
              "  </tbody>\n",
              "</table>\n",
              "</div>"
            ],
            "text/plain": [
              "  business_code cust_number  ... cust_payment_terms isOpen\n",
              "0          U001   200732755  ...               NAA8      0\n",
              "1          U001   200794332  ...               NAAX      0\n",
              "2          U001   200783609  ...               NA32      0\n",
              "\n",
              "[3 rows x 15 columns]"
            ]
          },
          "metadata": {
            "tags": []
          },
          "execution_count": 10
        }
      ]
    },
    {
      "cell_type": "markdown",
      "metadata": {
        "id": "EMQsq3HulMDA"
      },
      "source": [
        "**Checking for quasi-constant values**"
      ]
    },
    {
      "cell_type": "code",
      "metadata": {
        "colab": {
          "base_uri": "https://localhost:8080/"
        },
        "id": "KW4GjR_ZkhGi",
        "outputId": "b73aee56-1043-42cb-9528-89c3fc3b3bc9"
      },
      "source": [
        "#Percentage of observations showing each of the different values\r\n",
        "df['buisness_year'].value_counts()/50000"
      ],
      "execution_count": 11,
      "outputs": [
        {
          "output_type": "execute_result",
          "data": {
            "text/plain": [
              "2019    0.78516\n",
              "2020    0.21484\n",
              "Name: buisness_year, dtype: float64"
            ]
          },
          "metadata": {
            "tags": []
          },
          "execution_count": 11
        }
      ]
    },
    {
      "cell_type": "code",
      "metadata": {
        "colab": {
          "base_uri": "https://localhost:8080/"
        },
        "id": "tej1hlTFpf2I",
        "outputId": "4f9d0bfe-881d-4cb3-ea04-fd3dbecb8806"
      },
      "source": [
        "df['isOpen'].value_counts()/50000"
      ],
      "execution_count": 12,
      "outputs": [
        {
          "output_type": "execute_result",
          "data": {
            "text/plain": [
              "0    0.90496\n",
              "1    0.09504\n",
              "Name: isOpen, dtype: float64"
            ]
          },
          "metadata": {
            "tags": []
          },
          "execution_count": 12
        }
      ]
    },
    {
      "cell_type": "code",
      "metadata": {
        "colab": {
          "base_uri": "https://localhost:8080/"
        },
        "id": "ex0ivbAbpuob",
        "outputId": "f991261e-fdbe-4507-c047-f5ac8b387b65"
      },
      "source": [
        "df['document type'].value_counts()/50000"
      ],
      "execution_count": 13,
      "outputs": [
        {
          "output_type": "execute_result",
          "data": {
            "text/plain": [
              "RV    0.99984\n",
              "X2    0.00016\n",
              "Name: document type, dtype: float64"
            ]
          },
          "metadata": {
            "tags": []
          },
          "execution_count": 13
        }
      ]
    },
    {
      "cell_type": "code",
      "metadata": {
        "id": "9exGtvgipv3R"
      },
      "source": [
        "#dropping document type column since it is a constant column\r\n",
        "df.drop(columns = 'document type' , inplace = True)"
      ],
      "execution_count": 14,
      "outputs": []
    },
    {
      "cell_type": "code",
      "metadata": {
        "colab": {
          "base_uri": "https://localhost:8080/"
        },
        "id": "gPp_askTqA7D",
        "outputId": "aadd800c-4ed6-451c-c464-5fbe787d8cee"
      },
      "source": [
        "df['invoice_currency'].value_counts()/50000"
      ],
      "execution_count": 15,
      "outputs": [
        {
          "output_type": "execute_result",
          "data": {
            "text/plain": [
              "USD    0.92264\n",
              "CAD    0.07736\n",
              "Name: invoice_currency, dtype: float64"
            ]
          },
          "metadata": {
            "tags": []
          },
          "execution_count": 15
        }
      ]
    },
    {
      "cell_type": "markdown",
      "metadata": {
        "id": "ZX02EKPuqmbS"
      },
      "source": [
        "**Convert date columns to datetime**"
      ]
    },
    {
      "cell_type": "code",
      "metadata": {
        "id": "arrPFzdwuGfi"
      },
      "source": [
        "df['buisness_year']=df['buisness_year'].astype('int')"
      ],
      "execution_count": 16,
      "outputs": []
    },
    {
      "cell_type": "code",
      "metadata": {
        "id": "03YIGGauqPDG"
      },
      "source": [
        "df['clear_date']= pd.to_datetime(df['clear_date']) \r\n",
        "df['due_in_date'] = pd.to_datetime(df['due_in_date'],format='%Y%m%d')"
      ],
      "execution_count": 17,
      "outputs": []
    },
    {
      "cell_type": "code",
      "metadata": {
        "id": "EP7Mq4QJrHNU"
      },
      "source": [
        "# Converting all the date columns into datetime format\r\n",
        "df[['document_create_date','document_create_date.1','baseline_create_date']]=df[['document_create_date','document_create_date.1','baseline_create_date']].apply(pd.to_datetime, format='%Y%m%d')"
      ],
      "execution_count": 18,
      "outputs": []
    },
    {
      "cell_type": "code",
      "metadata": {
        "colab": {
          "base_uri": "https://localhost:8080/"
        },
        "id": "RdhDObRhi_C6",
        "outputId": "f932ecba-3e9a-4e82-c62f-46a46bff6ac4"
      },
      "source": [
        "# transpose the dataframe, so that the columns are the rows of the new dataframe\r\n",
        "data_t = df.T\r\n",
        "\r\n",
        "# check if there are duplicated rows (the columns of the original dataframe)\r\n",
        "# this is a computionally expensive operation, so it might take a while\r\n",
        "# sum indicates how many rows are duplicated\r\n",
        "\r\n",
        "data_t.duplicated().sum()"
      ],
      "execution_count": 19,
      "outputs": [
        {
          "output_type": "execute_result",
          "data": {
            "text/plain": [
              "0"
            ]
          },
          "metadata": {
            "tags": []
          },
          "execution_count": 19
        }
      ]
    },
    {
      "cell_type": "markdown",
      "metadata": {
        "id": "lMFcz-nJujpY"
      },
      "source": [
        "Checking for date discrepancies"
      ]
    },
    {
      "cell_type": "code",
      "metadata": {
        "id": "Zy_HA122ui3O"
      },
      "source": [
        "values1=df[df['clear_date']<df['document_create_date.1']].index"
      ],
      "execution_count": 20,
      "outputs": []
    },
    {
      "cell_type": "code",
      "metadata": {
        "colab": {
          "base_uri": "https://localhost:8080/"
        },
        "id": "pQ480QsUusPH",
        "outputId": "26307430-81ec-4d3f-f67b-b0bc0c386043"
      },
      "source": [
        "values1 #Anomaly in data because clear_date can't be before the document_create_date.1"
      ],
      "execution_count": 21,
      "outputs": [
        {
          "output_type": "execute_result",
          "data": {
            "text/plain": [
              "Int64Index([], dtype='int64')"
            ]
          },
          "metadata": {
            "tags": []
          },
          "execution_count": 21
        }
      ]
    },
    {
      "cell_type": "code",
      "metadata": {
        "id": "5KlSQrVuusJr"
      },
      "source": [
        "values2=df[df['due_in_date']<df['document_create_date.1']].index"
      ],
      "execution_count": 22,
      "outputs": []
    },
    {
      "cell_type": "code",
      "metadata": {
        "colab": {
          "base_uri": "https://localhost:8080/"
        },
        "id": "VaEfQ-NJvEBZ",
        "outputId": "ebe072da-fb21-43e0-95c1-80e4a3b30a62"
      },
      "source": [
        "values2 #Anomalies found in data because due_in_date can't be before the document_create_date.1"
      ],
      "execution_count": 23,
      "outputs": [
        {
          "output_type": "execute_result",
          "data": {
            "text/plain": [
              "Int64Index([   87,   225,   337,   709,   760,   824,   997,  1008,  1646,\n",
              "             1718,\n",
              "            ...\n",
              "            47717, 47831, 48582, 48638, 48749, 48993, 49167, 49255, 49851,\n",
              "            49919],\n",
              "           dtype='int64', length=162)"
            ]
          },
          "metadata": {
            "tags": []
          },
          "execution_count": 23
        }
      ]
    },
    {
      "cell_type": "code",
      "metadata": {
        "id": "zMIJbVivvkl-"
      },
      "source": [
        "values3=df[df['clear_date']<df['baseline_create_date']].index #Anomalies found with clear_date before baseline_date that needs to be dropped"
      ],
      "execution_count": 24,
      "outputs": []
    },
    {
      "cell_type": "code",
      "metadata": {
        "colab": {
          "base_uri": "https://localhost:8080/"
        },
        "id": "RcI7mu1nvqBW",
        "outputId": "e07f0062-0f7f-4c63-e672-a45cfb64de9b"
      },
      "source": [
        "values3"
      ],
      "execution_count": 25,
      "outputs": [
        {
          "output_type": "execute_result",
          "data": {
            "text/plain": [
              "Int64Index([7894, 14185, 16216, 17052, 17060, 20206, 28663, 33274], dtype='int64')"
            ]
          },
          "metadata": {
            "tags": []
          },
          "execution_count": 25
        }
      ]
    },
    {
      "cell_type": "code",
      "metadata": {
        "id": "rPM3RoX_wX_n"
      },
      "source": [
        "values4=df[df['due_in_date']<df['baseline_create_date']].index"
      ],
      "execution_count": 26,
      "outputs": []
    },
    {
      "cell_type": "code",
      "metadata": {
        "colab": {
          "base_uri": "https://localhost:8080/"
        },
        "id": "DDkVXohswZmG",
        "outputId": "84091831-b04f-4b0a-cd3f-ccc9801b1e31"
      },
      "source": [
        "values4"
      ],
      "execution_count": 27,
      "outputs": [
        {
          "output_type": "execute_result",
          "data": {
            "text/plain": [
              "Int64Index([], dtype='int64')"
            ]
          },
          "metadata": {
            "tags": []
          },
          "execution_count": 27
        }
      ]
    },
    {
      "cell_type": "code",
      "metadata": {
        "id": "-30QFpOVNm_5"
      },
      "source": [
        "is_same=df['posting_date']==df['document_create_date.1']"
      ],
      "execution_count": 28,
      "outputs": []
    },
    {
      "cell_type": "code",
      "metadata": {
        "colab": {
          "base_uri": "https://localhost:8080/"
        },
        "id": "eSW5WaeUNslu",
        "outputId": "dab317ed-5cb1-4757-eb1d-945886f7d386"
      },
      "source": [
        "is_same.value_counts() #since values are nearly same, we are going to drop this column."
      ],
      "execution_count": 29,
      "outputs": [
        {
          "output_type": "execute_result",
          "data": {
            "text/plain": [
              "True     49992\n",
              "False        8\n",
              "dtype: int64"
            ]
          },
          "metadata": {
            "tags": []
          },
          "execution_count": 29
        }
      ]
    },
    {
      "cell_type": "markdown",
      "metadata": {
        "id": "bNQ_r3MovN53"
      },
      "source": [
        "Dropping rows that contain date discrepancies"
      ]
    },
    {
      "cell_type": "code",
      "metadata": {
        "id": "8VzKd1WmvMx9"
      },
      "source": [
        "df.drop(values2,inplace=True)"
      ],
      "execution_count": 30,
      "outputs": []
    },
    {
      "cell_type": "code",
      "metadata": {
        "id": "VU-2w9nxwR4Q"
      },
      "source": [
        "df.drop(values3,inplace=True)"
      ],
      "execution_count": 31,
      "outputs": []
    },
    {
      "cell_type": "code",
      "metadata": {
        "id": "Wtp0OYcMvrqg"
      },
      "source": [
        "df.drop(values4,inplace=True)"
      ],
      "execution_count": 32,
      "outputs": []
    },
    {
      "cell_type": "code",
      "metadata": {
        "id": "6X4Hb39ewndL"
      },
      "source": [
        "#Dropping document_create_date since we will be working on document_create_date.1\r\n",
        "df.drop('document_create_date',axis=1,inplace=True)"
      ],
      "execution_count": 33,
      "outputs": []
    },
    {
      "cell_type": "code",
      "metadata": {
        "id": "gfCGD2R-PFZ2"
      },
      "source": [
        "df.drop(columns = 'posting_date' , inplace = True)"
      ],
      "execution_count": 34,
      "outputs": []
    },
    {
      "cell_type": "markdown",
      "metadata": {
        "id": "NSRNRWzdw98z"
      },
      "source": [
        "Sorting the DataFrame according to our target column"
      ]
    },
    {
      "cell_type": "code",
      "metadata": {
        "id": "NRBhZnnyw-0y"
      },
      "source": [
        "df = df.sort_values(['document_create_date.1'], ascending = (True))#sort the given data in terms of clear date"
      ],
      "execution_count": 35,
      "outputs": []
    },
    {
      "cell_type": "code",
      "metadata": {
        "colab": {
          "base_uri": "https://localhost:8080/",
          "height": 222
        },
        "id": "iRH1EFcfxKVJ",
        "outputId": "b89aa8a0-80d2-4449-ce3b-171c667847ba"
      },
      "source": [
        "df.head()"
      ],
      "execution_count": 36,
      "outputs": [
        {
          "output_type": "execute_result",
          "data": {
            "text/html": [
              "<div>\n",
              "<style scoped>\n",
              "    .dataframe tbody tr th:only-of-type {\n",
              "        vertical-align: middle;\n",
              "    }\n",
              "\n",
              "    .dataframe tbody tr th {\n",
              "        vertical-align: top;\n",
              "    }\n",
              "\n",
              "    .dataframe thead th {\n",
              "        text-align: right;\n",
              "    }\n",
              "</style>\n",
              "<table border=\"1\" class=\"dataframe\">\n",
              "  <thead>\n",
              "    <tr style=\"text-align: right;\">\n",
              "      <th></th>\n",
              "      <th>business_code</th>\n",
              "      <th>cust_number</th>\n",
              "      <th>name_customer</th>\n",
              "      <th>clear_date</th>\n",
              "      <th>buisness_year</th>\n",
              "      <th>document_create_date.1</th>\n",
              "      <th>due_in_date</th>\n",
              "      <th>invoice_currency</th>\n",
              "      <th>total_open_amount</th>\n",
              "      <th>baseline_create_date</th>\n",
              "      <th>cust_payment_terms</th>\n",
              "      <th>isOpen</th>\n",
              "    </tr>\n",
              "  </thead>\n",
              "  <tbody>\n",
              "    <tr>\n",
              "      <th>35774</th>\n",
              "      <td>U001</td>\n",
              "      <td>200769623</td>\n",
              "      <td>WAL-MAR corp</td>\n",
              "      <td>2019-01-09</td>\n",
              "      <td>2019</td>\n",
              "      <td>2018-12-30</td>\n",
              "      <td>2019-01-14</td>\n",
              "      <td>USD</td>\n",
              "      <td>1260.47</td>\n",
              "      <td>2018-12-30</td>\n",
              "      <td>NAH4</td>\n",
              "      <td>0</td>\n",
              "    </tr>\n",
              "    <tr>\n",
              "      <th>41151</th>\n",
              "      <td>U001</td>\n",
              "      <td>200769623</td>\n",
              "      <td>WAL-MAR co</td>\n",
              "      <td>2019-01-10</td>\n",
              "      <td>2019</td>\n",
              "      <td>2018-12-30</td>\n",
              "      <td>2019-01-14</td>\n",
              "      <td>USD</td>\n",
              "      <td>53468.80</td>\n",
              "      <td>2018-12-30</td>\n",
              "      <td>NAH4</td>\n",
              "      <td>0</td>\n",
              "    </tr>\n",
              "    <tr>\n",
              "      <th>41157</th>\n",
              "      <td>U001</td>\n",
              "      <td>200729290</td>\n",
              "      <td>KROGER corp</td>\n",
              "      <td>2019-01-14</td>\n",
              "      <td>2019</td>\n",
              "      <td>2018-12-30</td>\n",
              "      <td>2019-01-14</td>\n",
              "      <td>USD</td>\n",
              "      <td>16967.72</td>\n",
              "      <td>2018-12-30</td>\n",
              "      <td>NAA8</td>\n",
              "      <td>0</td>\n",
              "    </tr>\n",
              "    <tr>\n",
              "      <th>5314</th>\n",
              "      <td>U001</td>\n",
              "      <td>200769623</td>\n",
              "      <td>WAL-MAR corp</td>\n",
              "      <td>2019-01-15</td>\n",
              "      <td>2019</td>\n",
              "      <td>2018-12-30</td>\n",
              "      <td>2019-01-14</td>\n",
              "      <td>USD</td>\n",
              "      <td>8187.79</td>\n",
              "      <td>2018-12-30</td>\n",
              "      <td>NAH4</td>\n",
              "      <td>0</td>\n",
              "    </tr>\n",
              "    <tr>\n",
              "      <th>9496</th>\n",
              "      <td>U001</td>\n",
              "      <td>200762301</td>\n",
              "      <td>C&amp;S WH corp</td>\n",
              "      <td>2019-01-15</td>\n",
              "      <td>2019</td>\n",
              "      <td>2018-12-30</td>\n",
              "      <td>2019-01-14</td>\n",
              "      <td>USD</td>\n",
              "      <td>121095.61</td>\n",
              "      <td>2018-12-30</td>\n",
              "      <td>NAC6</td>\n",
              "      <td>0</td>\n",
              "    </tr>\n",
              "  </tbody>\n",
              "</table>\n",
              "</div>"
            ],
            "text/plain": [
              "      business_code cust_number  ... cust_payment_terms isOpen\n",
              "35774          U001   200769623  ...               NAH4      0\n",
              "41151          U001   200769623  ...               NAH4      0\n",
              "41157          U001   200729290  ...               NAA8      0\n",
              "5314           U001   200769623  ...               NAH4      0\n",
              "9496           U001   200762301  ...               NAC6      0\n",
              "\n",
              "[5 rows x 12 columns]"
            ]
          },
          "metadata": {
            "tags": []
          },
          "execution_count": 36
        }
      ]
    },
    {
      "cell_type": "markdown",
      "metadata": {
        "id": "MuYG94un8oWl"
      },
      "source": [
        "### Encoding our categorical columns"
      ]
    },
    {
      "cell_type": "code",
      "metadata": {
        "id": "n-m6cHjX8oxK"
      },
      "source": [
        "from sklearn.preprocessing import LabelEncoder\r\n",
        "le=LabelEncoder()"
      ],
      "execution_count": 37,
      "outputs": []
    },
    {
      "cell_type": "code",
      "metadata": {
        "id": "WcWSIDsW9W3X"
      },
      "source": [
        "df[\"business_code\"]=le.fit_transform(df[\"business_code\"])\r\n",
        "df[\"name_customer\"]=le.fit_transform(df[\"name_customer\"])\r\n",
        "df[\"invoice_currency\"]=le.fit_transform(df[\"invoice_currency\"])\r\n",
        "df[\"cust_payment_terms\"]=le.fit_transform(df[\"cust_payment_terms\"])"
      ],
      "execution_count": 38,
      "outputs": []
    },
    {
      "cell_type": "code",
      "metadata": {
        "colab": {
          "base_uri": "https://localhost:8080/",
          "height": 527
        },
        "id": "vWc5y2TU2sX_",
        "outputId": "ee677cfb-bfb0-472d-ae95-b9450888278e"
      },
      "source": [
        "import seaborn as sns\r\n",
        "fig, ax = plt.subplots(figsize=(9, 7))\r\n",
        "sns.heatmap(df.corr(),cmap=\"Blues\")\r\n",
        "sns.set()\r\n",
        "plt.show()"
      ],
      "execution_count": 39,
      "outputs": [
        {
          "output_type": "display_data",
          "data": {
            "image/png": "[encoded data removed]",
            "text/plain": [
              "<Figure size 648x504 with 2 Axes>"
            ]
          },
          "metadata": {
            "tags": [],
            "needs_background": "light"
          }
        }
      ]
    },
    {
      "cell_type": "markdown",
      "metadata": {
        "id": "lWzeENR5kscL"
      },
      "source": [
        "Converting the currency of total open amount"
      ]
    },
    {
      "cell_type": "code",
      "metadata": {
        "id": "0s51Gj_sjGTX"
      },
      "source": [
        "import numpy as np\r\n",
        "df[\"total_open_amount\"]=np.where(df[\"invoice_currency\"]==\"USD\", df[\"total_open_amount\"],0.78*df[\"total_open_amount\"])"
      ],
      "execution_count": 40,
      "outputs": []
    },
    {
      "cell_type": "code",
      "metadata": {
        "id": "oaLjLUWBlion"
      },
      "source": [
        "#Dropping column invoice_currency since it is useless\r\n",
        "df.drop('invoice_currency',axis=1,inplace=True)"
      ],
      "execution_count": 41,
      "outputs": []
    },
    {
      "cell_type": "markdown",
      "metadata": {
        "id": "2dTvZwww2Q0s"
      },
      "source": [
        "### Train-Test-Validation Split"
      ]
    },
    {
      "cell_type": "code",
      "metadata": {
        "id": "nH_xPaK8lyAh"
      },
      "source": [
        "train=df.dropna(axis = 0, how='any')\r\n",
        "train.reset_index(drop=True,inplace=True)"
      ],
      "execution_count": 42,
      "outputs": []
    },
    {
      "cell_type": "code",
      "metadata": {
        "colab": {
          "base_uri": "https://localhost:8080/",
          "height": 161
        },
        "id": "TFug6e1Y0EMZ",
        "outputId": "d72ee880-6808-4a4b-f55c-9436aaf95951"
      },
      "source": [
        "train.head(3)"
      ],
      "execution_count": 43,
      "outputs": [
        {
          "output_type": "execute_result",
          "data": {
            "text/html": [
              "<div>\n",
              "<style scoped>\n",
              "    .dataframe tbody tr th:only-of-type {\n",
              "        vertical-align: middle;\n",
              "    }\n",
              "\n",
              "    .dataframe tbody tr th {\n",
              "        vertical-align: top;\n",
              "    }\n",
              "\n",
              "    .dataframe thead th {\n",
              "        text-align: right;\n",
              "    }\n",
              "</style>\n",
              "<table border=\"1\" class=\"dataframe\">\n",
              "  <thead>\n",
              "    <tr style=\"text-align: right;\">\n",
              "      <th></th>\n",
              "      <th>business_code</th>\n",
              "      <th>cust_number</th>\n",
              "      <th>name_customer</th>\n",
              "      <th>clear_date</th>\n",
              "      <th>buisness_year</th>\n",
              "      <th>document_create_date.1</th>\n",
              "      <th>due_in_date</th>\n",
              "      <th>total_open_amount</th>\n",
              "      <th>baseline_create_date</th>\n",
              "      <th>cust_payment_terms</th>\n",
              "      <th>isOpen</th>\n",
              "    </tr>\n",
              "  </thead>\n",
              "  <tbody>\n",
              "    <tr>\n",
              "      <th>0</th>\n",
              "      <td>1</td>\n",
              "      <td>200769623</td>\n",
              "      <td>4147</td>\n",
              "      <td>2019-01-09</td>\n",
              "      <td>2019</td>\n",
              "      <td>2018-12-30</td>\n",
              "      <td>2019-01-14</td>\n",
              "      <td>983.1666</td>\n",
              "      <td>2018-12-30</td>\n",
              "      <td>39</td>\n",
              "      <td>0</td>\n",
              "    </tr>\n",
              "    <tr>\n",
              "      <th>1</th>\n",
              "      <td>1</td>\n",
              "      <td>200769623</td>\n",
              "      <td>4146</td>\n",
              "      <td>2019-01-10</td>\n",
              "      <td>2019</td>\n",
              "      <td>2018-12-30</td>\n",
              "      <td>2019-01-14</td>\n",
              "      <td>41705.6640</td>\n",
              "      <td>2018-12-30</td>\n",
              "      <td>39</td>\n",
              "      <td>0</td>\n",
              "    </tr>\n",
              "    <tr>\n",
              "      <th>2</th>\n",
              "      <td>1</td>\n",
              "      <td>200729290</td>\n",
              "      <td>2239</td>\n",
              "      <td>2019-01-14</td>\n",
              "      <td>2019</td>\n",
              "      <td>2018-12-30</td>\n",
              "      <td>2019-01-14</td>\n",
              "      <td>13234.8216</td>\n",
              "      <td>2018-12-30</td>\n",
              "      <td>23</td>\n",
              "      <td>0</td>\n",
              "    </tr>\n",
              "  </tbody>\n",
              "</table>\n",
              "</div>"
            ],
            "text/plain": [
              "   business_code cust_number  ...  cust_payment_terms isOpen\n",
              "0              1   200769623  ...                  39      0\n",
              "1              1   200769623  ...                  39      0\n",
              "2              1   200729290  ...                  23      0\n",
              "\n",
              "[3 rows x 11 columns]"
            ]
          },
          "metadata": {
            "tags": []
          },
          "execution_count": 43
        }
      ]
    },
    {
      "cell_type": "code",
      "metadata": {
        "id": "1Ms6viTlCSCg"
      },
      "source": [
        "test=df[df.clear_date.isnull()]"
      ],
      "execution_count": 44,
      "outputs": []
    },
    {
      "cell_type": "code",
      "metadata": {
        "colab": {
          "base_uri": "https://localhost:8080/",
          "height": 222
        },
        "id": "LbHkPRkSybVM",
        "outputId": "d291e257-ecb7-4eba-e69c-21ab71d4aaa6"
      },
      "source": [
        "test.head()"
      ],
      "execution_count": 45,
      "outputs": [
        {
          "output_type": "execute_result",
          "data": {
            "text/html": [
              "<div>\n",
              "<style scoped>\n",
              "    .dataframe tbody tr th:only-of-type {\n",
              "        vertical-align: middle;\n",
              "    }\n",
              "\n",
              "    .dataframe tbody tr th {\n",
              "        vertical-align: top;\n",
              "    }\n",
              "\n",
              "    .dataframe thead th {\n",
              "        text-align: right;\n",
              "    }\n",
              "</style>\n",
              "<table border=\"1\" class=\"dataframe\">\n",
              "  <thead>\n",
              "    <tr style=\"text-align: right;\">\n",
              "      <th></th>\n",
              "      <th>business_code</th>\n",
              "      <th>cust_number</th>\n",
              "      <th>name_customer</th>\n",
              "      <th>clear_date</th>\n",
              "      <th>buisness_year</th>\n",
              "      <th>document_create_date.1</th>\n",
              "      <th>due_in_date</th>\n",
              "      <th>total_open_amount</th>\n",
              "      <th>baseline_create_date</th>\n",
              "      <th>cust_payment_terms</th>\n",
              "      <th>isOpen</th>\n",
              "    </tr>\n",
              "  </thead>\n",
              "  <tbody>\n",
              "    <tr>\n",
              "      <th>47203</th>\n",
              "      <td>1</td>\n",
              "      <td>200739534</td>\n",
              "      <td>2844</td>\n",
              "      <td>NaT</td>\n",
              "      <td>2020</td>\n",
              "      <td>2020-02-27</td>\n",
              "      <td>2020-03-13</td>\n",
              "      <td>28082.9874</td>\n",
              "      <td>2020-02-27</td>\n",
              "      <td>23</td>\n",
              "      <td>1</td>\n",
              "    </tr>\n",
              "    <tr>\n",
              "      <th>45426</th>\n",
              "      <td>1</td>\n",
              "      <td>200769623</td>\n",
              "      <td>4154</td>\n",
              "      <td>NaT</td>\n",
              "      <td>2020</td>\n",
              "      <td>2020-02-27</td>\n",
              "      <td>2020-03-13</td>\n",
              "      <td>54271.9086</td>\n",
              "      <td>2020-02-27</td>\n",
              "      <td>39</td>\n",
              "      <td>1</td>\n",
              "    </tr>\n",
              "    <tr>\n",
              "      <th>49594</th>\n",
              "      <td>1</td>\n",
              "      <td>200759878</td>\n",
              "      <td>3323</td>\n",
              "      <td>NaT</td>\n",
              "      <td>2020</td>\n",
              "      <td>2020-02-27</td>\n",
              "      <td>2020-03-13</td>\n",
              "      <td>20840.0946</td>\n",
              "      <td>2020-02-27</td>\n",
              "      <td>39</td>\n",
              "      <td>1</td>\n",
              "    </tr>\n",
              "    <tr>\n",
              "      <th>47104</th>\n",
              "      <td>1</td>\n",
              "      <td>200905809</td>\n",
              "      <td>3736</td>\n",
              "      <td>NaT</td>\n",
              "      <td>2020</td>\n",
              "      <td>2020-02-27</td>\n",
              "      <td>2020-03-30</td>\n",
              "      <td>3106.7634</td>\n",
              "      <td>2020-02-27</td>\n",
              "      <td>16</td>\n",
              "      <td>1</td>\n",
              "    </tr>\n",
              "    <tr>\n",
              "      <th>48052</th>\n",
              "      <td>1</td>\n",
              "      <td>200704858</td>\n",
              "      <td>4111</td>\n",
              "      <td>NaT</td>\n",
              "      <td>2020</td>\n",
              "      <td>2020-02-27</td>\n",
              "      <td>2020-03-13</td>\n",
              "      <td>27427.1946</td>\n",
              "      <td>2020-02-27</td>\n",
              "      <td>23</td>\n",
              "      <td>1</td>\n",
              "    </tr>\n",
              "  </tbody>\n",
              "</table>\n",
              "</div>"
            ],
            "text/plain": [
              "       business_code cust_number  ...  cust_payment_terms isOpen\n",
              "47203              1   200739534  ...                  23      1\n",
              "45426              1   200769623  ...                  39      1\n",
              "49594              1   200759878  ...                  39      1\n",
              "47104              1   200905809  ...                  16      1\n",
              "48052              1   200704858  ...                  23      1\n",
              "\n",
              "[5 rows x 11 columns]"
            ]
          },
          "metadata": {
            "tags": []
          },
          "execution_count": 45
        }
      ]
    },
    {
      "cell_type": "code",
      "metadata": {
        "colab": {
          "base_uri": "https://localhost:8080/"
        },
        "id": "1gXI7oIEDCp1",
        "outputId": "d2f961c4-d397-4997-e6a7-8ae72bff811f"
      },
      "source": [
        "print(train['document_create_date.1'].max())\r\n",
        "print(train['document_create_date.1'].min())"
      ],
      "execution_count": 46,
      "outputs": [
        {
          "output_type": "stream",
          "text": [
            "2020-02-27 00:00:00\n",
            "2018-12-30 00:00:00\n"
          ],
          "name": "stdout"
        }
      ]
    },
    {
      "cell_type": "code",
      "metadata": {
        "id": "P3Sa-ye6DCZc"
      },
      "source": [
        "train = train.sort_values(by=[\"document_create_date.1\"]) #sorting data by datewise on documnet create date\r\n",
        "train.reset_index(drop=True,inplace=True)"
      ],
      "execution_count": 47,
      "outputs": []
    },
    {
      "cell_type": "code",
      "metadata": {
        "colab": {
          "base_uri": "https://localhost:8080/"
        },
        "id": "8iB_pyWVFmy8",
        "outputId": "50460c04-8434-4265-c694-a8ca4098e9a2"
      },
      "source": [
        "X_train=train[train[\"document_create_date.1\"]<='2019-11-28'].copy()\r\n",
        "X_temp=train[train[\"document_create_date.1\"]>'2019-11-28'].copy()\r\n",
        "X_train.shape, X_temp.shape"
      ],
      "execution_count": 48,
      "outputs": [
        {
          "output_type": "execute_result",
          "data": {
            "text/plain": [
              "((37159, 11), (7937, 11))"
            ]
          },
          "metadata": {
            "tags": []
          },
          "execution_count": 48
        }
      ]
    },
    {
      "cell_type": "code",
      "metadata": {
        "id": "LgIfbVcaPRue"
      },
      "source": [
        "from sklearn.model_selection import train_test_split"
      ],
      "execution_count": 49,
      "outputs": []
    },
    {
      "cell_type": "code",
      "metadata": {
        "colab": {
          "base_uri": "https://localhost:8080/"
        },
        "id": "AUG0C0prHVAq",
        "outputId": "fdc1fba6-3a09-4424-eb50-e3cb9e75f1b3"
      },
      "source": [
        "x_val1, x_val2=train_test_split(X_temp, test_size=0.5, shuffle=False, random_state=0)\r\n",
        "x_val1.shape, x_val2.shape"
      ],
      "execution_count": 50,
      "outputs": [
        {
          "output_type": "execute_result",
          "data": {
            "text/plain": [
              "((3968, 11), (3969, 11))"
            ]
          },
          "metadata": {
            "tags": []
          },
          "execution_count": 50
        }
      ]
    },
    {
      "cell_type": "markdown",
      "metadata": {
        "id": "n5tw5PKlIKPc"
      },
      "source": [
        "### Creating columns for calculating the delay in between the dates"
      ]
    },
    {
      "cell_type": "code",
      "metadata": {
        "colab": {
          "base_uri": "https://localhost:8080/",
          "height": 222
        },
        "id": "M93uliEvIEF3",
        "outputId": "588680c6-4688-4c7a-b16e-299a31d648e1"
      },
      "source": [
        "X_train['delay']=(X_train['clear_date']-X_train['due_in_date']).dt.days\r\n",
        "X_train['delay']=X_train['delay'].astype('int')\r\n",
        "X_train.reset_index(drop=True,inplace=True)\r\n",
        "X_train.head()"
      ],
      "execution_count": 51,
      "outputs": [
        {
          "output_type": "execute_result",
          "data": {
            "text/html": [
              "<div>\n",
              "<style scoped>\n",
              "    .dataframe tbody tr th:only-of-type {\n",
              "        vertical-align: middle;\n",
              "    }\n",
              "\n",
              "    .dataframe tbody tr th {\n",
              "        vertical-align: top;\n",
              "    }\n",
              "\n",
              "    .dataframe thead th {\n",
              "        text-align: right;\n",
              "    }\n",
              "</style>\n",
              "<table border=\"1\" class=\"dataframe\">\n",
              "  <thead>\n",
              "    <tr style=\"text-align: right;\">\n",
              "      <th></th>\n",
              "      <th>business_code</th>\n",
              "      <th>cust_number</th>\n",
              "      <th>name_customer</th>\n",
              "      <th>clear_date</th>\n",
              "      <th>buisness_year</th>\n",
              "      <th>document_create_date.1</th>\n",
              "      <th>due_in_date</th>\n",
              "      <th>total_open_amount</th>\n",
              "      <th>baseline_create_date</th>\n",
              "      <th>cust_payment_terms</th>\n",
              "      <th>isOpen</th>\n",
              "      <th>delay</th>\n",
              "    </tr>\n",
              "  </thead>\n",
              "  <tbody>\n",
              "    <tr>\n",
              "      <th>0</th>\n",
              "      <td>1</td>\n",
              "      <td>200769623</td>\n",
              "      <td>4147</td>\n",
              "      <td>2019-01-09</td>\n",
              "      <td>2019</td>\n",
              "      <td>2018-12-30</td>\n",
              "      <td>2019-01-14</td>\n",
              "      <td>983.1666</td>\n",
              "      <td>2018-12-30</td>\n",
              "      <td>39</td>\n",
              "      <td>0</td>\n",
              "      <td>-5</td>\n",
              "    </tr>\n",
              "    <tr>\n",
              "      <th>1</th>\n",
              "      <td>1</td>\n",
              "      <td>200769623</td>\n",
              "      <td>4151</td>\n",
              "      <td>2019-01-09</td>\n",
              "      <td>2019</td>\n",
              "      <td>2018-12-30</td>\n",
              "      <td>2019-01-14</td>\n",
              "      <td>12076.1940</td>\n",
              "      <td>2018-12-30</td>\n",
              "      <td>39</td>\n",
              "      <td>0</td>\n",
              "      <td>-5</td>\n",
              "    </tr>\n",
              "    <tr>\n",
              "      <th>2</th>\n",
              "      <td>1</td>\n",
              "      <td>200769623</td>\n",
              "      <td>4148</td>\n",
              "      <td>2019-01-10</td>\n",
              "      <td>2019</td>\n",
              "      <td>2018-12-30</td>\n",
              "      <td>2019-01-14</td>\n",
              "      <td>1189.6326</td>\n",
              "      <td>2018-12-30</td>\n",
              "      <td>39</td>\n",
              "      <td>0</td>\n",
              "      <td>-4</td>\n",
              "    </tr>\n",
              "    <tr>\n",
              "      <th>3</th>\n",
              "      <td>1</td>\n",
              "      <td>200769623</td>\n",
              "      <td>4145</td>\n",
              "      <td>2019-01-09</td>\n",
              "      <td>2019</td>\n",
              "      <td>2018-12-30</td>\n",
              "      <td>2019-01-14</td>\n",
              "      <td>3814.9722</td>\n",
              "      <td>2018-12-30</td>\n",
              "      <td>39</td>\n",
              "      <td>0</td>\n",
              "      <td>-5</td>\n",
              "    </tr>\n",
              "    <tr>\n",
              "      <th>4</th>\n",
              "      <td>1</td>\n",
              "      <td>200759878</td>\n",
              "      <td>3325</td>\n",
              "      <td>2019-01-15</td>\n",
              "      <td>2019</td>\n",
              "      <td>2018-12-30</td>\n",
              "      <td>2019-01-14</td>\n",
              "      <td>18733.2678</td>\n",
              "      <td>2018-12-30</td>\n",
              "      <td>39</td>\n",
              "      <td>0</td>\n",
              "      <td>1</td>\n",
              "    </tr>\n",
              "  </tbody>\n",
              "</table>\n",
              "</div>"
            ],
            "text/plain": [
              "   business_code cust_number  name_customer  ... cust_payment_terms  isOpen delay\n",
              "0              1   200769623           4147  ...                 39       0    -5\n",
              "1              1   200769623           4151  ...                 39       0    -5\n",
              "2              1   200769623           4148  ...                 39       0    -4\n",
              "3              1   200769623           4145  ...                 39       0    -5\n",
              "4              1   200759878           3325  ...                 39       0     1\n",
              "\n",
              "[5 rows x 12 columns]"
            ]
          },
          "metadata": {
            "tags": []
          },
          "execution_count": 51
        }
      ]
    },
    {
      "cell_type": "code",
      "metadata": {
        "id": "2rrlEc_hIvhD"
      },
      "source": [
        "import warnings\r\n",
        "warnings.filterwarnings('ignore')"
      ],
      "execution_count": 52,
      "outputs": []
    },
    {
      "cell_type": "code",
      "metadata": {
        "colab": {
          "base_uri": "https://localhost:8080/",
          "height": 161
        },
        "id": "W6jCc_90IbKv",
        "outputId": "fe46fbaf-acf2-4ab7-fdd0-9b686f9a4a0e"
      },
      "source": [
        "x_val1['delay']=(x_val1['clear_date']-x_val1['due_in_date']).dt.days\r\n",
        "x_val1['delay']=x_val1['delay'].astype(int)\r\n",
        "x_val2['delay']=(x_val2['clear_date']-x_val2['due_in_date']).dt.days\r\n",
        "x_val2['delay']=x_val2['delay'].astype(int)\r\n",
        "x_val1.reset_index(drop=True,inplace=True)\r\n",
        "x_val1.head(3)"
      ],
      "execution_count": 53,
      "outputs": [
        {
          "output_type": "execute_result",
          "data": {
            "text/html": [
              "<div>\n",
              "<style scoped>\n",
              "    .dataframe tbody tr th:only-of-type {\n",
              "        vertical-align: middle;\n",
              "    }\n",
              "\n",
              "    .dataframe tbody tr th {\n",
              "        vertical-align: top;\n",
              "    }\n",
              "\n",
              "    .dataframe thead th {\n",
              "        text-align: right;\n",
              "    }\n",
              "</style>\n",
              "<table border=\"1\" class=\"dataframe\">\n",
              "  <thead>\n",
              "    <tr style=\"text-align: right;\">\n",
              "      <th></th>\n",
              "      <th>business_code</th>\n",
              "      <th>cust_number</th>\n",
              "      <th>name_customer</th>\n",
              "      <th>clear_date</th>\n",
              "      <th>buisness_year</th>\n",
              "      <th>document_create_date.1</th>\n",
              "      <th>due_in_date</th>\n",
              "      <th>total_open_amount</th>\n",
              "      <th>baseline_create_date</th>\n",
              "      <th>cust_payment_terms</th>\n",
              "      <th>isOpen</th>\n",
              "      <th>delay</th>\n",
              "    </tr>\n",
              "  </thead>\n",
              "  <tbody>\n",
              "    <tr>\n",
              "      <th>0</th>\n",
              "      <td>1</td>\n",
              "      <td>200762301</td>\n",
              "      <td>589</td>\n",
              "      <td>2019-12-16</td>\n",
              "      <td>2019</td>\n",
              "      <td>2019-11-29</td>\n",
              "      <td>2019-12-14</td>\n",
              "      <td>56372.5188</td>\n",
              "      <td>2019-11-29</td>\n",
              "      <td>28</td>\n",
              "      <td>0</td>\n",
              "      <td>2</td>\n",
              "    </tr>\n",
              "    <tr>\n",
              "      <th>1</th>\n",
              "      <td>1</td>\n",
              "      <td>200704858</td>\n",
              "      <td>4114</td>\n",
              "      <td>2019-12-16</td>\n",
              "      <td>2019</td>\n",
              "      <td>2019-11-29</td>\n",
              "      <td>2019-12-14</td>\n",
              "      <td>78052.2366</td>\n",
              "      <td>2019-11-29</td>\n",
              "      <td>23</td>\n",
              "      <td>0</td>\n",
              "      <td>2</td>\n",
              "    </tr>\n",
              "    <tr>\n",
              "      <th>2</th>\n",
              "      <td>5</td>\n",
              "      <td>140103470</td>\n",
              "      <td>938</td>\n",
              "      <td>2019-12-23</td>\n",
              "      <td>2019</td>\n",
              "      <td>2019-11-29</td>\n",
              "      <td>2019-12-29</td>\n",
              "      <td>16732.0140</td>\n",
              "      <td>2019-11-29</td>\n",
              "      <td>62</td>\n",
              "      <td>0</td>\n",
              "      <td>-6</td>\n",
              "    </tr>\n",
              "  </tbody>\n",
              "</table>\n",
              "</div>"
            ],
            "text/plain": [
              "   business_code cust_number  name_customer  ... cust_payment_terms  isOpen delay\n",
              "0              1   200762301            589  ...                 28       0     2\n",
              "1              1   200704858           4114  ...                 23       0     2\n",
              "2              5   140103470            938  ...                 62       0    -6\n",
              "\n",
              "[3 rows x 12 columns]"
            ]
          },
          "metadata": {
            "tags": []
          },
          "execution_count": 53
        }
      ]
    },
    {
      "cell_type": "code",
      "metadata": {
        "colab": {
          "base_uri": "https://localhost:8080/",
          "height": 161
        },
        "id": "NDkbKO1cIj1q",
        "outputId": "ed02dc4e-f2d9-4e6f-da0f-bd4bf1e8d2b2"
      },
      "source": [
        "x_val2.reset_index(drop=True,inplace=True)\r\n",
        "x_val2.head(3)"
      ],
      "execution_count": 54,
      "outputs": [
        {
          "output_type": "execute_result",
          "data": {
            "text/html": [
              "<div>\n",
              "<style scoped>\n",
              "    .dataframe tbody tr th:only-of-type {\n",
              "        vertical-align: middle;\n",
              "    }\n",
              "\n",
              "    .dataframe tbody tr th {\n",
              "        vertical-align: top;\n",
              "    }\n",
              "\n",
              "    .dataframe thead th {\n",
              "        text-align: right;\n",
              "    }\n",
              "</style>\n",
              "<table border=\"1\" class=\"dataframe\">\n",
              "  <thead>\n",
              "    <tr style=\"text-align: right;\">\n",
              "      <th></th>\n",
              "      <th>business_code</th>\n",
              "      <th>cust_number</th>\n",
              "      <th>name_customer</th>\n",
              "      <th>clear_date</th>\n",
              "      <th>buisness_year</th>\n",
              "      <th>document_create_date.1</th>\n",
              "      <th>due_in_date</th>\n",
              "      <th>total_open_amount</th>\n",
              "      <th>baseline_create_date</th>\n",
              "      <th>cust_payment_terms</th>\n",
              "      <th>isOpen</th>\n",
              "      <th>delay</th>\n",
              "    </tr>\n",
              "  </thead>\n",
              "  <tbody>\n",
              "    <tr>\n",
              "      <th>0</th>\n",
              "      <td>1</td>\n",
              "      <td>200793088</td>\n",
              "      <td>1044</td>\n",
              "      <td>2020-02-04</td>\n",
              "      <td>2020</td>\n",
              "      <td>2020-01-20</td>\n",
              "      <td>2020-02-04</td>\n",
              "      <td>11908.6188</td>\n",
              "      <td>2020-01-20</td>\n",
              "      <td>23</td>\n",
              "      <td>0</td>\n",
              "      <td>0</td>\n",
              "    </tr>\n",
              "    <tr>\n",
              "      <th>1</th>\n",
              "      <td>1</td>\n",
              "      <td>200776463</td>\n",
              "      <td>2226</td>\n",
              "      <td>2020-02-04</td>\n",
              "      <td>2020</td>\n",
              "      <td>2020-01-20</td>\n",
              "      <td>2020-02-04</td>\n",
              "      <td>13782.7326</td>\n",
              "      <td>2020-01-20</td>\n",
              "      <td>23</td>\n",
              "      <td>0</td>\n",
              "      <td>0</td>\n",
              "    </tr>\n",
              "    <tr>\n",
              "      <th>2</th>\n",
              "      <td>1</td>\n",
              "      <td>200764795</td>\n",
              "      <td>3770</td>\n",
              "      <td>2020-02-07</td>\n",
              "      <td>2020</td>\n",
              "      <td>2020-01-20</td>\n",
              "      <td>2020-02-04</td>\n",
              "      <td>4673.0034</td>\n",
              "      <td>2020-01-20</td>\n",
              "      <td>23</td>\n",
              "      <td>0</td>\n",
              "      <td>3</td>\n",
              "    </tr>\n",
              "  </tbody>\n",
              "</table>\n",
              "</div>"
            ],
            "text/plain": [
              "   business_code cust_number  name_customer  ... cust_payment_terms  isOpen delay\n",
              "0              1   200793088           1044  ...                 23       0     0\n",
              "1              1   200776463           2226  ...                 23       0     0\n",
              "2              1   200764795           3770  ...                 23       0     3\n",
              "\n",
              "[3 rows x 12 columns]"
            ]
          },
          "metadata": {
            "tags": []
          },
          "execution_count": 54
        }
      ]
    },
    {
      "cell_type": "code",
      "metadata": {
        "colab": {
          "base_uri": "https://localhost:8080/"
        },
        "id": "lxZsUh1AI9wT",
        "outputId": "2a7c33e9-0ce7-410a-a61f-026484e18902"
      },
      "source": [
        "X_train.nunique()"
      ],
      "execution_count": 55,
      "outputs": [
        {
          "output_type": "execute_result",
          "data": {
            "text/plain": [
              "business_code                 6\n",
              "cust_number                1028\n",
              "name_customer              3816\n",
              "clear_date                  297\n",
              "buisness_year                 1\n",
              "document_create_date.1      334\n",
              "due_in_date                 373\n",
              "total_open_amount         33809\n",
              "baseline_create_date        343\n",
              "cust_payment_terms           66\n",
              "isOpen                        1\n",
              "delay                       189\n",
              "dtype: int64"
            ]
          },
          "metadata": {
            "tags": []
          },
          "execution_count": 55
        }
      ]
    },
    {
      "cell_type": "code",
      "metadata": {
        "colab": {
          "base_uri": "https://localhost:8080/",
          "height": 99
        },
        "id": "xkpHLQgicDE6",
        "outputId": "374531c6-fd75-4a1b-f02a-17e3c170c12b"
      },
      "source": [
        "X_train.head(1)"
      ],
      "execution_count": 56,
      "outputs": [
        {
          "output_type": "execute_result",
          "data": {
            "text/html": [
              "<div>\n",
              "<style scoped>\n",
              "    .dataframe tbody tr th:only-of-type {\n",
              "        vertical-align: middle;\n",
              "    }\n",
              "\n",
              "    .dataframe tbody tr th {\n",
              "        vertical-align: top;\n",
              "    }\n",
              "\n",
              "    .dataframe thead th {\n",
              "        text-align: right;\n",
              "    }\n",
              "</style>\n",
              "<table border=\"1\" class=\"dataframe\">\n",
              "  <thead>\n",
              "    <tr style=\"text-align: right;\">\n",
              "      <th></th>\n",
              "      <th>business_code</th>\n",
              "      <th>cust_number</th>\n",
              "      <th>name_customer</th>\n",
              "      <th>clear_date</th>\n",
              "      <th>buisness_year</th>\n",
              "      <th>document_create_date.1</th>\n",
              "      <th>due_in_date</th>\n",
              "      <th>total_open_amount</th>\n",
              "      <th>baseline_create_date</th>\n",
              "      <th>cust_payment_terms</th>\n",
              "      <th>isOpen</th>\n",
              "      <th>delay</th>\n",
              "    </tr>\n",
              "  </thead>\n",
              "  <tbody>\n",
              "    <tr>\n",
              "      <th>0</th>\n",
              "      <td>1</td>\n",
              "      <td>200769623</td>\n",
              "      <td>4147</td>\n",
              "      <td>2019-01-09</td>\n",
              "      <td>2019</td>\n",
              "      <td>2018-12-30</td>\n",
              "      <td>2019-01-14</td>\n",
              "      <td>983.1666</td>\n",
              "      <td>2018-12-30</td>\n",
              "      <td>39</td>\n",
              "      <td>0</td>\n",
              "      <td>-5</td>\n",
              "    </tr>\n",
              "  </tbody>\n",
              "</table>\n",
              "</div>"
            ],
            "text/plain": [
              "   business_code cust_number  name_customer  ... cust_payment_terms  isOpen delay\n",
              "0              1   200769623           4147  ...                 39       0    -5\n",
              "\n",
              "[1 rows x 12 columns]"
            ]
          },
          "metadata": {
            "tags": []
          },
          "execution_count": 56
        }
      ]
    },
    {
      "cell_type": "code",
      "metadata": {
        "colab": {
          "base_uri": "https://localhost:8080/",
          "height": 99
        },
        "id": "B4cJWxrCxpU4",
        "outputId": "637d2ec9-1229-4571-c968-9881e1d974db"
      },
      "source": [
        "test.head(1)"
      ],
      "execution_count": 57,
      "outputs": [
        {
          "output_type": "execute_result",
          "data": {
            "text/html": [
              "<div>\n",
              "<style scoped>\n",
              "    .dataframe tbody tr th:only-of-type {\n",
              "        vertical-align: middle;\n",
              "    }\n",
              "\n",
              "    .dataframe tbody tr th {\n",
              "        vertical-align: top;\n",
              "    }\n",
              "\n",
              "    .dataframe thead th {\n",
              "        text-align: right;\n",
              "    }\n",
              "</style>\n",
              "<table border=\"1\" class=\"dataframe\">\n",
              "  <thead>\n",
              "    <tr style=\"text-align: right;\">\n",
              "      <th></th>\n",
              "      <th>business_code</th>\n",
              "      <th>cust_number</th>\n",
              "      <th>name_customer</th>\n",
              "      <th>clear_date</th>\n",
              "      <th>buisness_year</th>\n",
              "      <th>document_create_date.1</th>\n",
              "      <th>due_in_date</th>\n",
              "      <th>total_open_amount</th>\n",
              "      <th>baseline_create_date</th>\n",
              "      <th>cust_payment_terms</th>\n",
              "      <th>isOpen</th>\n",
              "    </tr>\n",
              "  </thead>\n",
              "  <tbody>\n",
              "    <tr>\n",
              "      <th>47203</th>\n",
              "      <td>1</td>\n",
              "      <td>200739534</td>\n",
              "      <td>2844</td>\n",
              "      <td>NaT</td>\n",
              "      <td>2020</td>\n",
              "      <td>2020-02-27</td>\n",
              "      <td>2020-03-13</td>\n",
              "      <td>28082.9874</td>\n",
              "      <td>2020-02-27</td>\n",
              "      <td>23</td>\n",
              "      <td>1</td>\n",
              "    </tr>\n",
              "  </tbody>\n",
              "</table>\n",
              "</div>"
            ],
            "text/plain": [
              "       business_code cust_number  ...  cust_payment_terms isOpen\n",
              "47203              1   200739534  ...                  23      1\n",
              "\n",
              "[1 rows x 11 columns]"
            ]
          },
          "metadata": {
            "tags": []
          },
          "execution_count": 57
        }
      ]
    },
    {
      "cell_type": "code",
      "metadata": {
        "id": "wIkj5YqJJ1rz"
      },
      "source": [
        "#Dropping constant columns respresented by 1\r\n",
        "\r\n",
        "X_train.drop(columns = 'buisness_year' , inplace = True)\r\n",
        "X_train.drop(columns = 'isOpen' , inplace = True)\r\n",
        "x_val1.drop(columns = 'buisness_year' , inplace = True)\r\n",
        "x_val1.drop(columns = 'isOpen' , inplace = True)\r\n",
        "x_val2.drop(columns = 'buisness_year' , inplace = True)\r\n",
        "x_val2.drop(columns = 'isOpen' , inplace = True)\r\n",
        "test.drop(columns = 'buisness_year' , inplace = True)\r\n",
        "test.drop(columns = 'isOpen' , inplace = True)"
      ],
      "execution_count": 58,
      "outputs": []
    },
    {
      "cell_type": "code",
      "metadata": {
        "colab": {
          "base_uri": "https://localhost:8080/"
        },
        "id": "CeQeLeKCjK2E",
        "outputId": "73eebc10-0a42-4f81-8429-db9130c6cb60"
      },
      "source": [
        "X_train.shape,x_val1.shape,x_val2.shape"
      ],
      "execution_count": 59,
      "outputs": [
        {
          "output_type": "execute_result",
          "data": {
            "text/plain": [
              "((37159, 10), (3968, 10), (3969, 10))"
            ]
          },
          "metadata": {
            "tags": []
          },
          "execution_count": 59
        }
      ]
    },
    {
      "cell_type": "markdown",
      "metadata": {
        "id": "NhryhBLXPdyc"
      },
      "source": [
        "**Understanding our split data better**"
      ]
    },
    {
      "cell_type": "code",
      "metadata": {
        "colab": {
          "base_uri": "https://localhost:8080/",
          "height": 331
        },
        "id": "A9ZOkoe7Pc_B",
        "outputId": "dbb11659-7a41-4d0f-de8b-c19e8feee545"
      },
      "source": [
        "import seaborn as sns\r\n",
        "print(X_train['total_open_amount'].skew())\r\n",
        "sns.distplot(train['total_open_amount']) #We can see total_open_amount is right skewed"
      ],
      "execution_count": 60,
      "outputs": [
        {
          "output_type": "stream",
          "text": [
            "2.5869465303948864\n"
          ],
          "name": "stdout"
        },
        {
          "output_type": "execute_result",
          "data": {
            "text/plain": [
              "<matplotlib.axes._subplots.AxesSubplot at 0x7f0665d91f98>"
            ]
          },
          "metadata": {
            "tags": []
          },
          "execution_count": 60
        },
        {
          "output_type": "display_data",
          "data": {
            "image/png": "[encoded data removed]",
            "text/plain": [
              "<Figure size 432x288 with 1 Axes>"
            ]
          },
          "metadata": {
            "tags": []
          }
        }
      ]
    },
    {
      "cell_type": "code",
      "metadata": {
        "id": "yuEsrcqYdJCd"
      },
      "source": [
        "import numpy as np "
      ],
      "execution_count": 61,
      "outputs": []
    },
    {
      "cell_type": "code",
      "metadata": {
        "colab": {
          "base_uri": "https://localhost:8080/",
          "height": 323
        },
        "id": "Joph8Q_PN7eG",
        "outputId": "205731c6-1b82-4d50-935b-b7c07f1cfbdd"
      },
      "source": [
        "x = np.log(X_train['total_open_amount'])\r\n",
        "print(x.skew())\r\n",
        "sns.distplot(np.log(X_train['total_open_amount'])) #Skew-ness improved"
      ],
      "execution_count": 62,
      "outputs": [
        {
          "output_type": "stream",
          "text": [
            "-0.9591522313728441\n"
          ],
          "name": "stdout"
        },
        {
          "output_type": "execute_result",
          "data": {
            "text/plain": [
              "<matplotlib.axes._subplots.AxesSubplot at 0x7f06658dccc0>"
            ]
          },
          "metadata": {
            "tags": []
          },
          "execution_count": 62
        },
        {
          "output_type": "display_data",
          "data": {
            "image/png": "[encoded data removed]",
            "text/plain": [
              "<Figure size 432x288 with 1 Axes>"
            ]
          },
          "metadata": {
            "tags": []
          }
        }
      ]
    },
    {
      "cell_type": "code",
      "metadata": {
        "colab": {
          "base_uri": "https://localhost:8080/",
          "height": 320
        },
        "id": "m-orL5OQdMfL",
        "outputId": "89bf5450-6f76-4b89-c9af-cf4c1894349c"
      },
      "source": [
        "x1 = np.sqrt(X_train['total_open_amount'])\r\n",
        "print(x1.skew())\r\n",
        "sns.distplot(np.sqrt(X_train['total_open_amount'])) #Better than previous observation"
      ],
      "execution_count": 63,
      "outputs": [
        {
          "output_type": "stream",
          "text": [
            "0.7513730108614226\n"
          ],
          "name": "stdout"
        },
        {
          "output_type": "execute_result",
          "data": {
            "text/plain": [
              "<matplotlib.axes._subplots.AxesSubplot at 0x7f0665778080>"
            ]
          },
          "metadata": {
            "tags": []
          },
          "execution_count": 63
        },
        {
          "output_type": "display_data",
          "data": {
            "image/png": "[encoded data removed]",
            "text/plain": [
              "<Figure size 432x288 with 1 Axes>"
            ]
          },
          "metadata": {
            "tags": []
          }
        }
      ]
    },
    {
      "cell_type": "code",
      "metadata": {
        "colab": {
          "base_uri": "https://localhost:8080/",
          "height": 303
        },
        "id": "NVYuMaCCdfBj",
        "outputId": "4d26850e-dccf-4ccb-edc8-72493ef8c564"
      },
      "source": [
        "from scipy import stats\r\n",
        "x2 = stats.boxcox(X_train['total_open_amount'])[0]\r\n",
        "x3 = pd.Series(x2)\r\n",
        "print(x3.skew())\r\n",
        "sns.distplot(x2) #Almost resembling a Gaussian Curve"
      ],
      "execution_count": 64,
      "outputs": [
        {
          "output_type": "stream",
          "text": [
            "-0.10314460217184436\n"
          ],
          "name": "stdout"
        },
        {
          "output_type": "execute_result",
          "data": {
            "text/plain": [
              "<matplotlib.axes._subplots.AxesSubplot at 0x7f06652e06a0>"
            ]
          },
          "metadata": {
            "tags": []
          },
          "execution_count": 64
        },
        {
          "output_type": "display_data",
          "data": {
            "image/png": "[encoded data removed]",
            "text/plain": [
              "<Figure size 432x288 with 1 Axes>"
            ]
          },
          "metadata": {
            "tags": []
          }
        }
      ]
    },
    {
      "cell_type": "code",
      "metadata": {
        "id": "kZ3_PNlOxabj"
      },
      "source": [
        "X_train['due_date_day']=X_train['due_in_date'].dt.day\r\n",
        "X_train['due_date_month']=X_train['due_in_date'].dt.month\r\n",
        "X_train['due_date_year']=X_train['due_in_date'].dt.year"
      ],
      "execution_count": 65,
      "outputs": []
    },
    {
      "cell_type": "code",
      "metadata": {
        "id": "ou2w7_YIBPQp"
      },
      "source": [
        "x_val1['due_date_day']=x_val1['due_in_date'].dt.day\r\n",
        "x_val1['due_date_month']=x_val1['due_in_date'].dt.month\r\n",
        "x_val1['due_date_year']=x_val1['due_in_date'].dt.year"
      ],
      "execution_count": 66,
      "outputs": []
    },
    {
      "cell_type": "code",
      "metadata": {
        "id": "2hUpWiSfBQbu"
      },
      "source": [
        "x_val2['due_date_day']=x_val2['due_in_date'].dt.day\r\n",
        "x_val2['due_date_month']=x_val2['due_in_date'].dt.month\r\n",
        "x_val2['due_date_year']=x_val2['due_in_date'].dt.year"
      ],
      "execution_count": 67,
      "outputs": []
    },
    {
      "cell_type": "code",
      "metadata": {
        "id": "zGNKjpCCfztd"
      },
      "source": [
        "test['due_date_day']=test['due_in_date'].dt.day\r\n",
        "test['due_date_month']=test['due_in_date'].dt.month\r\n",
        "test['due_date_year']=test['due_in_date'].dt.year"
      ],
      "execution_count": 68,
      "outputs": []
    },
    {
      "cell_type": "code",
      "metadata": {
        "id": "3Mdt3KIMxirS"
      },
      "source": [
        "X_train['baseline_date_day']=X_train['baseline_create_date'].dt.day\r\n",
        "X_train['baseline_date_month']=X_train['baseline_create_date'].dt.month\r\n",
        "X_train['baseline_date_year']=X_train['baseline_create_date'].dt.year"
      ],
      "execution_count": 69,
      "outputs": []
    },
    {
      "cell_type": "code",
      "metadata": {
        "id": "fqy4XiN-BRNv"
      },
      "source": [
        "x_val1['baseline_date_day']=x_val1['baseline_create_date'].dt.day\r\n",
        "x_val1['baseline_date_month']=x_val1['baseline_create_date'].dt.month\r\n",
        "x_val1['baseline_date_year']=x_val1['baseline_create_date'].dt.year"
      ],
      "execution_count": 70,
      "outputs": []
    },
    {
      "cell_type": "code",
      "metadata": {
        "id": "fx6XzDcJBRAx"
      },
      "source": [
        "x_val2['baseline_date_day']=x_val2['baseline_create_date'].dt.day\r\n",
        "x_val2['baseline_date_month']=x_val2['baseline_create_date'].dt.month\r\n",
        "x_val2['baseline_date_year']=x_val2['baseline_create_date'].dt.year"
      ],
      "execution_count": 71,
      "outputs": []
    },
    {
      "cell_type": "code",
      "metadata": {
        "id": "KsJqSn2nfqxY"
      },
      "source": [
        "test['baseline_date_day']=test['baseline_create_date'].dt.day\r\n",
        "test['baseline_date_month']=test['baseline_create_date'].dt.month\r\n",
        "test['baseline_date_year']=test['baseline_create_date'].dt.year"
      ],
      "execution_count": 72,
      "outputs": []
    },
    {
      "cell_type": "code",
      "metadata": {
        "id": "pwXGlKL8xpug"
      },
      "source": [
        "X_train['create_date_day']=X_train['document_create_date.1'].dt.day\r\n",
        "X_train['create_date_month']=X_train['document_create_date.1'].dt.month\r\n",
        "X_train['create_date_year']=X_train['document_create_date.1'].dt.year"
      ],
      "execution_count": 73,
      "outputs": []
    },
    {
      "cell_type": "code",
      "metadata": {
        "id": "JS1AZ6pIBSkp"
      },
      "source": [
        "x_val1['create_date_day']=x_val1['document_create_date.1'].dt.day\r\n",
        "x_val1['create_date_month']=x_val1['document_create_date.1'].dt.month\r\n",
        "x_val1['create_date_year']=x_val1['document_create_date.1'].dt.year"
      ],
      "execution_count": 74,
      "outputs": []
    },
    {
      "cell_type": "code",
      "metadata": {
        "id": "sOB4hg9LBSXv"
      },
      "source": [
        "x_val2['create_date_day']=x_val2['document_create_date.1'].dt.day\r\n",
        "x_val2['create_date_month']=x_val2['document_create_date.1'].dt.month\r\n",
        "x_val2['create_date_year']=x_val2['document_create_date.1'].dt.year"
      ],
      "execution_count": 75,
      "outputs": []
    },
    {
      "cell_type": "code",
      "metadata": {
        "id": "O5lRdpE3fiNq"
      },
      "source": [
        "test['create_date_day']=test['document_create_date.1'].dt.day\r\n",
        "test['create_date_month']=test['document_create_date.1'].dt.month\r\n",
        "test['create_date_year']=test['document_create_date.1'].dt.year"
      ],
      "execution_count": 76,
      "outputs": []
    },
    {
      "cell_type": "code",
      "metadata": {
        "colab": {
          "base_uri": "https://localhost:8080/",
          "height": 161
        },
        "id": "hypZ00kIx4Bn",
        "outputId": "ca45b257-80fe-4b69-a576-c30e96a4c72b"
      },
      "source": [
        "X_train.head(3)"
      ],
      "execution_count": 77,
      "outputs": [
        {
          "output_type": "execute_result",
          "data": {
            "text/html": [
              "<div>\n",
              "<style scoped>\n",
              "    .dataframe tbody tr th:only-of-type {\n",
              "        vertical-align: middle;\n",
              "    }\n",
              "\n",
              "    .dataframe tbody tr th {\n",
              "        vertical-align: top;\n",
              "    }\n",
              "\n",
              "    .dataframe thead th {\n",
              "        text-align: right;\n",
              "    }\n",
              "</style>\n",
              "<table border=\"1\" class=\"dataframe\">\n",
              "  <thead>\n",
              "    <tr style=\"text-align: right;\">\n",
              "      <th></th>\n",
              "      <th>business_code</th>\n",
              "      <th>cust_number</th>\n",
              "      <th>name_customer</th>\n",
              "      <th>clear_date</th>\n",
              "      <th>document_create_date.1</th>\n",
              "      <th>due_in_date</th>\n",
              "      <th>total_open_amount</th>\n",
              "      <th>baseline_create_date</th>\n",
              "      <th>cust_payment_terms</th>\n",
              "      <th>delay</th>\n",
              "      <th>due_date_day</th>\n",
              "      <th>due_date_month</th>\n",
              "      <th>due_date_year</th>\n",
              "      <th>baseline_date_day</th>\n",
              "      <th>baseline_date_month</th>\n",
              "      <th>baseline_date_year</th>\n",
              "      <th>create_date_day</th>\n",
              "      <th>create_date_month</th>\n",
              "      <th>create_date_year</th>\n",
              "    </tr>\n",
              "  </thead>\n",
              "  <tbody>\n",
              "    <tr>\n",
              "      <th>0</th>\n",
              "      <td>1</td>\n",
              "      <td>200769623</td>\n",
              "      <td>4147</td>\n",
              "      <td>2019-01-09</td>\n",
              "      <td>2018-12-30</td>\n",
              "      <td>2019-01-14</td>\n",
              "      <td>983.1666</td>\n",
              "      <td>2018-12-30</td>\n",
              "      <td>39</td>\n",
              "      <td>-5</td>\n",
              "      <td>14</td>\n",
              "      <td>1</td>\n",
              "      <td>2019</td>\n",
              "      <td>30</td>\n",
              "      <td>12</td>\n",
              "      <td>2018</td>\n",
              "      <td>30</td>\n",
              "      <td>12</td>\n",
              "      <td>2018</td>\n",
              "    </tr>\n",
              "    <tr>\n",
              "      <th>1</th>\n",
              "      <td>1</td>\n",
              "      <td>200769623</td>\n",
              "      <td>4151</td>\n",
              "      <td>2019-01-09</td>\n",
              "      <td>2018-12-30</td>\n",
              "      <td>2019-01-14</td>\n",
              "      <td>12076.1940</td>\n",
              "      <td>2018-12-30</td>\n",
              "      <td>39</td>\n",
              "      <td>-5</td>\n",
              "      <td>14</td>\n",
              "      <td>1</td>\n",
              "      <td>2019</td>\n",
              "      <td>30</td>\n",
              "      <td>12</td>\n",
              "      <td>2018</td>\n",
              "      <td>30</td>\n",
              "      <td>12</td>\n",
              "      <td>2018</td>\n",
              "    </tr>\n",
              "    <tr>\n",
              "      <th>2</th>\n",
              "      <td>1</td>\n",
              "      <td>200769623</td>\n",
              "      <td>4148</td>\n",
              "      <td>2019-01-10</td>\n",
              "      <td>2018-12-30</td>\n",
              "      <td>2019-01-14</td>\n",
              "      <td>1189.6326</td>\n",
              "      <td>2018-12-30</td>\n",
              "      <td>39</td>\n",
              "      <td>-4</td>\n",
              "      <td>14</td>\n",
              "      <td>1</td>\n",
              "      <td>2019</td>\n",
              "      <td>30</td>\n",
              "      <td>12</td>\n",
              "      <td>2018</td>\n",
              "      <td>30</td>\n",
              "      <td>12</td>\n",
              "      <td>2018</td>\n",
              "    </tr>\n",
              "  </tbody>\n",
              "</table>\n",
              "</div>"
            ],
            "text/plain": [
              "   business_code cust_number  ...  create_date_month create_date_year\n",
              "0              1   200769623  ...                 12             2018\n",
              "1              1   200769623  ...                 12             2018\n",
              "2              1   200769623  ...                 12             2018\n",
              "\n",
              "[3 rows x 19 columns]"
            ]
          },
          "metadata": {
            "tags": []
          },
          "execution_count": 77
        }
      ]
    },
    {
      "cell_type": "code",
      "metadata": {
        "id": "DatBtJkGqqTt"
      },
      "source": [
        "X_train.reset_index(drop=True,inplace=True)"
      ],
      "execution_count": 78,
      "outputs": []
    },
    {
      "cell_type": "code",
      "metadata": {
        "colab": {
          "base_uri": "https://localhost:8080/"
        },
        "id": "ueglKmUqClej",
        "outputId": "c9082b66-91e3-4f59-f5cc-8648e04371bd"
      },
      "source": [
        "X_train.shape"
      ],
      "execution_count": 79,
      "outputs": [
        {
          "output_type": "execute_result",
          "data": {
            "text/plain": [
              "(37159, 19)"
            ]
          },
          "metadata": {
            "tags": []
          },
          "execution_count": 79
        }
      ]
    },
    {
      "cell_type": "code",
      "metadata": {
        "id": "zVVyI2taqolu"
      },
      "source": [
        "x_val1.reset_index(drop=True,inplace=True)"
      ],
      "execution_count": 80,
      "outputs": []
    },
    {
      "cell_type": "code",
      "metadata": {
        "colab": {
          "base_uri": "https://localhost:8080/"
        },
        "id": "w7krhftWBawJ",
        "outputId": "eff85848-40be-482d-cd32-fa9d6b03606a"
      },
      "source": [
        "x_val1.shape"
      ],
      "execution_count": 81,
      "outputs": [
        {
          "output_type": "execute_result",
          "data": {
            "text/plain": [
              "(3968, 19)"
            ]
          },
          "metadata": {
            "tags": []
          },
          "execution_count": 81
        }
      ]
    },
    {
      "cell_type": "code",
      "metadata": {
        "id": "AC4JGLD5qi50"
      },
      "source": [
        "x_val2.reset_index(drop=True,inplace=True)"
      ],
      "execution_count": 82,
      "outputs": []
    },
    {
      "cell_type": "code",
      "metadata": {
        "colab": {
          "base_uri": "https://localhost:8080/"
        },
        "id": "vRzugDE8Bage",
        "outputId": "1d82098a-7824-4a20-9478-abd5e4984d4d"
      },
      "source": [
        "x_val2.shape"
      ],
      "execution_count": 83,
      "outputs": [
        {
          "output_type": "execute_result",
          "data": {
            "text/plain": [
              "(3969, 19)"
            ]
          },
          "metadata": {
            "tags": []
          },
          "execution_count": 83
        }
      ]
    },
    {
      "cell_type": "code",
      "metadata": {
        "colab": {
          "base_uri": "https://localhost:8080/"
        },
        "id": "vsAXV-kXf9kj",
        "outputId": "213837b3-fe6b-47fa-baf7-161f97d77d07"
      },
      "source": [
        "test.shape"
      ],
      "execution_count": 84,
      "outputs": [
        {
          "output_type": "execute_result",
          "data": {
            "text/plain": [
              "(4734, 18)"
            ]
          },
          "metadata": {
            "tags": []
          },
          "execution_count": 84
        }
      ]
    },
    {
      "cell_type": "code",
      "metadata": {
        "colab": {
          "base_uri": "https://localhost:8080/",
          "height": 99
        },
        "id": "M9dz7dsidQ56",
        "outputId": "1ef7c39a-f820-4f1f-cc90-3782ac389a14"
      },
      "source": [
        "X_train.head(1)"
      ],
      "execution_count": 85,
      "outputs": [
        {
          "output_type": "execute_result",
          "data": {
            "text/html": [
              "<div>\n",
              "<style scoped>\n",
              "    .dataframe tbody tr th:only-of-type {\n",
              "        vertical-align: middle;\n",
              "    }\n",
              "\n",
              "    .dataframe tbody tr th {\n",
              "        vertical-align: top;\n",
              "    }\n",
              "\n",
              "    .dataframe thead th {\n",
              "        text-align: right;\n",
              "    }\n",
              "</style>\n",
              "<table border=\"1\" class=\"dataframe\">\n",
              "  <thead>\n",
              "    <tr style=\"text-align: right;\">\n",
              "      <th></th>\n",
              "      <th>business_code</th>\n",
              "      <th>cust_number</th>\n",
              "      <th>name_customer</th>\n",
              "      <th>clear_date</th>\n",
              "      <th>document_create_date.1</th>\n",
              "      <th>due_in_date</th>\n",
              "      <th>total_open_amount</th>\n",
              "      <th>baseline_create_date</th>\n",
              "      <th>cust_payment_terms</th>\n",
              "      <th>delay</th>\n",
              "      <th>due_date_day</th>\n",
              "      <th>due_date_month</th>\n",
              "      <th>due_date_year</th>\n",
              "      <th>baseline_date_day</th>\n",
              "      <th>baseline_date_month</th>\n",
              "      <th>baseline_date_year</th>\n",
              "      <th>create_date_day</th>\n",
              "      <th>create_date_month</th>\n",
              "      <th>create_date_year</th>\n",
              "    </tr>\n",
              "  </thead>\n",
              "  <tbody>\n",
              "    <tr>\n",
              "      <th>0</th>\n",
              "      <td>1</td>\n",
              "      <td>200769623</td>\n",
              "      <td>4147</td>\n",
              "      <td>2019-01-09</td>\n",
              "      <td>2018-12-30</td>\n",
              "      <td>2019-01-14</td>\n",
              "      <td>983.1666</td>\n",
              "      <td>2018-12-30</td>\n",
              "      <td>39</td>\n",
              "      <td>-5</td>\n",
              "      <td>14</td>\n",
              "      <td>1</td>\n",
              "      <td>2019</td>\n",
              "      <td>30</td>\n",
              "      <td>12</td>\n",
              "      <td>2018</td>\n",
              "      <td>30</td>\n",
              "      <td>12</td>\n",
              "      <td>2018</td>\n",
              "    </tr>\n",
              "  </tbody>\n",
              "</table>\n",
              "</div>"
            ],
            "text/plain": [
              "   business_code cust_number  ...  create_date_month create_date_year\n",
              "0              1   200769623  ...                 12             2018\n",
              "\n",
              "[1 rows x 19 columns]"
            ]
          },
          "metadata": {
            "tags": []
          },
          "execution_count": 85
        }
      ]
    },
    {
      "cell_type": "code",
      "metadata": {
        "colab": {
          "base_uri": "https://localhost:8080/",
          "height": 99
        },
        "id": "Oulx3QAfdMIn",
        "outputId": "d5e3288b-c9f5-465f-c720-41621f1bd39d"
      },
      "source": [
        "x_val2.head(1)#index missing due to some reason"
      ],
      "execution_count": 86,
      "outputs": [
        {
          "output_type": "execute_result",
          "data": {
            "text/html": [
              "<div>\n",
              "<style scoped>\n",
              "    .dataframe tbody tr th:only-of-type {\n",
              "        vertical-align: middle;\n",
              "    }\n",
              "\n",
              "    .dataframe tbody tr th {\n",
              "        vertical-align: top;\n",
              "    }\n",
              "\n",
              "    .dataframe thead th {\n",
              "        text-align: right;\n",
              "    }\n",
              "</style>\n",
              "<table border=\"1\" class=\"dataframe\">\n",
              "  <thead>\n",
              "    <tr style=\"text-align: right;\">\n",
              "      <th></th>\n",
              "      <th>business_code</th>\n",
              "      <th>cust_number</th>\n",
              "      <th>name_customer</th>\n",
              "      <th>clear_date</th>\n",
              "      <th>document_create_date.1</th>\n",
              "      <th>due_in_date</th>\n",
              "      <th>total_open_amount</th>\n",
              "      <th>baseline_create_date</th>\n",
              "      <th>cust_payment_terms</th>\n",
              "      <th>delay</th>\n",
              "      <th>due_date_day</th>\n",
              "      <th>due_date_month</th>\n",
              "      <th>due_date_year</th>\n",
              "      <th>baseline_date_day</th>\n",
              "      <th>baseline_date_month</th>\n",
              "      <th>baseline_date_year</th>\n",
              "      <th>create_date_day</th>\n",
              "      <th>create_date_month</th>\n",
              "      <th>create_date_year</th>\n",
              "    </tr>\n",
              "  </thead>\n",
              "  <tbody>\n",
              "    <tr>\n",
              "      <th>0</th>\n",
              "      <td>1</td>\n",
              "      <td>200793088</td>\n",
              "      <td>1044</td>\n",
              "      <td>2020-02-04</td>\n",
              "      <td>2020-01-20</td>\n",
              "      <td>2020-02-04</td>\n",
              "      <td>11908.6188</td>\n",
              "      <td>2020-01-20</td>\n",
              "      <td>23</td>\n",
              "      <td>0</td>\n",
              "      <td>4</td>\n",
              "      <td>2</td>\n",
              "      <td>2020</td>\n",
              "      <td>20</td>\n",
              "      <td>1</td>\n",
              "      <td>2020</td>\n",
              "      <td>20</td>\n",
              "      <td>1</td>\n",
              "      <td>2020</td>\n",
              "    </tr>\n",
              "  </tbody>\n",
              "</table>\n",
              "</div>"
            ],
            "text/plain": [
              "   business_code cust_number  ...  create_date_month create_date_year\n",
              "0              1   200793088  ...                  1             2020\n",
              "\n",
              "[1 rows x 19 columns]"
            ]
          },
          "metadata": {
            "tags": []
          },
          "execution_count": 86
        }
      ]
    },
    {
      "cell_type": "code",
      "metadata": {
        "colab": {
          "base_uri": "https://localhost:8080/",
          "height": 340
        },
        "id": "DSFb5aPbx2IQ",
        "outputId": "7ad869b5-d662-4d6e-967e-e7b08a7acbad"
      },
      "source": [
        "X_train.plot(x=\"total_open_amount\", y=\"delay\", kind=\"scatter\")"
      ],
      "execution_count": 87,
      "outputs": [
        {
          "output_type": "stream",
          "text": [
            "*c* argument looks like a single numeric RGB or RGBA sequence, which should be avoided as value-mapping will have precedence in case its length matches with *x* & *y*.  Please use the *color* keyword-argument or provide a 2-D array with a single row if you intend to specify the same RGB or RGBA value for all points.\n"
          ],
          "name": "stderr"
        },
        {
          "output_type": "execute_result",
          "data": {
            "text/plain": [
              "<matplotlib.axes._subplots.AxesSubplot at 0x7f0665068c50>"
            ]
          },
          "metadata": {
            "tags": []
          },
          "execution_count": 87
        },
        {
          "output_type": "display_data",
          "data": {
            "image/png": "[encoded data removed]",
            "text/plain": [
              "<Figure size 432x288 with 1 Axes>"
            ]
          },
          "metadata": {
            "tags": []
          }
        }
      ]
    },
    {
      "cell_type": "code",
      "metadata": {
        "colab": {
          "base_uri": "https://localhost:8080/",
          "height": 340
        },
        "id": "etoLiXsyII7R",
        "outputId": "eb9eff7e-c0bb-4cb8-b2e1-a0681fcb9a9f"
      },
      "source": [
        "x_val1.plot(x=\"total_open_amount\", y=\"delay\", kind=\"scatter\")"
      ],
      "execution_count": 88,
      "outputs": [
        {
          "output_type": "stream",
          "text": [
            "*c* argument looks like a single numeric RGB or RGBA sequence, which should be avoided as value-mapping will have precedence in case its length matches with *x* & *y*.  Please use the *color* keyword-argument or provide a 2-D array with a single row if you intend to specify the same RGB or RGBA value for all points.\n"
          ],
          "name": "stderr"
        },
        {
          "output_type": "execute_result",
          "data": {
            "text/plain": [
              "<matplotlib.axes._subplots.AxesSubplot at 0x7f0664ec5198>"
            ]
          },
          "metadata": {
            "tags": []
          },
          "execution_count": 88
        },
        {
          "output_type": "display_data",
          "data": {
            "image/png": "[encoded data removed]",
            "text/plain": [
              "<Figure size 432x288 with 1 Axes>"
            ]
          },
          "metadata": {
            "tags": []
          }
        }
      ]
    },
    {
      "cell_type": "code",
      "metadata": {
        "colab": {
          "base_uri": "https://localhost:8080/",
          "height": 340
        },
        "id": "HJ9P5vLjIMTb",
        "outputId": "7cd2306a-f4f0-42ed-c710-43de48f98394"
      },
      "source": [
        "x_val2.plot(x=\"total_open_amount\", y=\"delay\", kind=\"scatter\")"
      ],
      "execution_count": 89,
      "outputs": [
        {
          "output_type": "stream",
          "text": [
            "*c* argument looks like a single numeric RGB or RGBA sequence, which should be avoided as value-mapping will have precedence in case its length matches with *x* & *y*.  Please use the *color* keyword-argument or provide a 2-D array with a single row if you intend to specify the same RGB or RGBA value for all points.\n"
          ],
          "name": "stderr"
        },
        {
          "output_type": "execute_result",
          "data": {
            "text/plain": [
              "<matplotlib.axes._subplots.AxesSubplot at 0x7f0664dca438>"
            ]
          },
          "metadata": {
            "tags": []
          },
          "execution_count": 89
        },
        {
          "output_type": "display_data",
          "data": {
            "image/png": "[encoded data removed]",
            "text/plain": [
              "<Figure size 432x288 with 1 Axes>"
            ]
          },
          "metadata": {
            "tags": []
          }
        }
      ]
    },
    {
      "cell_type": "code",
      "metadata": {
        "colab": {
          "base_uri": "https://localhost:8080/",
          "height": 467
        },
        "id": "1LE9AeBtx7CZ",
        "outputId": "e9d9a4ae-e1a1-46ec-9a9d-8ac770508204"
      },
      "source": [
        "plt.figure(figsize=(20,10))\r\n",
        "sns.boxplot(X_train['delay'])\r\n",
        "plt.show()"
      ],
      "execution_count": 90,
      "outputs": [
        {
          "output_type": "display_data",
          "data": {
            "image/png": "[encoded data removed]",
            "text/plain": [
              "<Figure size 1440x720 with 1 Axes>"
            ]
          },
          "metadata": {
            "tags": []
          }
        }
      ]
    },
    {
      "cell_type": "code",
      "metadata": {
        "colab": {
          "base_uri": "https://localhost:8080/",
          "height": 464
        },
        "id": "xkKZ4UXDIjfE",
        "outputId": "ac619921-d966-4111-dbeb-021f8d1d6c06"
      },
      "source": [
        "plt.figure(figsize=(20,10))\r\n",
        "sns.boxplot(x_val1['delay'])\r\n",
        "plt.show()"
      ],
      "execution_count": 91,
      "outputs": [
        {
          "output_type": "display_data",
          "data": {
            "image/png": "[encoded data removed]",
            "text/plain": [
              "<Figure size 1440x720 with 1 Axes>"
            ]
          },
          "metadata": {
            "tags": []
          }
        }
      ]
    },
    {
      "cell_type": "code",
      "metadata": {
        "colab": {
          "base_uri": "https://localhost:8080/",
          "height": 611
        },
        "id": "WtiBvqI1InkN",
        "outputId": "8beefed3-51c7-4953-8560-53883ee4af7a"
      },
      "source": [
        "plt.figure(figsize=(20,10))\r\n",
        "sns.boxplot(x_val2['delay'])\r\n",
        "plt.show()"
      ],
      "execution_count": 92,
      "outputs": [
        {
          "output_type": "display_data",
          "data": {
            "image/png": "[encoded data removed]",
            "text/plain": [
              "<Figure size 1440x720 with 1 Axes>"
            ]
          },
          "metadata": {
            "tags": []
          }
        }
      ]
    },
    {
      "cell_type": "code",
      "metadata": {
        "colab": {
          "base_uri": "https://localhost:8080/",
          "height": 394
        },
        "id": "ZAxYQSszzctN",
        "outputId": "f76c31d9-eebe-4a83-dd2b-155ce8a912d8"
      },
      "source": [
        "plt.figure(figsize=(20,6))\r\n",
        "sns.boxplot(X_train['total_open_amount'])\r\n",
        "plt.show()"
      ],
      "execution_count": 93,
      "outputs": [
        {
          "output_type": "display_data",
          "data": {
            "image/png": "[encoded data removed]",
            "text/plain": [
              "<Figure size 1440x432 with 1 Axes>"
            ]
          },
          "metadata": {
            "tags": []
          }
        }
      ]
    },
    {
      "cell_type": "code",
      "metadata": {
        "colab": {
          "base_uri": "https://localhost:8080/",
          "height": 467
        },
        "id": "PdPe4w15IwvY",
        "outputId": "8dd72a8f-c631-4b3b-9ca1-1be0fb066b31"
      },
      "source": [
        "plt.figure(figsize=(20,10))\r\n",
        "sns.boxplot(x_val1['total_open_amount'])\r\n",
        "plt.show()"
      ],
      "execution_count": 94,
      "outputs": [
        {
          "output_type": "display_data",
          "data": {
            "image/png": "[encoded data removed]",
            "text/plain": [
              "<Figure size 1440x720 with 1 Axes>"
            ]
          },
          "metadata": {
            "tags": []
          }
        }
      ]
    },
    {
      "cell_type": "code",
      "metadata": {
        "colab": {
          "base_uri": "https://localhost:8080/",
          "height": 467
        },
        "id": "ZkaPMQ7yIwiI",
        "outputId": "70d62c65-4b0b-4e08-b7a6-3ca8bdc90886"
      },
      "source": [
        "plt.figure(figsize=(20,10))\r\n",
        "sns.boxplot(x_val2['total_open_amount'])\r\n",
        "plt.show()"
      ],
      "execution_count": 95,
      "outputs": [
        {
          "output_type": "display_data",
          "data": {
            "image/png": "[encoded data removed]",
            "text/plain": [
              "<Figure size 1440x720 with 1 Axes>"
            ]
          },
          "metadata": {
            "tags": []
          }
        }
      ]
    },
    {
      "cell_type": "markdown",
      "metadata": {
        "id": "DwcArXVuzqCf"
      },
      "source": [
        "The above plots show that total_open_amount and delay columns has a lot of outliers."
      ]
    },
    {
      "cell_type": "markdown",
      "metadata": {
        "id": "AiXZc5wXz1GU"
      },
      "source": [
        "### IQR Treatment"
      ]
    },
    {
      "cell_type": "code",
      "metadata": {
        "colab": {
          "base_uri": "https://localhost:8080/"
        },
        "id": "bIwQqSByzpsb",
        "outputId": "354dac8f-f662-4906-e0d4-754f5a5e2c33"
      },
      "source": [
        "upper_lim1=X_train['total_open_amount'].quantile(0.99) \r\n",
        "print(upper_lim1)"
      ],
      "execution_count": 96,
      "outputs": [
        {
          "output_type": "stream",
          "text": [
            "129840.64797599992\n"
          ],
          "name": "stdout"
        }
      ]
    },
    {
      "cell_type": "code",
      "metadata": {
        "colab": {
          "base_uri": "https://localhost:8080/"
        },
        "id": "6M6GjHTRIZX-",
        "outputId": "22d960d3-528c-4529-9343-a0d523d39afb"
      },
      "source": [
        "upper_lim2=x_val1['total_open_amount'].quantile(0.99) \r\n",
        "print(upper_lim2)"
      ],
      "execution_count": 97,
      "outputs": [
        {
          "output_type": "stream",
          "text": [
            "130279.39524599988\n"
          ],
          "name": "stdout"
        }
      ]
    },
    {
      "cell_type": "code",
      "metadata": {
        "colab": {
          "base_uri": "https://localhost:8080/"
        },
        "id": "sj8jlMf9IZDq",
        "outputId": "9a0e1233-863d-4764-8768-2b36976c3003"
      },
      "source": [
        "upper_lim3=x_val2['total_open_amount'].quantile(0.99) \r\n",
        "print(upper_lim3)"
      ],
      "execution_count": 98,
      "outputs": [
        {
          "output_type": "stream",
          "text": [
            "122564.75743200019\n"
          ],
          "name": "stdout"
        }
      ]
    },
    {
      "cell_type": "code",
      "metadata": {
        "colab": {
          "base_uri": "https://localhost:8080/"
        },
        "id": "Ldoch1higEZK",
        "outputId": "2059902d-dd6f-45d2-93a9-666c2e7483e0"
      },
      "source": [
        "upper_lim4=test['total_open_amount'].quantile(0.99) \r\n",
        "print(upper_lim4)"
      ],
      "execution_count": 99,
      "outputs": [
        {
          "output_type": "stream",
          "text": [
            "121522.60512600001\n"
          ],
          "name": "stdout"
        }
      ]
    },
    {
      "cell_type": "code",
      "metadata": {
        "id": "7Av76ywKzlXf"
      },
      "source": [
        "X_train.loc[(X_train['total_open_amount']>upper_lim1),'total_open_amount']=upper_lim1"
      ],
      "execution_count": 100,
      "outputs": []
    },
    {
      "cell_type": "code",
      "metadata": {
        "id": "OarLTNRTJOQt"
      },
      "source": [
        "x_val1.loc[(x_val1['total_open_amount']>upper_lim2),'total_open_amount']=upper_lim2"
      ],
      "execution_count": 101,
      "outputs": []
    },
    {
      "cell_type": "code",
      "metadata": {
        "id": "_Vte1G81JOCw"
      },
      "source": [
        "x_val2.loc[(x_val2['total_open_amount']>upper_lim3),'total_open_amount']=upper_lim3"
      ],
      "execution_count": 102,
      "outputs": []
    },
    {
      "cell_type": "code",
      "metadata": {
        "id": "ypVzl-ydgJn1"
      },
      "source": [
        "test.loc[(test['total_open_amount']>upper_lim4),'total_open_amount']=upper_lim4"
      ],
      "execution_count": 103,
      "outputs": []
    },
    {
      "cell_type": "code",
      "metadata": {
        "colab": {
          "base_uri": "https://localhost:8080/",
          "height": 611
        },
        "id": "cnwKZRVl3gk-",
        "outputId": "a0b57c3f-1099-417a-caca-e4c439cd2f2a"
      },
      "source": [
        "plt.figure(figsize=(20,10))\r\n",
        "sns.boxplot(X_train['total_open_amount'])\r\n",
        "plt.show()"
      ],
      "execution_count": 104,
      "outputs": [
        {
          "output_type": "display_data",
          "data": {
            "image/png": "[encoded data removed]",
            "text/plain": [
              "<Figure size 1440x720 with 1 Axes>"
            ]
          },
          "metadata": {
            "tags": []
          }
        }
      ]
    },
    {
      "cell_type": "code",
      "metadata": {
        "colab": {
          "base_uri": "https://localhost:8080/",
          "height": 467
        },
        "id": "4d1iC_LMJvdr",
        "outputId": "cd6fd557-68a0-485d-9bde-e874d9d82981"
      },
      "source": [
        "plt.figure(figsize=(20,10))\r\n",
        "sns.boxplot(x_val1['total_open_amount'])\r\n",
        "plt.show()"
      ],
      "execution_count": 105,
      "outputs": [
        {
          "output_type": "display_data",
          "data": {
            "image/png": "[encoded data removed]",
            "text/plain": [
              "<Figure size 1440x720 with 1 Axes>"
            ]
          },
          "metadata": {
            "tags": []
          }
        }
      ]
    },
    {
      "cell_type": "code",
      "metadata": {
        "colab": {
          "base_uri": "https://localhost:8080/",
          "height": 467
        },
        "id": "TbiUUc2pJvUm",
        "outputId": "fcce55f8-33c0-42fb-f202-35862cfa0a13"
      },
      "source": [
        "plt.figure(figsize=(20,10))\r\n",
        "sns.boxplot(x_val2['total_open_amount'])\r\n",
        "plt.show()"
      ],
      "execution_count": 106,
      "outputs": [
        {
          "output_type": "display_data",
          "data": {
            "image/png": "[encoded data removed]",
            "text/plain": [
              "<Figure size 1440x720 with 1 Axes>"
            ]
          },
          "metadata": {
            "tags": []
          }
        }
      ]
    },
    {
      "cell_type": "code",
      "metadata": {
        "colab": {
          "base_uri": "https://localhost:8080/",
          "height": 467
        },
        "id": "LRF9G9DTpuwd",
        "outputId": "ca9f8d29-287b-48ec-86b3-cfbfcc585bf5"
      },
      "source": [
        "plt.figure(figsize=(20,10))\r\n",
        "sns.boxplot(test['total_open_amount'])\r\n",
        "plt.show()"
      ],
      "execution_count": 107,
      "outputs": [
        {
          "output_type": "display_data",
          "data": {
            "image/png": "[encoded data removed]",
            "text/plain": [
              "<Figure size 1440x720 with 1 Axes>"
            ]
          },
          "metadata": {
            "tags": []
          }
        }
      ]
    },
    {
      "cell_type": "code",
      "metadata": {
        "colab": {
          "base_uri": "https://localhost:8080/"
        },
        "id": "DXmWe9Bm3hY_",
        "outputId": "4ccb39ea-c7a3-44d4-905d-62f99d2d078d"
      },
      "source": [
        "upper_lim=X_train['delay'].quantile(0.94) #IQR treatment  of target\r\n",
        "lower_lim=X_train['delay'].quantile(0.05)\r\n",
        "print(upper_lim)\r\n",
        "print(lower_lim)"
      ],
      "execution_count": 108,
      "outputs": [
        {
          "output_type": "stream",
          "text": [
            "9.0\n",
            "-7.0\n"
          ],
          "name": "stdout"
        }
      ]
    },
    {
      "cell_type": "code",
      "metadata": {
        "colab": {
          "base_uri": "https://localhost:8080/"
        },
        "id": "hEKtEG5YNPjI",
        "outputId": "03d2390e-fe4e-442e-ebe2-4474121d9137"
      },
      "source": [
        "upper_lim2=x_val1['delay'].quantile(0.94) #IQR treatment  of target\r\n",
        "lower_lim2=x_val1['delay'].quantile(0.05)\r\n",
        "print(upper_lim2)\r\n",
        "print(lower_lim2)"
      ],
      "execution_count": 109,
      "outputs": [
        {
          "output_type": "stream",
          "text": [
            "6.0\n",
            "-8.0\n"
          ],
          "name": "stdout"
        }
      ]
    },
    {
      "cell_type": "code",
      "metadata": {
        "colab": {
          "base_uri": "https://localhost:8080/"
        },
        "id": "n8YufHQ2NPWV",
        "outputId": "46ce95fa-6302-454d-92c1-b7a1f066e19d"
      },
      "source": [
        "upper_lim3=x_val2['delay'].quantile(0.94) #IQR treatment  of target\r\n",
        "lower_lim3=x_val2['delay'].quantile(0.05)\r\n",
        "print(upper_lim3)\r\n",
        "print(lower_lim3)"
      ],
      "execution_count": 110,
      "outputs": [
        {
          "output_type": "stream",
          "text": [
            "10.0\n",
            "-9.0\n"
          ],
          "name": "stdout"
        }
      ]
    },
    {
      "cell_type": "code",
      "metadata": {
        "colab": {
          "base_uri": "https://localhost:8080/",
          "height": 467
        },
        "id": "4OzCdYzc3h9s",
        "outputId": "bff28fa8-0241-4727-c159-0995313698c1"
      },
      "source": [
        "plt.figure(figsize=(20,10))\r\n",
        "sns.boxplot(X_train['delay'])\r\n",
        "plt.show()"
      ],
      "execution_count": 111,
      "outputs": [
        {
          "output_type": "display_data",
          "data": {
            "image/png": "[encoded data removed]",
            "text/plain": [
              "<Figure size 1440x720 with 1 Axes>"
            ]
          },
          "metadata": {
            "tags": []
          }
        }
      ]
    },
    {
      "cell_type": "code",
      "metadata": {
        "colab": {
          "base_uri": "https://localhost:8080/",
          "height": 464
        },
        "id": "JrRXck09Nl7g",
        "outputId": "b5d227d6-fe15-454c-ad8a-c50fdfbc4660"
      },
      "source": [
        "plt.figure(figsize=(20,10))\r\n",
        "sns.boxplot(x_val1['delay'])\r\n",
        "plt.show()"
      ],
      "execution_count": 112,
      "outputs": [
        {
          "output_type": "display_data",
          "data": {
            "image/png": "[encoded data removed]",
            "text/plain": [
              "<Figure size 1440x720 with 1 Axes>"
            ]
          },
          "metadata": {
            "tags": []
          }
        }
      ]
    },
    {
      "cell_type": "code",
      "metadata": {
        "colab": {
          "base_uri": "https://localhost:8080/",
          "height": 467
        },
        "id": "c-3ZUwExNlnd",
        "outputId": "1bc89a13-aa2f-4b37-fb16-db23ff1ba6f4"
      },
      "source": [
        "plt.figure(figsize=(20,10))\r\n",
        "sns.boxplot(x_val2['delay'])\r\n",
        "plt.show()"
      ],
      "execution_count": 113,
      "outputs": [
        {
          "output_type": "display_data",
          "data": {
            "image/png": "[encoded data removed]",
            "text/plain": [
              "<Figure size 1440x720 with 1 Axes>"
            ]
          },
          "metadata": {
            "tags": []
          }
        }
      ]
    },
    {
      "cell_type": "code",
      "metadata": {
        "colab": {
          "base_uri": "https://localhost:8080/",
          "height": 599
        },
        "id": "TTziLPQ53_PW",
        "outputId": "115987fe-bdec-494d-8220-911d015c39b7"
      },
      "source": [
        "plt.figure(figsize=(20,10))   #Distribution Curve for X_train\r\n",
        "sns.distplot(X_train['delay'], bins=10)\r\n",
        "plt.show()"
      ],
      "execution_count": 114,
      "outputs": [
        {
          "output_type": "display_data",
          "data": {
            "image/png": "[encoded data removed]",
            "text/plain": [
              "<Figure size 1440x720 with 1 Axes>"
            ]
          },
          "metadata": {
            "tags": []
          }
        }
      ]
    },
    {
      "cell_type": "code",
      "metadata": {
        "colab": {
          "base_uri": "https://localhost:8080/",
          "height": 599
        },
        "id": "5hJsjzCANm-a",
        "outputId": "e3c0cd71-7e6b-48a4-b911-a38dddb293aa"
      },
      "source": [
        "plt.figure(figsize=(20,10))   #Distribution Curve for x_val1\r\n",
        "sns.distplot(x_val1['delay'], bins=10)\r\n",
        "plt.show()"
      ],
      "execution_count": 115,
      "outputs": [
        {
          "output_type": "display_data",
          "data": {
            "image/png": "[encoded data removed]",
            "text/plain": [
              "<Figure size 1440x720 with 1 Axes>"
            ]
          },
          "metadata": {
            "tags": []
          }
        }
      ]
    },
    {
      "cell_type": "code",
      "metadata": {
        "colab": {
          "base_uri": "https://localhost:8080/",
          "height": 448
        },
        "id": "dFExcUkKNmvU",
        "outputId": "4258b1c8-b550-4f44-c9b0-3720efecdcba"
      },
      "source": [
        "plt.figure(figsize=(20,10))   #Distribution Curve for x_val2\r\n",
        "sns.distplot(x_val2['delay'], bins=10)\r\n",
        "plt.show()"
      ],
      "execution_count": 116,
      "outputs": [
        {
          "output_type": "display_data",
          "data": {
            "image/png": "[encoded data removed]",
            "text/plain": [
              "<Figure size 1440x720 with 1 Axes>"
            ]
          },
          "metadata": {
            "tags": []
          }
        }
      ]
    },
    {
      "cell_type": "markdown",
      "metadata": {
        "id": "fE1Wrn7_K1o5"
      },
      "source": [
        "**Generating new columns for our data**"
      ]
    },
    {
      "cell_type": "code",
      "metadata": {
        "colab": {
          "base_uri": "https://localhost:8080/",
          "height": 446
        },
        "id": "hQkl4Pm45Uyf",
        "outputId": "393d0f20-075b-44ad-ee2c-7d7e0bcddd84"
      },
      "source": [
        "groupdata=X_train.groupby('name_customer')['delay'].agg('mean') # to see how much avg delay a customer can do\r\n",
        "avg_delay=groupdata.to_frame()\r\n",
        "avg_delay"
      ],
      "execution_count": 117,
      "outputs": [
        {
          "output_type": "execute_result",
          "data": {
            "text/html": [
              "<div>\n",
              "<style scoped>\n",
              "    .dataframe tbody tr th:only-of-type {\n",
              "        vertical-align: middle;\n",
              "    }\n",
              "\n",
              "    .dataframe tbody tr th {\n",
              "        vertical-align: top;\n",
              "    }\n",
              "\n",
              "    .dataframe thead th {\n",
              "        text-align: right;\n",
              "    }\n",
              "</style>\n",
              "<table border=\"1\" class=\"dataframe\">\n",
              "  <thead>\n",
              "    <tr style=\"text-align: right;\">\n",
              "      <th></th>\n",
              "      <th>delay</th>\n",
              "    </tr>\n",
              "    <tr>\n",
              "      <th>name_customer</th>\n",
              "      <th></th>\n",
              "    </tr>\n",
              "  </thead>\n",
              "  <tbody>\n",
              "    <tr>\n",
              "      <th>0</th>\n",
              "      <td>-3.0</td>\n",
              "    </tr>\n",
              "    <tr>\n",
              "      <th>1</th>\n",
              "      <td>2.0</td>\n",
              "    </tr>\n",
              "    <tr>\n",
              "      <th>2</th>\n",
              "      <td>0.0</td>\n",
              "    </tr>\n",
              "    <tr>\n",
              "      <th>3</th>\n",
              "      <td>6.5</td>\n",
              "    </tr>\n",
              "    <tr>\n",
              "      <th>4</th>\n",
              "      <td>0.5</td>\n",
              "    </tr>\n",
              "    <tr>\n",
              "      <th>...</th>\n",
              "      <td>...</td>\n",
              "    </tr>\n",
              "    <tr>\n",
              "      <th>4274</th>\n",
              "      <td>0.0</td>\n",
              "    </tr>\n",
              "    <tr>\n",
              "      <th>4276</th>\n",
              "      <td>0.0</td>\n",
              "    </tr>\n",
              "    <tr>\n",
              "      <th>4277</th>\n",
              "      <td>0.0</td>\n",
              "    </tr>\n",
              "    <tr>\n",
              "      <th>4279</th>\n",
              "      <td>0.0</td>\n",
              "    </tr>\n",
              "    <tr>\n",
              "      <th>4280</th>\n",
              "      <td>1.0</td>\n",
              "    </tr>\n",
              "  </tbody>\n",
              "</table>\n",
              "<p>3816 rows × 1 columns</p>\n",
              "</div>"
            ],
            "text/plain": [
              "               delay\n",
              "name_customer       \n",
              "0               -3.0\n",
              "1                2.0\n",
              "2                0.0\n",
              "3                6.5\n",
              "4                0.5\n",
              "...              ...\n",
              "4274             0.0\n",
              "4276             0.0\n",
              "4277             0.0\n",
              "4279             0.0\n",
              "4280             1.0\n",
              "\n",
              "[3816 rows x 1 columns]"
            ]
          },
          "metadata": {
            "tags": []
          },
          "execution_count": 117
        }
      ]
    },
    {
      "cell_type": "code",
      "metadata": {
        "colab": {
          "base_uri": "https://localhost:8080/",
          "height": 446
        },
        "id": "W91nYxGxYOTT",
        "outputId": "e202ceeb-339f-4ba4-997f-61baec6636e3"
      },
      "source": [
        "groupdata2=x_val1.groupby('name_customer')['delay'].agg('mean') # to see how much avg delay a customer can do\r\n",
        "avg_delay2=groupdata2.to_frame()\r\n",
        "avg_delay2"
      ],
      "execution_count": 118,
      "outputs": [
        {
          "output_type": "execute_result",
          "data": {
            "text/html": [
              "<div>\n",
              "<style scoped>\n",
              "    .dataframe tbody tr th:only-of-type {\n",
              "        vertical-align: middle;\n",
              "    }\n",
              "\n",
              "    .dataframe tbody tr th {\n",
              "        vertical-align: top;\n",
              "    }\n",
              "\n",
              "    .dataframe thead th {\n",
              "        text-align: right;\n",
              "    }\n",
              "</style>\n",
              "<table border=\"1\" class=\"dataframe\">\n",
              "  <thead>\n",
              "    <tr style=\"text-align: right;\">\n",
              "      <th></th>\n",
              "      <th>delay</th>\n",
              "    </tr>\n",
              "    <tr>\n",
              "      <th>name_customer</th>\n",
              "      <th></th>\n",
              "    </tr>\n",
              "  </thead>\n",
              "  <tbody>\n",
              "    <tr>\n",
              "      <th>12</th>\n",
              "      <td>1.0</td>\n",
              "    </tr>\n",
              "    <tr>\n",
              "      <th>17</th>\n",
              "      <td>1.0</td>\n",
              "    </tr>\n",
              "    <tr>\n",
              "      <th>18</th>\n",
              "      <td>3.0</td>\n",
              "    </tr>\n",
              "    <tr>\n",
              "      <th>19</th>\n",
              "      <td>1.0</td>\n",
              "    </tr>\n",
              "    <tr>\n",
              "      <th>27</th>\n",
              "      <td>0.0</td>\n",
              "    </tr>\n",
              "    <tr>\n",
              "      <th>...</th>\n",
              "      <td>...</td>\n",
              "    </tr>\n",
              "    <tr>\n",
              "      <th>4257</th>\n",
              "      <td>-7.0</td>\n",
              "    </tr>\n",
              "    <tr>\n",
              "      <th>4264</th>\n",
              "      <td>1.0</td>\n",
              "    </tr>\n",
              "    <tr>\n",
              "      <th>4273</th>\n",
              "      <td>4.0</td>\n",
              "    </tr>\n",
              "    <tr>\n",
              "      <th>4274</th>\n",
              "      <td>-1.0</td>\n",
              "    </tr>\n",
              "    <tr>\n",
              "      <th>4276</th>\n",
              "      <td>-1.0</td>\n",
              "    </tr>\n",
              "  </tbody>\n",
              "</table>\n",
              "<p>1105 rows × 1 columns</p>\n",
              "</div>"
            ],
            "text/plain": [
              "               delay\n",
              "name_customer       \n",
              "12               1.0\n",
              "17               1.0\n",
              "18               3.0\n",
              "19               1.0\n",
              "27               0.0\n",
              "...              ...\n",
              "4257            -7.0\n",
              "4264             1.0\n",
              "4273             4.0\n",
              "4274            -1.0\n",
              "4276            -1.0\n",
              "\n",
              "[1105 rows x 1 columns]"
            ]
          },
          "metadata": {
            "tags": []
          },
          "execution_count": 118
        }
      ]
    },
    {
      "cell_type": "code",
      "metadata": {
        "colab": {
          "base_uri": "https://localhost:8080/",
          "height": 446
        },
        "id": "g3AAlY7WYOCZ",
        "outputId": "64645016-eb05-4dcf-b186-ae115eda3767"
      },
      "source": [
        "groupdata3=x_val2.groupby('name_customer')['delay'].agg('mean') # to see how much avg delay a customer can do\r\n",
        "avg_delay3=groupdata3.to_frame()\r\n",
        "avg_delay3"
      ],
      "execution_count": 119,
      "outputs": [
        {
          "output_type": "execute_result",
          "data": {
            "text/html": [
              "<div>\n",
              "<style scoped>\n",
              "    .dataframe tbody tr th:only-of-type {\n",
              "        vertical-align: middle;\n",
              "    }\n",
              "\n",
              "    .dataframe tbody tr th {\n",
              "        vertical-align: top;\n",
              "    }\n",
              "\n",
              "    .dataframe thead th {\n",
              "        text-align: right;\n",
              "    }\n",
              "</style>\n",
              "<table border=\"1\" class=\"dataframe\">\n",
              "  <thead>\n",
              "    <tr style=\"text-align: right;\">\n",
              "      <th></th>\n",
              "      <th>delay</th>\n",
              "    </tr>\n",
              "    <tr>\n",
              "      <th>name_customer</th>\n",
              "      <th></th>\n",
              "    </tr>\n",
              "  </thead>\n",
              "  <tbody>\n",
              "    <tr>\n",
              "      <th>12</th>\n",
              "      <td>1.0</td>\n",
              "    </tr>\n",
              "    <tr>\n",
              "      <th>13</th>\n",
              "      <td>2.0</td>\n",
              "    </tr>\n",
              "    <tr>\n",
              "      <th>15</th>\n",
              "      <td>2.0</td>\n",
              "    </tr>\n",
              "    <tr>\n",
              "      <th>19</th>\n",
              "      <td>1.0</td>\n",
              "    </tr>\n",
              "    <tr>\n",
              "      <th>20</th>\n",
              "      <td>1.0</td>\n",
              "    </tr>\n",
              "    <tr>\n",
              "      <th>...</th>\n",
              "      <td>...</td>\n",
              "    </tr>\n",
              "    <tr>\n",
              "      <th>4256</th>\n",
              "      <td>-5.0</td>\n",
              "    </tr>\n",
              "    <tr>\n",
              "      <th>4262</th>\n",
              "      <td>-5.0</td>\n",
              "    </tr>\n",
              "    <tr>\n",
              "      <th>4263</th>\n",
              "      <td>-5.0</td>\n",
              "    </tr>\n",
              "    <tr>\n",
              "      <th>4275</th>\n",
              "      <td>3.0</td>\n",
              "    </tr>\n",
              "    <tr>\n",
              "      <th>4278</th>\n",
              "      <td>0.0</td>\n",
              "    </tr>\n",
              "  </tbody>\n",
              "</table>\n",
              "<p>1228 rows × 1 columns</p>\n",
              "</div>"
            ],
            "text/plain": [
              "               delay\n",
              "name_customer       \n",
              "12               1.0\n",
              "13               2.0\n",
              "15               2.0\n",
              "19               1.0\n",
              "20               1.0\n",
              "...              ...\n",
              "4256            -5.0\n",
              "4262            -5.0\n",
              "4263            -5.0\n",
              "4275             3.0\n",
              "4278             0.0\n",
              "\n",
              "[1228 rows x 1 columns]"
            ]
          },
          "metadata": {
            "tags": []
          },
          "execution_count": 119
        }
      ]
    },
    {
      "cell_type": "code",
      "metadata": {
        "id": "frIjdrKy6Rz0"
      },
      "source": [
        "for i in groupdata.index:\r\n",
        "  X_train.loc[X_train.name_customer==i, \"avg_cust_delay\"] = avg_delay['delay'][i]"
      ],
      "execution_count": 120,
      "outputs": []
    },
    {
      "cell_type": "code",
      "metadata": {
        "id": "l0Kd37PTY5Jl"
      },
      "source": [
        "for i in groupdata2.index:\r\n",
        "  x_val1.loc[x_val1.name_customer==i, \"avg_cust_delay\"] = avg_delay2['delay'][i]"
      ],
      "execution_count": 121,
      "outputs": []
    },
    {
      "cell_type": "code",
      "metadata": {
        "id": "agp6XZGYY9uL"
      },
      "source": [
        "for i in groupdata3.index:\r\n",
        "  x_val2.loc[x_val2.name_customer==i, \"avg_cust_delay\"] = avg_delay3['delay'][i]"
      ],
      "execution_count": 122,
      "outputs": []
    },
    {
      "cell_type": "code",
      "metadata": {
        "colab": {
          "base_uri": "https://localhost:8080/",
          "height": 447
        },
        "id": "CJYezf0J7Tdf",
        "outputId": "04ab56b6-f5f6-4e38-c7ff-d5914c709bba"
      },
      "source": [
        "temp=X_train.groupby('due_date_month')['delay'].agg({\"mean\",\"median\",\"count\",np.max,np.min})\r\n",
        "temp"
      ],
      "execution_count": 123,
      "outputs": [
        {
          "output_type": "execute_result",
          "data": {
            "text/html": [
              "<div>\n",
              "<style scoped>\n",
              "    .dataframe tbody tr th:only-of-type {\n",
              "        vertical-align: middle;\n",
              "    }\n",
              "\n",
              "    .dataframe tbody tr th {\n",
              "        vertical-align: top;\n",
              "    }\n",
              "\n",
              "    .dataframe thead th {\n",
              "        text-align: right;\n",
              "    }\n",
              "</style>\n",
              "<table border=\"1\" class=\"dataframe\">\n",
              "  <thead>\n",
              "    <tr style=\"text-align: right;\">\n",
              "      <th></th>\n",
              "      <th>mean</th>\n",
              "      <th>median</th>\n",
              "      <th>amin</th>\n",
              "      <th>amax</th>\n",
              "      <th>count</th>\n",
              "    </tr>\n",
              "    <tr>\n",
              "      <th>due_date_month</th>\n",
              "      <th></th>\n",
              "      <th></th>\n",
              "      <th></th>\n",
              "      <th></th>\n",
              "      <th></th>\n",
              "    </tr>\n",
              "  </thead>\n",
              "  <tbody>\n",
              "    <tr>\n",
              "      <th>1</th>\n",
              "      <td>1.983503</td>\n",
              "      <td>0</td>\n",
              "      <td>-30</td>\n",
              "      <td>226</td>\n",
              "      <td>1576</td>\n",
              "    </tr>\n",
              "    <tr>\n",
              "      <th>2</th>\n",
              "      <td>1.674443</td>\n",
              "      <td>0</td>\n",
              "      <td>-29</td>\n",
              "      <td>208</td>\n",
              "      <td>2872</td>\n",
              "    </tr>\n",
              "    <tr>\n",
              "      <th>3</th>\n",
              "      <td>2.030366</td>\n",
              "      <td>0</td>\n",
              "      <td>-37</td>\n",
              "      <td>272</td>\n",
              "      <td>3392</td>\n",
              "    </tr>\n",
              "    <tr>\n",
              "      <th>4</th>\n",
              "      <td>0.828587</td>\n",
              "      <td>0</td>\n",
              "      <td>-52</td>\n",
              "      <td>158</td>\n",
              "      <td>3582</td>\n",
              "    </tr>\n",
              "    <tr>\n",
              "      <th>5</th>\n",
              "      <td>0.822216</td>\n",
              "      <td>0</td>\n",
              "      <td>-88</td>\n",
              "      <td>145</td>\n",
              "      <td>3718</td>\n",
              "    </tr>\n",
              "    <tr>\n",
              "      <th>6</th>\n",
              "      <td>0.871495</td>\n",
              "      <td>0</td>\n",
              "      <td>-84</td>\n",
              "      <td>149</td>\n",
              "      <td>3424</td>\n",
              "    </tr>\n",
              "    <tr>\n",
              "      <th>7</th>\n",
              "      <td>1.451836</td>\n",
              "      <td>0</td>\n",
              "      <td>-54</td>\n",
              "      <td>138</td>\n",
              "      <td>3322</td>\n",
              "    </tr>\n",
              "    <tr>\n",
              "      <th>8</th>\n",
              "      <td>1.166423</td>\n",
              "      <td>0</td>\n",
              "      <td>-76</td>\n",
              "      <td>108</td>\n",
              "      <td>3419</td>\n",
              "    </tr>\n",
              "    <tr>\n",
              "      <th>9</th>\n",
              "      <td>0.815566</td>\n",
              "      <td>0</td>\n",
              "      <td>-90</td>\n",
              "      <td>90</td>\n",
              "      <td>3302</td>\n",
              "    </tr>\n",
              "    <tr>\n",
              "      <th>10</th>\n",
              "      <td>0.741160</td>\n",
              "      <td>0</td>\n",
              "      <td>-80</td>\n",
              "      <td>90</td>\n",
              "      <td>3535</td>\n",
              "    </tr>\n",
              "    <tr>\n",
              "      <th>11</th>\n",
              "      <td>0.125036</td>\n",
              "      <td>0</td>\n",
              "      <td>-75</td>\n",
              "      <td>47</td>\n",
              "      <td>3519</td>\n",
              "    </tr>\n",
              "    <tr>\n",
              "      <th>12</th>\n",
              "      <td>-0.566756</td>\n",
              "      <td>0</td>\n",
              "      <td>-34</td>\n",
              "      <td>61</td>\n",
              "      <td>1498</td>\n",
              "    </tr>\n",
              "  </tbody>\n",
              "</table>\n",
              "</div>"
            ],
            "text/plain": [
              "                    mean  median  amin  amax  count\n",
              "due_date_month                                     \n",
              "1               1.983503       0   -30   226   1576\n",
              "2               1.674443       0   -29   208   2872\n",
              "3               2.030366       0   -37   272   3392\n",
              "4               0.828587       0   -52   158   3582\n",
              "5               0.822216       0   -88   145   3718\n",
              "6               0.871495       0   -84   149   3424\n",
              "7               1.451836       0   -54   138   3322\n",
              "8               1.166423       0   -76   108   3419\n",
              "9               0.815566       0   -90    90   3302\n",
              "10              0.741160       0   -80    90   3535\n",
              "11              0.125036       0   -75    47   3519\n",
              "12             -0.566756       0   -34    61   1498"
            ]
          },
          "metadata": {
            "tags": []
          },
          "execution_count": 123
        }
      ]
    },
    {
      "cell_type": "code",
      "metadata": {
        "colab": {
          "base_uri": "https://localhost:8080/",
          "height": 294
        },
        "id": "LAKXJnloZwNG",
        "outputId": "64f0b8ad-69fe-4cb4-dc95-0107abfd4597"
      },
      "source": [
        "temp2=x_val1.groupby('due_date_month')['delay'].agg({\"mean\",\"median\",\"count\",np.max,np.min})\r\n",
        "temp2"
      ],
      "execution_count": 124,
      "outputs": [
        {
          "output_type": "execute_result",
          "data": {
            "text/html": [
              "<div>\n",
              "<style scoped>\n",
              "    .dataframe tbody tr th:only-of-type {\n",
              "        vertical-align: middle;\n",
              "    }\n",
              "\n",
              "    .dataframe tbody tr th {\n",
              "        vertical-align: top;\n",
              "    }\n",
              "\n",
              "    .dataframe thead th {\n",
              "        text-align: right;\n",
              "    }\n",
              "</style>\n",
              "<table border=\"1\" class=\"dataframe\">\n",
              "  <thead>\n",
              "    <tr style=\"text-align: right;\">\n",
              "      <th></th>\n",
              "      <th>mean</th>\n",
              "      <th>median</th>\n",
              "      <th>amin</th>\n",
              "      <th>amax</th>\n",
              "      <th>count</th>\n",
              "    </tr>\n",
              "    <tr>\n",
              "      <th>due_date_month</th>\n",
              "      <th></th>\n",
              "      <th></th>\n",
              "      <th></th>\n",
              "      <th></th>\n",
              "      <th></th>\n",
              "    </tr>\n",
              "  </thead>\n",
              "  <tbody>\n",
              "    <tr>\n",
              "      <th>1</th>\n",
              "      <td>0.957714</td>\n",
              "      <td>0.0</td>\n",
              "      <td>-31</td>\n",
              "      <td>119</td>\n",
              "      <td>1750</td>\n",
              "    </tr>\n",
              "    <tr>\n",
              "      <th>2</th>\n",
              "      <td>0.813433</td>\n",
              "      <td>1.0</td>\n",
              "      <td>-27</td>\n",
              "      <td>69</td>\n",
              "      <td>402</td>\n",
              "    </tr>\n",
              "    <tr>\n",
              "      <th>3</th>\n",
              "      <td>3.526316</td>\n",
              "      <td>4.0</td>\n",
              "      <td>-77</td>\n",
              "      <td>44</td>\n",
              "      <td>19</td>\n",
              "    </tr>\n",
              "    <tr>\n",
              "      <th>4</th>\n",
              "      <td>15.000000</td>\n",
              "      <td>15.0</td>\n",
              "      <td>15</td>\n",
              "      <td>15</td>\n",
              "      <td>1</td>\n",
              "    </tr>\n",
              "    <tr>\n",
              "      <th>5</th>\n",
              "      <td>-41.500000</td>\n",
              "      <td>-40.0</td>\n",
              "      <td>-91</td>\n",
              "      <td>5</td>\n",
              "      <td>4</td>\n",
              "    </tr>\n",
              "    <tr>\n",
              "      <th>11</th>\n",
              "      <td>20.500000</td>\n",
              "      <td>20.5</td>\n",
              "      <td>20</td>\n",
              "      <td>21</td>\n",
              "      <td>6</td>\n",
              "    </tr>\n",
              "    <tr>\n",
              "      <th>12</th>\n",
              "      <td>-0.619261</td>\n",
              "      <td>0.0</td>\n",
              "      <td>-15</td>\n",
              "      <td>60</td>\n",
              "      <td>1786</td>\n",
              "    </tr>\n",
              "  </tbody>\n",
              "</table>\n",
              "</div>"
            ],
            "text/plain": [
              "                     mean  median  amin  amax  count\n",
              "due_date_month                                      \n",
              "1                0.957714     0.0   -31   119   1750\n",
              "2                0.813433     1.0   -27    69    402\n",
              "3                3.526316     4.0   -77    44     19\n",
              "4               15.000000    15.0    15    15      1\n",
              "5              -41.500000   -40.0   -91     5      4\n",
              "11              20.500000    20.5    20    21      6\n",
              "12              -0.619261     0.0   -15    60   1786"
            ]
          },
          "metadata": {
            "tags": []
          },
          "execution_count": 124
        }
      ]
    },
    {
      "cell_type": "code",
      "metadata": {
        "colab": {
          "base_uri": "https://localhost:8080/",
          "height": 263
        },
        "id": "iSiCqZsfeNyH",
        "outputId": "57e1f221-6f1e-4eb3-8e89-2cf3dca27b57"
      },
      "source": [
        "temp3=x_val2.groupby('due_date_month')['delay'].agg({\"mean\",\"median\",\"count\",np.max,np.min})\r\n",
        "temp3"
      ],
      "execution_count": 125,
      "outputs": [
        {
          "output_type": "execute_result",
          "data": {
            "text/html": [
              "<div>\n",
              "<style scoped>\n",
              "    .dataframe tbody tr th:only-of-type {\n",
              "        vertical-align: middle;\n",
              "    }\n",
              "\n",
              "    .dataframe tbody tr th {\n",
              "        vertical-align: top;\n",
              "    }\n",
              "\n",
              "    .dataframe thead th {\n",
              "        text-align: right;\n",
              "    }\n",
              "</style>\n",
              "<table border=\"1\" class=\"dataframe\">\n",
              "  <thead>\n",
              "    <tr style=\"text-align: right;\">\n",
              "      <th></th>\n",
              "      <th>mean</th>\n",
              "      <th>median</th>\n",
              "      <th>amin</th>\n",
              "      <th>amax</th>\n",
              "      <th>count</th>\n",
              "    </tr>\n",
              "    <tr>\n",
              "      <th>due_date_month</th>\n",
              "      <th></th>\n",
              "      <th></th>\n",
              "      <th></th>\n",
              "      <th></th>\n",
              "      <th></th>\n",
              "    </tr>\n",
              "  </thead>\n",
              "  <tbody>\n",
              "    <tr>\n",
              "      <th>1</th>\n",
              "      <td>14.250000</td>\n",
              "      <td>4.5</td>\n",
              "      <td>0</td>\n",
              "      <td>37</td>\n",
              "      <td>44</td>\n",
              "    </tr>\n",
              "    <tr>\n",
              "      <th>2</th>\n",
              "      <td>1.469396</td>\n",
              "      <td>0.0</td>\n",
              "      <td>-23</td>\n",
              "      <td>90</td>\n",
              "      <td>2467</td>\n",
              "    </tr>\n",
              "    <tr>\n",
              "      <th>3</th>\n",
              "      <td>-0.063430</td>\n",
              "      <td>0.0</td>\n",
              "      <td>-41</td>\n",
              "      <td>59</td>\n",
              "      <td>1277</td>\n",
              "    </tr>\n",
              "    <tr>\n",
              "      <th>4</th>\n",
              "      <td>-19.120482</td>\n",
              "      <td>-2.0</td>\n",
              "      <td>-57</td>\n",
              "      <td>41</td>\n",
              "      <td>166</td>\n",
              "    </tr>\n",
              "    <tr>\n",
              "      <th>5</th>\n",
              "      <td>-18.250000</td>\n",
              "      <td>-1.0</td>\n",
              "      <td>-56</td>\n",
              "      <td>4</td>\n",
              "      <td>12</td>\n",
              "    </tr>\n",
              "    <tr>\n",
              "      <th>6</th>\n",
              "      <td>-24.000000</td>\n",
              "      <td>-22.0</td>\n",
              "      <td>-32</td>\n",
              "      <td>-18</td>\n",
              "      <td>3</td>\n",
              "    </tr>\n",
              "  </tbody>\n",
              "</table>\n",
              "</div>"
            ],
            "text/plain": [
              "                     mean  median  amin  amax  count\n",
              "due_date_month                                      \n",
              "1               14.250000     4.5     0    37     44\n",
              "2                1.469396     0.0   -23    90   2467\n",
              "3               -0.063430     0.0   -41    59   1277\n",
              "4              -19.120482    -2.0   -57    41    166\n",
              "5              -18.250000    -1.0   -56     4     12\n",
              "6              -24.000000   -22.0   -32   -18      3"
            ]
          },
          "metadata": {
            "tags": []
          },
          "execution_count": 125
        }
      ]
    },
    {
      "cell_type": "code",
      "metadata": {
        "colab": {
          "base_uri": "https://localhost:8080/"
        },
        "id": "0hA1fylgJ8Ib",
        "outputId": "7e951080-e818-4f59-c204-253f771bda19"
      },
      "source": [
        "for i in temp.index:\r\n",
        "    X_train.loc[X_train['due_date_month']==i, \"dueDateWise_avg_monthly_delay_\"] = temp['mean'][i]\r\n",
        "X_train.shape"
      ],
      "execution_count": 126,
      "outputs": [
        {
          "output_type": "execute_result",
          "data": {
            "text/plain": [
              "(37159, 21)"
            ]
          },
          "metadata": {
            "tags": []
          },
          "execution_count": 126
        }
      ]
    },
    {
      "cell_type": "code",
      "metadata": {
        "colab": {
          "base_uri": "https://localhost:8080/"
        },
        "id": "I5JZO9dFeTPB",
        "outputId": "f1e45f96-c008-467d-bb83-188c656f159a"
      },
      "source": [
        "for i in temp2.index:\r\n",
        "    x_val1.loc[X_train['due_date_month']==i, \"dueDateWise_avg_monthly_delay_\"] = temp['mean'][i]\r\n",
        "x_val1.shape"
      ],
      "execution_count": 127,
      "outputs": [
        {
          "output_type": "execute_result",
          "data": {
            "text/plain": [
              "(3968, 21)"
            ]
          },
          "metadata": {
            "tags": []
          },
          "execution_count": 127
        }
      ]
    },
    {
      "cell_type": "code",
      "metadata": {
        "colab": {
          "base_uri": "https://localhost:8080/"
        },
        "id": "G_NDGPLseTHl",
        "outputId": "e7b99027-9b00-46c5-8501-42c64fdb8c00"
      },
      "source": [
        "for i in temp3.index:\r\n",
        "    x_val2.loc[X_train['due_date_month']==i, \"dueDateWise_avg_monthly_delay_\"] = temp['mean'][i]\r\n",
        "x_val2.shape"
      ],
      "execution_count": 128,
      "outputs": [
        {
          "output_type": "execute_result",
          "data": {
            "text/plain": [
              "(3969, 21)"
            ]
          },
          "metadata": {
            "tags": []
          },
          "execution_count": 128
        }
      ]
    },
    {
      "cell_type": "markdown",
      "metadata": {
        "id": "q_YxYdZ8K7aM"
      },
      "source": [
        "**Binning our data**"
      ]
    },
    {
      "cell_type": "code",
      "metadata": {
        "id": "THQ6K3oaKjYp"
      },
      "source": [
        "X_train['amount_bins'] = pd.qcut(X_train['total_open_amount'],q=4,labels=[1,2,3,4])"
      ],
      "execution_count": 129,
      "outputs": []
    },
    {
      "cell_type": "code",
      "metadata": {
        "id": "pYaGBmp5euXw"
      },
      "source": [
        "x_val1['amount_bins'] = pd.qcut(x_val1['total_open_amount'],q=4,labels=[1,2,3,4])\r\n",
        "x_val2['amount_bins'] = pd.qcut(x_val2['total_open_amount'],q=4,labels=[1,2,3,4])"
      ],
      "execution_count": 130,
      "outputs": []
    },
    {
      "cell_type": "code",
      "metadata": {
        "colab": {
          "base_uri": "https://localhost:8080/"
        },
        "id": "y481Ehn8LA9m",
        "outputId": "5da48a23-d359-4bb4-b3dd-ab6a95bd9c0c"
      },
      "source": [
        "X_train['amount_bins'].head()"
      ],
      "execution_count": 131,
      "outputs": [
        {
          "output_type": "execute_result",
          "data": {
            "text/plain": [
              "0    1\n",
              "1    2\n",
              "2    1\n",
              "3    2\n",
              "4    3\n",
              "Name: amount_bins, dtype: category\n",
              "Categories (4, int64): [1 < 2 < 3 < 4]"
            ]
          },
          "metadata": {
            "tags": []
          },
          "execution_count": 131
        }
      ]
    },
    {
      "cell_type": "code",
      "metadata": {
        "colab": {
          "base_uri": "https://localhost:8080/"
        },
        "id": "fb5EjZDLriNs",
        "outputId": "4aa44d70-4c80-4831-fa41-dc0fe3119648"
      },
      "source": [
        "X_train.shape"
      ],
      "execution_count": 132,
      "outputs": [
        {
          "output_type": "execute_result",
          "data": {
            "text/plain": [
              "(37159, 22)"
            ]
          },
          "metadata": {
            "tags": []
          },
          "execution_count": 132
        }
      ]
    },
    {
      "cell_type": "code",
      "metadata": {
        "colab": {
          "base_uri": "https://localhost:8080/"
        },
        "id": "fZszbgOgrgIX",
        "outputId": "d242aadd-45e6-4fa7-81a2-613c1fa4b3cf"
      },
      "source": [
        "x_val1.shape"
      ],
      "execution_count": 133,
      "outputs": [
        {
          "output_type": "execute_result",
          "data": {
            "text/plain": [
              "(3968, 22)"
            ]
          },
          "metadata": {
            "tags": []
          },
          "execution_count": 133
        }
      ]
    },
    {
      "cell_type": "code",
      "metadata": {
        "colab": {
          "base_uri": "https://localhost:8080/"
        },
        "id": "ra7jVdB7rjvN",
        "outputId": "5ef3d94e-4ccf-438d-aea5-05e614cafca3"
      },
      "source": [
        "x_val2.shape"
      ],
      "execution_count": 134,
      "outputs": [
        {
          "output_type": "execute_result",
          "data": {
            "text/plain": [
              "(3969, 22)"
            ]
          },
          "metadata": {
            "tags": []
          },
          "execution_count": 134
        }
      ]
    },
    {
      "cell_type": "code",
      "metadata": {
        "colab": {
          "base_uri": "https://localhost:8080/"
        },
        "id": "tKoVOsEyrmqo",
        "outputId": "5c9eb31d-c7e5-4739-e56e-6493b117a5f3"
      },
      "source": [
        "test.shape"
      ],
      "execution_count": 135,
      "outputs": [
        {
          "output_type": "execute_result",
          "data": {
            "text/plain": [
              "(4734, 18)"
            ]
          },
          "metadata": {
            "tags": []
          },
          "execution_count": 135
        }
      ]
    },
    {
      "cell_type": "code",
      "metadata": {
        "colab": {
          "base_uri": "https://localhost:8080/",
          "height": 285
        },
        "id": "O4sxpSNDLLOE",
        "outputId": "d7bb004d-9cc3-475e-d2d4-8e4e75259444"
      },
      "source": [
        "sns.barplot(x='amount_bins',y='delay',data=X_train)\r\n",
        "sns.set()"
      ],
      "execution_count": 136,
      "outputs": [
        {
          "output_type": "display_data",
          "data": {
            "image/png": "[encoded data removed]",
            "text/plain": [
              "<Figure size 432x288 with 1 Axes>"
            ]
          },
          "metadata": {
            "tags": []
          }
        }
      ]
    },
    {
      "cell_type": "markdown",
      "metadata": {
        "id": "y0tma6UzM8zc"
      },
      "source": [
        "**Exploring various aspects of our data**"
      ]
    },
    {
      "cell_type": "code",
      "metadata": {
        "colab": {
          "base_uri": "https://localhost:8080/",
          "height": 305
        },
        "id": "Let3ztsSLO1p",
        "outputId": "3ff0056f-0eea-43cb-a88a-8b0120f64d61"
      },
      "source": [
        "sns.countplot(x='business_code', data=X_train) #business_code 1 has maximum number of occurences in buisness code"
      ],
      "execution_count": 137,
      "outputs": [
        {
          "output_type": "execute_result",
          "data": {
            "text/plain": [
              "<matplotlib.axes._subplots.AxesSubplot at 0x7f06638f6240>"
            ]
          },
          "metadata": {
            "tags": []
          },
          "execution_count": 137
        },
        {
          "output_type": "display_data",
          "data": {
            "image/png": "[encoded data removed]",
            "text/plain": [
              "<Figure size 432x288 with 1 Axes>"
            ]
          },
          "metadata": {
            "tags": []
          }
        }
      ]
    },
    {
      "cell_type": "code",
      "metadata": {
        "colab": {
          "base_uri": "https://localhost:8080/",
          "height": 469
        },
        "id": "eoJLd29sStqG",
        "outputId": "34dbd013-8f94-4da5-8283-3725e2b25224"
      },
      "source": [
        "plt.figure(figsize=(20,10))\r\n",
        "temp1=pd.DataFrame(X_train.groupby('business_code')['delay'].mean())\r\n",
        "sns.barplot(x=temp1.index,y='delay',data=temp1) #business_code 3 have highest mean of delay"
      ],
      "execution_count": 138,
      "outputs": [
        {
          "output_type": "execute_result",
          "data": {
            "text/plain": [
              "<matplotlib.axes._subplots.AxesSubplot at 0x7f066361f048>"
            ]
          },
          "metadata": {
            "tags": []
          },
          "execution_count": 138
        },
        {
          "output_type": "display_data",
          "data": {
            "image/png": "[encoded data removed]",
            "text/plain": [
              "<Figure size 1440x720 with 1 Axes>"
            ]
          },
          "metadata": {
            "tags": []
          }
        }
      ]
    },
    {
      "cell_type": "markdown",
      "metadata": {
        "id": "jIvTomjWTceS"
      },
      "source": [
        "**Creating more columns for futher analysis.**"
      ]
    },
    {
      "cell_type": "code",
      "metadata": {
        "id": "_t0600wKTUYF"
      },
      "source": [
        "d = X_train.groupby('business_code')['delay'].mean().to_dict()"
      ],
      "execution_count": 139,
      "outputs": []
    },
    {
      "cell_type": "code",
      "metadata": {
        "id": "pP3XPeF9TnUf"
      },
      "source": [
        "X_train['bcode_avg_delay'] = X_train['business_code'].map(d)\r\n",
        "x_val1['bcode_avg_delay'] = X_train['business_code'].map(d)\r\n",
        "x_val2['bcode_avg_delay'] = X_train['business_code'].map(d)"
      ],
      "execution_count": 140,
      "outputs": []
    },
    {
      "cell_type": "markdown",
      "metadata": {
        "id": "iSt8cQq6B8tP"
      },
      "source": [
        "**Checking correlation between columns**"
      ]
    },
    {
      "cell_type": "code",
      "metadata": {
        "colab": {
          "base_uri": "https://localhost:8080/",
          "height": 590
        },
        "id": "x7I4vuxYTrsq",
        "outputId": "f8b1ce02-19e9-4377-de12-3a2b257e76c7"
      },
      "source": [
        "X_train.corr()"
      ],
      "execution_count": 141,
      "outputs": [
        {
          "output_type": "execute_result",
          "data": {
            "text/html": [
              "<div>\n",
              "<style scoped>\n",
              "    .dataframe tbody tr th:only-of-type {\n",
              "        vertical-align: middle;\n",
              "    }\n",
              "\n",
              "    .dataframe tbody tr th {\n",
              "        vertical-align: top;\n",
              "    }\n",
              "\n",
              "    .dataframe thead th {\n",
              "        text-align: right;\n",
              "    }\n",
              "</style>\n",
              "<table border=\"1\" class=\"dataframe\">\n",
              "  <thead>\n",
              "    <tr style=\"text-align: right;\">\n",
              "      <th></th>\n",
              "      <th>business_code</th>\n",
              "      <th>name_customer</th>\n",
              "      <th>total_open_amount</th>\n",
              "      <th>cust_payment_terms</th>\n",
              "      <th>delay</th>\n",
              "      <th>due_date_day</th>\n",
              "      <th>due_date_month</th>\n",
              "      <th>due_date_year</th>\n",
              "      <th>baseline_date_day</th>\n",
              "      <th>baseline_date_month</th>\n",
              "      <th>baseline_date_year</th>\n",
              "      <th>create_date_day</th>\n",
              "      <th>create_date_month</th>\n",
              "      <th>create_date_year</th>\n",
              "      <th>avg_cust_delay</th>\n",
              "      <th>dueDateWise_avg_monthly_delay_</th>\n",
              "      <th>bcode_avg_delay</th>\n",
              "    </tr>\n",
              "  </thead>\n",
              "  <tbody>\n",
              "    <tr>\n",
              "      <th>business_code</th>\n",
              "      <td>1.000000</td>\n",
              "      <td>-0.029536</td>\n",
              "      <td>-0.104920</td>\n",
              "      <td>0.486230</td>\n",
              "      <td>0.001762</td>\n",
              "      <td>0.011416</td>\n",
              "      <td>0.011723</td>\n",
              "      <td>0.010576</td>\n",
              "      <td>0.000862</td>\n",
              "      <td>-0.018099</td>\n",
              "      <td>-0.001399</td>\n",
              "      <td>0.002223</td>\n",
              "      <td>-0.014282</td>\n",
              "      <td>0.003139</td>\n",
              "      <td>-0.010909</td>\n",
              "      <td>-0.010063</td>\n",
              "      <td>0.010754</td>\n",
              "    </tr>\n",
              "    <tr>\n",
              "      <th>name_customer</th>\n",
              "      <td>-0.029536</td>\n",
              "      <td>1.000000</td>\n",
              "      <td>-0.015533</td>\n",
              "      <td>0.128097</td>\n",
              "      <td>-0.020796</td>\n",
              "      <td>0.001588</td>\n",
              "      <td>-0.011660</td>\n",
              "      <td>-0.000589</td>\n",
              "      <td>0.029626</td>\n",
              "      <td>-0.000733</td>\n",
              "      <td>-0.019531</td>\n",
              "      <td>0.001111</td>\n",
              "      <td>-0.000555</td>\n",
              "      <td>-0.019035</td>\n",
              "      <td>-0.029069</td>\n",
              "      <td>0.010272</td>\n",
              "      <td>-0.039410</td>\n",
              "    </tr>\n",
              "    <tr>\n",
              "      <th>total_open_amount</th>\n",
              "      <td>-0.104920</td>\n",
              "      <td>-0.015533</td>\n",
              "      <td>1.000000</td>\n",
              "      <td>-0.209451</td>\n",
              "      <td>0.000710</td>\n",
              "      <td>-0.010477</td>\n",
              "      <td>0.023902</td>\n",
              "      <td>0.006438</td>\n",
              "      <td>0.028359</td>\n",
              "      <td>0.030212</td>\n",
              "      <td>0.006002</td>\n",
              "      <td>0.010306</td>\n",
              "      <td>0.028740</td>\n",
              "      <td>0.006095</td>\n",
              "      <td>0.002771</td>\n",
              "      <td>-0.020231</td>\n",
              "      <td>0.119115</td>\n",
              "    </tr>\n",
              "    <tr>\n",
              "      <th>cust_payment_terms</th>\n",
              "      <td>0.486230</td>\n",
              "      <td>0.128097</td>\n",
              "      <td>-0.209451</td>\n",
              "      <td>1.000000</td>\n",
              "      <td>0.054857</td>\n",
              "      <td>0.012082</td>\n",
              "      <td>0.018525</td>\n",
              "      <td>0.016537</td>\n",
              "      <td>-0.024865</td>\n",
              "      <td>-0.007676</td>\n",
              "      <td>-0.010578</td>\n",
              "      <td>-0.001385</td>\n",
              "      <td>-0.004288</td>\n",
              "      <td>-0.006004</td>\n",
              "      <td>0.134110</td>\n",
              "      <td>-0.018562</td>\n",
              "      <td>-0.289444</td>\n",
              "    </tr>\n",
              "    <tr>\n",
              "      <th>delay</th>\n",
              "      <td>0.001762</td>\n",
              "      <td>-0.020796</td>\n",
              "      <td>0.000710</td>\n",
              "      <td>0.054857</td>\n",
              "      <td>1.000000</td>\n",
              "      <td>-0.012273</td>\n",
              "      <td>-0.043093</td>\n",
              "      <td>-0.042800</td>\n",
              "      <td>0.002449</td>\n",
              "      <td>-0.023371</td>\n",
              "      <td>0.000770</td>\n",
              "      <td>-0.012018</td>\n",
              "      <td>-0.024164</td>\n",
              "      <td>0.000171</td>\n",
              "      <td>0.715405</td>\n",
              "      <td>0.055005</td>\n",
              "      <td>0.163862</td>\n",
              "    </tr>\n",
              "    <tr>\n",
              "      <th>due_date_day</th>\n",
              "      <td>0.011416</td>\n",
              "      <td>0.001588</td>\n",
              "      <td>-0.010477</td>\n",
              "      <td>0.012082</td>\n",
              "      <td>-0.012273</td>\n",
              "      <td>1.000000</td>\n",
              "      <td>-0.101913</td>\n",
              "      <td>-0.025412</td>\n",
              "      <td>-0.365432</td>\n",
              "      <td>0.017673</td>\n",
              "      <td>0.008697</td>\n",
              "      <td>-0.373326</td>\n",
              "      <td>0.018163</td>\n",
              "      <td>0.009413</td>\n",
              "      <td>-0.001447</td>\n",
              "      <td>0.132552</td>\n",
              "      <td>-0.013038</td>\n",
              "    </tr>\n",
              "    <tr>\n",
              "      <th>due_date_month</th>\n",
              "      <td>0.011723</td>\n",
              "      <td>-0.011660</td>\n",
              "      <td>0.023902</td>\n",
              "      <td>0.018525</td>\n",
              "      <td>-0.043093</td>\n",
              "      <td>-0.101913</td>\n",
              "      <td>1.000000</td>\n",
              "      <td>-0.035303</td>\n",
              "      <td>0.092120</td>\n",
              "      <td>0.953285</td>\n",
              "      <td>0.108559</td>\n",
              "      <td>0.089993</td>\n",
              "      <td>0.952175</td>\n",
              "      <td>0.110861</td>\n",
              "      <td>-0.017980</td>\n",
              "      <td>-0.783450</td>\n",
              "      <td>0.013662</td>\n",
              "    </tr>\n",
              "    <tr>\n",
              "      <th>due_date_year</th>\n",
              "      <td>0.010576</td>\n",
              "      <td>-0.000589</td>\n",
              "      <td>0.006438</td>\n",
              "      <td>0.016537</td>\n",
              "      <td>-0.042800</td>\n",
              "      <td>-0.025412</td>\n",
              "      <td>-0.035303</td>\n",
              "      <td>1.000000</td>\n",
              "      <td>0.003451</td>\n",
              "      <td>0.017876</td>\n",
              "      <td>0.063531</td>\n",
              "      <td>0.003149</td>\n",
              "      <td>0.017913</td>\n",
              "      <td>0.062356</td>\n",
              "      <td>-0.037017</td>\n",
              "      <td>0.035555</td>\n",
              "      <td>0.002243</td>\n",
              "    </tr>\n",
              "    <tr>\n",
              "      <th>baseline_date_day</th>\n",
              "      <td>0.000862</td>\n",
              "      <td>0.029626</td>\n",
              "      <td>0.028359</td>\n",
              "      <td>-0.024865</td>\n",
              "      <td>0.002449</td>\n",
              "      <td>-0.365432</td>\n",
              "      <td>0.092120</td>\n",
              "      <td>0.003451</td>\n",
              "      <td>1.000000</td>\n",
              "      <td>-0.006701</td>\n",
              "      <td>-0.108254</td>\n",
              "      <td>0.947275</td>\n",
              "      <td>-0.003720</td>\n",
              "      <td>-0.102594</td>\n",
              "      <td>0.024444</td>\n",
              "      <td>-0.101386</td>\n",
              "      <td>0.013000</td>\n",
              "    </tr>\n",
              "    <tr>\n",
              "      <th>baseline_date_month</th>\n",
              "      <td>-0.018099</td>\n",
              "      <td>-0.000733</td>\n",
              "      <td>0.030212</td>\n",
              "      <td>-0.007676</td>\n",
              "      <td>-0.023371</td>\n",
              "      <td>0.017673</td>\n",
              "      <td>0.953285</td>\n",
              "      <td>0.017876</td>\n",
              "      <td>-0.006701</td>\n",
              "      <td>1.000000</td>\n",
              "      <td>-0.122812</td>\n",
              "      <td>-0.005214</td>\n",
              "      <td>0.998522</td>\n",
              "      <td>-0.116489</td>\n",
              "      <td>-0.009881</td>\n",
              "      <td>-0.732258</td>\n",
              "      <td>0.010476</td>\n",
              "    </tr>\n",
              "    <tr>\n",
              "      <th>baseline_date_year</th>\n",
              "      <td>-0.001399</td>\n",
              "      <td>-0.019531</td>\n",
              "      <td>0.006002</td>\n",
              "      <td>-0.010578</td>\n",
              "      <td>0.000770</td>\n",
              "      <td>0.008697</td>\n",
              "      <td>0.108559</td>\n",
              "      <td>0.063531</td>\n",
              "      <td>-0.108254</td>\n",
              "      <td>-0.122812</td>\n",
              "      <td>1.000000</td>\n",
              "      <td>-0.107706</td>\n",
              "      <td>-0.123023</td>\n",
              "      <td>0.980871</td>\n",
              "      <td>0.004265</td>\n",
              "      <td>-0.095835</td>\n",
              "      <td>0.017836</td>\n",
              "    </tr>\n",
              "    <tr>\n",
              "      <th>create_date_day</th>\n",
              "      <td>0.002223</td>\n",
              "      <td>0.001111</td>\n",
              "      <td>0.010306</td>\n",
              "      <td>-0.001385</td>\n",
              "      <td>-0.012018</td>\n",
              "      <td>-0.373326</td>\n",
              "      <td>0.089993</td>\n",
              "      <td>0.003149</td>\n",
              "      <td>0.947275</td>\n",
              "      <td>-0.005214</td>\n",
              "      <td>-0.107706</td>\n",
              "      <td>1.000000</td>\n",
              "      <td>-0.007995</td>\n",
              "      <td>-0.109905</td>\n",
              "      <td>0.004935</td>\n",
              "      <td>-0.100505</td>\n",
              "      <td>0.005576</td>\n",
              "    </tr>\n",
              "    <tr>\n",
              "      <th>create_date_month</th>\n",
              "      <td>-0.014282</td>\n",
              "      <td>-0.000555</td>\n",
              "      <td>0.028740</td>\n",
              "      <td>-0.004288</td>\n",
              "      <td>-0.024164</td>\n",
              "      <td>0.018163</td>\n",
              "      <td>0.952175</td>\n",
              "      <td>0.017913</td>\n",
              "      <td>-0.003720</td>\n",
              "      <td>0.998522</td>\n",
              "      <td>-0.123023</td>\n",
              "      <td>-0.007995</td>\n",
              "      <td>1.000000</td>\n",
              "      <td>-0.125422</td>\n",
              "      <td>-0.011219</td>\n",
              "      <td>-0.731158</td>\n",
              "      <td>0.004645</td>\n",
              "    </tr>\n",
              "    <tr>\n",
              "      <th>create_date_year</th>\n",
              "      <td>0.003139</td>\n",
              "      <td>-0.019035</td>\n",
              "      <td>0.006095</td>\n",
              "      <td>-0.006004</td>\n",
              "      <td>0.000171</td>\n",
              "      <td>0.009413</td>\n",
              "      <td>0.110861</td>\n",
              "      <td>0.062356</td>\n",
              "      <td>-0.102594</td>\n",
              "      <td>-0.116489</td>\n",
              "      <td>0.980871</td>\n",
              "      <td>-0.109905</td>\n",
              "      <td>-0.125422</td>\n",
              "      <td>1.000000</td>\n",
              "      <td>0.003499</td>\n",
              "      <td>-0.097911</td>\n",
              "      <td>0.010536</td>\n",
              "    </tr>\n",
              "    <tr>\n",
              "      <th>avg_cust_delay</th>\n",
              "      <td>-0.010909</td>\n",
              "      <td>-0.029069</td>\n",
              "      <td>0.002771</td>\n",
              "      <td>0.134110</td>\n",
              "      <td>0.715405</td>\n",
              "      <td>-0.001447</td>\n",
              "      <td>-0.017980</td>\n",
              "      <td>-0.037017</td>\n",
              "      <td>0.024444</td>\n",
              "      <td>-0.009881</td>\n",
              "      <td>0.004265</td>\n",
              "      <td>0.004935</td>\n",
              "      <td>-0.011219</td>\n",
              "      <td>0.003499</td>\n",
              "      <td>1.000000</td>\n",
              "      <td>0.022592</td>\n",
              "      <td>0.211177</td>\n",
              "    </tr>\n",
              "    <tr>\n",
              "      <th>dueDateWise_avg_monthly_delay_</th>\n",
              "      <td>-0.010063</td>\n",
              "      <td>0.010272</td>\n",
              "      <td>-0.020231</td>\n",
              "      <td>-0.018562</td>\n",
              "      <td>0.055005</td>\n",
              "      <td>0.132552</td>\n",
              "      <td>-0.783450</td>\n",
              "      <td>0.035555</td>\n",
              "      <td>-0.101386</td>\n",
              "      <td>-0.732258</td>\n",
              "      <td>-0.095835</td>\n",
              "      <td>-0.100505</td>\n",
              "      <td>-0.731158</td>\n",
              "      <td>-0.097911</td>\n",
              "      <td>0.022592</td>\n",
              "      <td>1.000000</td>\n",
              "      <td>-0.008625</td>\n",
              "    </tr>\n",
              "    <tr>\n",
              "      <th>bcode_avg_delay</th>\n",
              "      <td>0.010754</td>\n",
              "      <td>-0.039410</td>\n",
              "      <td>0.119115</td>\n",
              "      <td>-0.289444</td>\n",
              "      <td>0.163862</td>\n",
              "      <td>-0.013038</td>\n",
              "      <td>0.013662</td>\n",
              "      <td>0.002243</td>\n",
              "      <td>0.013000</td>\n",
              "      <td>0.010476</td>\n",
              "      <td>0.017836</td>\n",
              "      <td>0.005576</td>\n",
              "      <td>0.004645</td>\n",
              "      <td>0.010536</td>\n",
              "      <td>0.211177</td>\n",
              "      <td>-0.008625</td>\n",
              "      <td>1.000000</td>\n",
              "    </tr>\n",
              "  </tbody>\n",
              "</table>\n",
              "</div>"
            ],
            "text/plain": [
              "                                business_code  ...  bcode_avg_delay\n",
              "business_code                        1.000000  ...         0.010754\n",
              "name_customer                       -0.029536  ...        -0.039410\n",
              "total_open_amount                   -0.104920  ...         0.119115\n",
              "cust_payment_terms                   0.486230  ...        -0.289444\n",
              "delay                                0.001762  ...         0.163862\n",
              "due_date_day                         0.011416  ...        -0.013038\n",
              "due_date_month                       0.011723  ...         0.013662\n",
              "due_date_year                        0.010576  ...         0.002243\n",
              "baseline_date_day                    0.000862  ...         0.013000\n",
              "baseline_date_month                 -0.018099  ...         0.010476\n",
              "baseline_date_year                  -0.001399  ...         0.017836\n",
              "create_date_day                      0.002223  ...         0.005576\n",
              "create_date_month                   -0.014282  ...         0.004645\n",
              "create_date_year                     0.003139  ...         0.010536\n",
              "avg_cust_delay                      -0.010909  ...         0.211177\n",
              "dueDateWise_avg_monthly_delay_      -0.010063  ...        -0.008625\n",
              "bcode_avg_delay                      0.010754  ...         1.000000\n",
              "\n",
              "[17 rows x 17 columns]"
            ]
          },
          "metadata": {
            "tags": []
          },
          "execution_count": 141
        }
      ]
    },
    {
      "cell_type": "code",
      "metadata": {
        "colab": {
          "base_uri": "https://localhost:8080/",
          "height": 725
        },
        "id": "Fsy5Qo31T2mS",
        "outputId": "18d6b7d3-8a97-48ab-accb-5c394fe6b871"
      },
      "source": [
        "fig, ax = plt.subplots(figsize=(11, 9))\r\n",
        "sns.heatmap(X_train.corr(),cmap=\"Blues\")\r\n",
        "plt.show()"
      ],
      "execution_count": 142,
      "outputs": [
        {
          "output_type": "display_data",
          "data": {
            "image/png": "[encoded data removed]",
            "text/plain": [
              "<Figure size 792x648 with 2 Axes>"
            ]
          },
          "metadata": {
            "tags": []
          }
        }
      ]
    },
    {
      "cell_type": "markdown",
      "metadata": {
        "id": "VfkuPCgrCDJ-"
      },
      "source": [
        "**Dropping columns with high correlation**"
      ]
    },
    {
      "cell_type": "code",
      "metadata": {
        "id": "-f46BmCUUP8_"
      },
      "source": [
        "#due_date_month has high correlation with baseline date month and create date month\r\n",
        "#dropping these columns\r\n",
        "X_train.drop(columns = [\"baseline_date_month\",\"create_date_month\"], inplace = True)\r\n",
        "X_train.reset_index(inplace=True, drop=True)"
      ],
      "execution_count": 143,
      "outputs": []
    },
    {
      "cell_type": "code",
      "metadata": {
        "id": "8nek2nhJsFa7"
      },
      "source": [
        "x_val1.drop(columns = [\"baseline_date_month\",\"create_date_month\"], inplace = True)\r\n",
        "x_val1.reset_index(inplace=True, drop=True)"
      ],
      "execution_count": 144,
      "outputs": []
    },
    {
      "cell_type": "code",
      "metadata": {
        "id": "Oz4b3XbVsOif"
      },
      "source": [
        "x_val2.drop(columns = [\"baseline_date_month\",\"create_date_month\"], inplace = True)\r\n",
        "x_val2.reset_index(inplace=True)"
      ],
      "execution_count": 145,
      "outputs": []
    },
    {
      "cell_type": "code",
      "metadata": {
        "id": "SSgYjU6zsRb4"
      },
      "source": [
        "test.drop(columns = [\"baseline_date_month\",\"create_date_month\"], inplace = True)\r\n",
        "test.reset_index(inplace=True)"
      ],
      "execution_count": 146,
      "outputs": []
    },
    {
      "cell_type": "code",
      "metadata": {
        "colab": {
          "base_uri": "https://localhost:8080/",
          "height": 222
        },
        "id": "X8ieAXO7VKYy",
        "outputId": "75cd26df-05ea-4a23-82ab-f8f910ed3aa6"
      },
      "source": [
        "X_train.head()"
      ],
      "execution_count": 147,
      "outputs": [
        {
          "output_type": "execute_result",
          "data": {
            "text/html": [
              "<div>\n",
              "<style scoped>\n",
              "    .dataframe tbody tr th:only-of-type {\n",
              "        vertical-align: middle;\n",
              "    }\n",
              "\n",
              "    .dataframe tbody tr th {\n",
              "        vertical-align: top;\n",
              "    }\n",
              "\n",
              "    .dataframe thead th {\n",
              "        text-align: right;\n",
              "    }\n",
              "</style>\n",
              "<table border=\"1\" class=\"dataframe\">\n",
              "  <thead>\n",
              "    <tr style=\"text-align: right;\">\n",
              "      <th></th>\n",
              "      <th>business_code</th>\n",
              "      <th>cust_number</th>\n",
              "      <th>name_customer</th>\n",
              "      <th>clear_date</th>\n",
              "      <th>document_create_date.1</th>\n",
              "      <th>due_in_date</th>\n",
              "      <th>total_open_amount</th>\n",
              "      <th>baseline_create_date</th>\n",
              "      <th>cust_payment_terms</th>\n",
              "      <th>delay</th>\n",
              "      <th>due_date_day</th>\n",
              "      <th>due_date_month</th>\n",
              "      <th>due_date_year</th>\n",
              "      <th>baseline_date_day</th>\n",
              "      <th>baseline_date_year</th>\n",
              "      <th>create_date_day</th>\n",
              "      <th>create_date_year</th>\n",
              "      <th>avg_cust_delay</th>\n",
              "      <th>dueDateWise_avg_monthly_delay_</th>\n",
              "      <th>amount_bins</th>\n",
              "      <th>bcode_avg_delay</th>\n",
              "    </tr>\n",
              "  </thead>\n",
              "  <tbody>\n",
              "    <tr>\n",
              "      <th>0</th>\n",
              "      <td>1</td>\n",
              "      <td>200769623</td>\n",
              "      <td>4147</td>\n",
              "      <td>2019-01-09</td>\n",
              "      <td>2018-12-30</td>\n",
              "      <td>2019-01-14</td>\n",
              "      <td>983.1666</td>\n",
              "      <td>2018-12-30</td>\n",
              "      <td>39</td>\n",
              "      <td>-5</td>\n",
              "      <td>14</td>\n",
              "      <td>1</td>\n",
              "      <td>2019</td>\n",
              "      <td>30</td>\n",
              "      <td>2018</td>\n",
              "      <td>30</td>\n",
              "      <td>2018</td>\n",
              "      <td>-2.070284</td>\n",
              "      <td>1.983503</td>\n",
              "      <td>1</td>\n",
              "      <td>0.424148</td>\n",
              "    </tr>\n",
              "    <tr>\n",
              "      <th>1</th>\n",
              "      <td>1</td>\n",
              "      <td>200769623</td>\n",
              "      <td>4151</td>\n",
              "      <td>2019-01-09</td>\n",
              "      <td>2018-12-30</td>\n",
              "      <td>2019-01-14</td>\n",
              "      <td>12076.1940</td>\n",
              "      <td>2018-12-30</td>\n",
              "      <td>39</td>\n",
              "      <td>-5</td>\n",
              "      <td>14</td>\n",
              "      <td>1</td>\n",
              "      <td>2019</td>\n",
              "      <td>30</td>\n",
              "      <td>2018</td>\n",
              "      <td>30</td>\n",
              "      <td>2018</td>\n",
              "      <td>-2.362720</td>\n",
              "      <td>1.983503</td>\n",
              "      <td>2</td>\n",
              "      <td>0.424148</td>\n",
              "    </tr>\n",
              "    <tr>\n",
              "      <th>2</th>\n",
              "      <td>1</td>\n",
              "      <td>200769623</td>\n",
              "      <td>4148</td>\n",
              "      <td>2019-01-10</td>\n",
              "      <td>2018-12-30</td>\n",
              "      <td>2019-01-14</td>\n",
              "      <td>1189.6326</td>\n",
              "      <td>2018-12-30</td>\n",
              "      <td>39</td>\n",
              "      <td>-4</td>\n",
              "      <td>14</td>\n",
              "      <td>1</td>\n",
              "      <td>2019</td>\n",
              "      <td>30</td>\n",
              "      <td>2018</td>\n",
              "      <td>30</td>\n",
              "      <td>2018</td>\n",
              "      <td>-2.366337</td>\n",
              "      <td>1.983503</td>\n",
              "      <td>1</td>\n",
              "      <td>0.424148</td>\n",
              "    </tr>\n",
              "    <tr>\n",
              "      <th>3</th>\n",
              "      <td>1</td>\n",
              "      <td>200769623</td>\n",
              "      <td>4145</td>\n",
              "      <td>2019-01-09</td>\n",
              "      <td>2018-12-30</td>\n",
              "      <td>2019-01-14</td>\n",
              "      <td>3814.9722</td>\n",
              "      <td>2018-12-30</td>\n",
              "      <td>39</td>\n",
              "      <td>-5</td>\n",
              "      <td>14</td>\n",
              "      <td>1</td>\n",
              "      <td>2019</td>\n",
              "      <td>30</td>\n",
              "      <td>2018</td>\n",
              "      <td>30</td>\n",
              "      <td>2018</td>\n",
              "      <td>-2.100000</td>\n",
              "      <td>1.983503</td>\n",
              "      <td>2</td>\n",
              "      <td>0.424148</td>\n",
              "    </tr>\n",
              "    <tr>\n",
              "      <th>4</th>\n",
              "      <td>1</td>\n",
              "      <td>200759878</td>\n",
              "      <td>3325</td>\n",
              "      <td>2019-01-15</td>\n",
              "      <td>2018-12-30</td>\n",
              "      <td>2019-01-14</td>\n",
              "      <td>18733.2678</td>\n",
              "      <td>2018-12-30</td>\n",
              "      <td>39</td>\n",
              "      <td>1</td>\n",
              "      <td>14</td>\n",
              "      <td>1</td>\n",
              "      <td>2019</td>\n",
              "      <td>30</td>\n",
              "      <td>2018</td>\n",
              "      <td>30</td>\n",
              "      <td>2018</td>\n",
              "      <td>0.901639</td>\n",
              "      <td>1.983503</td>\n",
              "      <td>3</td>\n",
              "      <td>0.424148</td>\n",
              "    </tr>\n",
              "  </tbody>\n",
              "</table>\n",
              "</div>"
            ],
            "text/plain": [
              "   business_code cust_number  ...  amount_bins bcode_avg_delay\n",
              "0              1   200769623  ...            1        0.424148\n",
              "1              1   200769623  ...            2        0.424148\n",
              "2              1   200769623  ...            1        0.424148\n",
              "3              1   200769623  ...            2        0.424148\n",
              "4              1   200759878  ...            3        0.424148\n",
              "\n",
              "[5 rows x 21 columns]"
            ]
          },
          "metadata": {
            "tags": []
          },
          "execution_count": 147
        }
      ]
    },
    {
      "cell_type": "code",
      "metadata": {
        "id": "nPb8-Y-VVL_P"
      },
      "source": [
        "#create_date_day have high correlation with baseline_date_day, so we can drop one\r\n",
        "X_train.drop(columns = 'create_date_day' , inplace = True)\r\n",
        "X_train.reset_index(inplace=True, drop=True)"
      ],
      "execution_count": 148,
      "outputs": []
    },
    {
      "cell_type": "code",
      "metadata": {
        "id": "_TBw0nMUViZP"
      },
      "source": [
        "#baseline_date_year have high correlation with create_date_year, so we drop one\r\n",
        "X_train.drop(columns = 'create_date_year' , inplace = True)\r\n",
        "X_train.reset_index(inplace=True, drop=True)"
      ],
      "execution_count": 149,
      "outputs": []
    },
    {
      "cell_type": "code",
      "metadata": {
        "id": "JZ1QkdPpsg4Q"
      },
      "source": [
        "x_val1.drop(['create_date_day','create_date_year'],axis=1,inplace=True)\r\n",
        "x_val2.drop(['create_date_day','create_date_year'],axis=1,inplace=True)\r\n",
        "test.drop(['create_date_day','create_date_year'],axis=1,inplace=True)"
      ],
      "execution_count": 150,
      "outputs": []
    },
    {
      "cell_type": "code",
      "metadata": {
        "colab": {
          "base_uri": "https://localhost:8080/"
        },
        "id": "DU4CVhIEsyKn",
        "outputId": "5a141dd5-9fe8-4ebb-d1cf-75a07ddbd260"
      },
      "source": [
        "X_train.shape"
      ],
      "execution_count": 151,
      "outputs": [
        {
          "output_type": "execute_result",
          "data": {
            "text/plain": [
              "(37159, 19)"
            ]
          },
          "metadata": {
            "tags": []
          },
          "execution_count": 151
        }
      ]
    },
    {
      "cell_type": "code",
      "metadata": {
        "colab": {
          "base_uri": "https://localhost:8080/"
        },
        "id": "LyKeBMRWssQ5",
        "outputId": "d6803108-6bc4-4a34-bdc2-3175685a08bb"
      },
      "source": [
        "x_val1.shape"
      ],
      "execution_count": 152,
      "outputs": [
        {
          "output_type": "execute_result",
          "data": {
            "text/plain": [
              "(3968, 19)"
            ]
          },
          "metadata": {
            "tags": []
          },
          "execution_count": 152
        }
      ]
    },
    {
      "cell_type": "code",
      "metadata": {
        "colab": {
          "base_uri": "https://localhost:8080/"
        },
        "id": "hUG3KVv16d5w",
        "outputId": "008233c0-e666-401a-d153-2c22d646ab31"
      },
      "source": [
        "x_val2.shape"
      ],
      "execution_count": 153,
      "outputs": [
        {
          "output_type": "execute_result",
          "data": {
            "text/plain": [
              "(3969, 20)"
            ]
          },
          "metadata": {
            "tags": []
          },
          "execution_count": 153
        }
      ]
    },
    {
      "cell_type": "code",
      "metadata": {
        "colab": {
          "base_uri": "https://localhost:8080/"
        },
        "id": "9bkywfsxs7oY",
        "outputId": "09cf536f-fd22-4dde-aaaa-0f9743cebcb1"
      },
      "source": [
        "test.shape"
      ],
      "execution_count": 154,
      "outputs": [
        {
          "output_type": "execute_result",
          "data": {
            "text/plain": [
              "(4734, 15)"
            ]
          },
          "metadata": {
            "tags": []
          },
          "execution_count": 154
        }
      ]
    },
    {
      "cell_type": "code",
      "metadata": {
        "colab": {
          "base_uri": "https://localhost:8080/",
          "height": 721
        },
        "id": "tL2Qcn6CXgGN",
        "outputId": "859d06e3-3bca-436a-8fb9-2b5de05f9fad"
      },
      "source": [
        "fig, ax = plt.subplots(figsize=(11, 9))\r\n",
        "df_corr=X_train.corr()\r\n",
        "# mask\r\n",
        "mask = np.triu(np.ones_like(df_corr, dtype=np.bool))\r\n",
        "# adjust mask and df\r\n",
        "mask = mask[1:, :-1]\r\n",
        "corr = df_corr.iloc[1:,:-1].copy()\r\n",
        "# color map\r\n",
        "cmap = sns.diverging_palette(0, 230, 90, 60, as_cmap=True)\r\n",
        "# plot heatmap\r\n",
        "sns.heatmap(corr,cmap=cmap,mask=mask, annot=True, fmt=\".2f\",vmin=-1, vmax=1, cbar_kws={\"shrink\": .8})\r\n",
        "# yticks\r\n",
        "plt.yticks(rotation=0)\r\n",
        "plt.show()"
      ],
      "execution_count": 155,
      "outputs": [
        {
          "output_type": "display_data",
          "data": {
            "image/png": "[encoded data removed]",
            "text/plain": [
              "<Figure size 792x648 with 2 Axes>"
            ]
          },
          "metadata": {
            "tags": []
          }
        }
      ]
    },
    {
      "cell_type": "code",
      "metadata": {
        "id": "yw3opZs-bf4K"
      },
      "source": [
        "#due_date_month and dueDateWise_avg_monthly_delay_ has correlation, dropping one column\r\n",
        "X_train.drop(\"dueDateWise_avg_monthly_delay_\",axis=1,inplace=True)"
      ],
      "execution_count": 156,
      "outputs": []
    },
    {
      "cell_type": "code",
      "metadata": {
        "id": "KdXyLJW5tEah"
      },
      "source": [
        "x_val1.drop(\"dueDateWise_avg_monthly_delay_\",axis=1,inplace=True)"
      ],
      "execution_count": 157,
      "outputs": []
    },
    {
      "cell_type": "code",
      "metadata": {
        "id": "R3eH572TtFK3"
      },
      "source": [
        "x_val2.drop(\"dueDateWise_avg_monthly_delay_\",axis=1,inplace=True)"
      ],
      "execution_count": 158,
      "outputs": []
    },
    {
      "cell_type": "code",
      "metadata": {
        "colab": {
          "base_uri": "https://localhost:8080/",
          "height": 222
        },
        "id": "_F4g_MmbdGiV",
        "outputId": "644786da-8aed-4942-f2fa-e7011e6503ba"
      },
      "source": [
        "X_train.drop(\"cust_number\",axis=1,inplace=True)\r\n",
        "X_train.head()"
      ],
      "execution_count": 159,
      "outputs": [
        {
          "output_type": "execute_result",
          "data": {
            "text/html": [
              "<div>\n",
              "<style scoped>\n",
              "    .dataframe tbody tr th:only-of-type {\n",
              "        vertical-align: middle;\n",
              "    }\n",
              "\n",
              "    .dataframe tbody tr th {\n",
              "        vertical-align: top;\n",
              "    }\n",
              "\n",
              "    .dataframe thead th {\n",
              "        text-align: right;\n",
              "    }\n",
              "</style>\n",
              "<table border=\"1\" class=\"dataframe\">\n",
              "  <thead>\n",
              "    <tr style=\"text-align: right;\">\n",
              "      <th></th>\n",
              "      <th>business_code</th>\n",
              "      <th>name_customer</th>\n",
              "      <th>clear_date</th>\n",
              "      <th>document_create_date.1</th>\n",
              "      <th>due_in_date</th>\n",
              "      <th>total_open_amount</th>\n",
              "      <th>baseline_create_date</th>\n",
              "      <th>cust_payment_terms</th>\n",
              "      <th>delay</th>\n",
              "      <th>due_date_day</th>\n",
              "      <th>due_date_month</th>\n",
              "      <th>due_date_year</th>\n",
              "      <th>baseline_date_day</th>\n",
              "      <th>baseline_date_year</th>\n",
              "      <th>avg_cust_delay</th>\n",
              "      <th>amount_bins</th>\n",
              "      <th>bcode_avg_delay</th>\n",
              "    </tr>\n",
              "  </thead>\n",
              "  <tbody>\n",
              "    <tr>\n",
              "      <th>0</th>\n",
              "      <td>1</td>\n",
              "      <td>4147</td>\n",
              "      <td>2019-01-09</td>\n",
              "      <td>2018-12-30</td>\n",
              "      <td>2019-01-14</td>\n",
              "      <td>983.1666</td>\n",
              "      <td>2018-12-30</td>\n",
              "      <td>39</td>\n",
              "      <td>-5</td>\n",
              "      <td>14</td>\n",
              "      <td>1</td>\n",
              "      <td>2019</td>\n",
              "      <td>30</td>\n",
              "      <td>2018</td>\n",
              "      <td>-2.070284</td>\n",
              "      <td>1</td>\n",
              "      <td>0.424148</td>\n",
              "    </tr>\n",
              "    <tr>\n",
              "      <th>1</th>\n",
              "      <td>1</td>\n",
              "      <td>4151</td>\n",
              "      <td>2019-01-09</td>\n",
              "      <td>2018-12-30</td>\n",
              "      <td>2019-01-14</td>\n",
              "      <td>12076.1940</td>\n",
              "      <td>2018-12-30</td>\n",
              "      <td>39</td>\n",
              "      <td>-5</td>\n",
              "      <td>14</td>\n",
              "      <td>1</td>\n",
              "      <td>2019</td>\n",
              "      <td>30</td>\n",
              "      <td>2018</td>\n",
              "      <td>-2.362720</td>\n",
              "      <td>2</td>\n",
              "      <td>0.424148</td>\n",
              "    </tr>\n",
              "    <tr>\n",
              "      <th>2</th>\n",
              "      <td>1</td>\n",
              "      <td>4148</td>\n",
              "      <td>2019-01-10</td>\n",
              "      <td>2018-12-30</td>\n",
              "      <td>2019-01-14</td>\n",
              "      <td>1189.6326</td>\n",
              "      <td>2018-12-30</td>\n",
              "      <td>39</td>\n",
              "      <td>-4</td>\n",
              "      <td>14</td>\n",
              "      <td>1</td>\n",
              "      <td>2019</td>\n",
              "      <td>30</td>\n",
              "      <td>2018</td>\n",
              "      <td>-2.366337</td>\n",
              "      <td>1</td>\n",
              "      <td>0.424148</td>\n",
              "    </tr>\n",
              "    <tr>\n",
              "      <th>3</th>\n",
              "      <td>1</td>\n",
              "      <td>4145</td>\n",
              "      <td>2019-01-09</td>\n",
              "      <td>2018-12-30</td>\n",
              "      <td>2019-01-14</td>\n",
              "      <td>3814.9722</td>\n",
              "      <td>2018-12-30</td>\n",
              "      <td>39</td>\n",
              "      <td>-5</td>\n",
              "      <td>14</td>\n",
              "      <td>1</td>\n",
              "      <td>2019</td>\n",
              "      <td>30</td>\n",
              "      <td>2018</td>\n",
              "      <td>-2.100000</td>\n",
              "      <td>2</td>\n",
              "      <td>0.424148</td>\n",
              "    </tr>\n",
              "    <tr>\n",
              "      <th>4</th>\n",
              "      <td>1</td>\n",
              "      <td>3325</td>\n",
              "      <td>2019-01-15</td>\n",
              "      <td>2018-12-30</td>\n",
              "      <td>2019-01-14</td>\n",
              "      <td>18733.2678</td>\n",
              "      <td>2018-12-30</td>\n",
              "      <td>39</td>\n",
              "      <td>1</td>\n",
              "      <td>14</td>\n",
              "      <td>1</td>\n",
              "      <td>2019</td>\n",
              "      <td>30</td>\n",
              "      <td>2018</td>\n",
              "      <td>0.901639</td>\n",
              "      <td>3</td>\n",
              "      <td>0.424148</td>\n",
              "    </tr>\n",
              "  </tbody>\n",
              "</table>\n",
              "</div>"
            ],
            "text/plain": [
              "   business_code  name_customer  ... amount_bins bcode_avg_delay\n",
              "0              1           4147  ...           1        0.424148\n",
              "1              1           4151  ...           2        0.424148\n",
              "2              1           4148  ...           1        0.424148\n",
              "3              1           4145  ...           2        0.424148\n",
              "4              1           3325  ...           3        0.424148\n",
              "\n",
              "[5 rows x 17 columns]"
            ]
          },
          "metadata": {
            "tags": []
          },
          "execution_count": 159
        }
      ]
    },
    {
      "cell_type": "code",
      "metadata": {
        "id": "doHZVeGktKbN"
      },
      "source": [
        "x_val1.drop(\"cust_number\",axis=1,inplace=True)\r\n",
        "x_val2.drop(\"cust_number\",axis=1,inplace=True)\r\n",
        "test.drop(\"cust_number\",axis=1,inplace=True)"
      ],
      "execution_count": 160,
      "outputs": []
    },
    {
      "cell_type": "code",
      "metadata": {
        "colab": {
          "base_uri": "https://localhost:8080/"
        },
        "id": "jULIBJa-dJaE",
        "outputId": "370e49fe-fd7d-41ad-ed02-e1739863d19a"
      },
      "source": [
        "test.shape"
      ],
      "execution_count": 161,
      "outputs": [
        {
          "output_type": "execute_result",
          "data": {
            "text/plain": [
              "(4734, 14)"
            ]
          },
          "metadata": {
            "tags": []
          },
          "execution_count": 161
        }
      ]
    },
    {
      "cell_type": "code",
      "metadata": {
        "colab": {
          "base_uri": "https://localhost:8080/"
        },
        "id": "FXhx_x86dO5-",
        "outputId": "669ca26c-0803-416d-b385-06e0142b3243"
      },
      "source": [
        "x_val1.shape, x_val2.shape"
      ],
      "execution_count": 162,
      "outputs": [
        {
          "output_type": "execute_result",
          "data": {
            "text/plain": [
              "((3968, 17), (3969, 18))"
            ]
          },
          "metadata": {
            "tags": []
          },
          "execution_count": 162
        }
      ]
    },
    {
      "cell_type": "code",
      "metadata": {
        "id": "vwZ4YH8lkAB8"
      },
      "source": [
        "for i in X_train.columns:\r\n",
        "  if X_train[i].dtype==\"datetime64\":\r\n",
        "    X_train.i=X_train.i.map(datetime.datetime.toordinal)"
      ],
      "execution_count": 163,
      "outputs": []
    },
    {
      "cell_type": "code",
      "metadata": {
        "colab": {
          "base_uri": "https://localhost:8080/",
          "height": 161
        },
        "id": "Sk1-m8Ullbg1",
        "outputId": "91a8bdd1-0e91-42f0-b2ae-79b70cd35b8d"
      },
      "source": [
        "X_train.head(3)"
      ],
      "execution_count": 164,
      "outputs": [
        {
          "output_type": "execute_result",
          "data": {
            "text/html": [
              "<div>\n",
              "<style scoped>\n",
              "    .dataframe tbody tr th:only-of-type {\n",
              "        vertical-align: middle;\n",
              "    }\n",
              "\n",
              "    .dataframe tbody tr th {\n",
              "        vertical-align: top;\n",
              "    }\n",
              "\n",
              "    .dataframe thead th {\n",
              "        text-align: right;\n",
              "    }\n",
              "</style>\n",
              "<table border=\"1\" class=\"dataframe\">\n",
              "  <thead>\n",
              "    <tr style=\"text-align: right;\">\n",
              "      <th></th>\n",
              "      <th>business_code</th>\n",
              "      <th>name_customer</th>\n",
              "      <th>clear_date</th>\n",
              "      <th>document_create_date.1</th>\n",
              "      <th>due_in_date</th>\n",
              "      <th>total_open_amount</th>\n",
              "      <th>baseline_create_date</th>\n",
              "      <th>cust_payment_terms</th>\n",
              "      <th>delay</th>\n",
              "      <th>due_date_day</th>\n",
              "      <th>due_date_month</th>\n",
              "      <th>due_date_year</th>\n",
              "      <th>baseline_date_day</th>\n",
              "      <th>baseline_date_year</th>\n",
              "      <th>avg_cust_delay</th>\n",
              "      <th>amount_bins</th>\n",
              "      <th>bcode_avg_delay</th>\n",
              "    </tr>\n",
              "  </thead>\n",
              "  <tbody>\n",
              "    <tr>\n",
              "      <th>0</th>\n",
              "      <td>1</td>\n",
              "      <td>4147</td>\n",
              "      <td>2019-01-09</td>\n",
              "      <td>2018-12-30</td>\n",
              "      <td>2019-01-14</td>\n",
              "      <td>983.1666</td>\n",
              "      <td>2018-12-30</td>\n",
              "      <td>39</td>\n",
              "      <td>-5</td>\n",
              "      <td>14</td>\n",
              "      <td>1</td>\n",
              "      <td>2019</td>\n",
              "      <td>30</td>\n",
              "      <td>2018</td>\n",
              "      <td>-2.070284</td>\n",
              "      <td>1</td>\n",
              "      <td>0.424148</td>\n",
              "    </tr>\n",
              "    <tr>\n",
              "      <th>1</th>\n",
              "      <td>1</td>\n",
              "      <td>4151</td>\n",
              "      <td>2019-01-09</td>\n",
              "      <td>2018-12-30</td>\n",
              "      <td>2019-01-14</td>\n",
              "      <td>12076.1940</td>\n",
              "      <td>2018-12-30</td>\n",
              "      <td>39</td>\n",
              "      <td>-5</td>\n",
              "      <td>14</td>\n",
              "      <td>1</td>\n",
              "      <td>2019</td>\n",
              "      <td>30</td>\n",
              "      <td>2018</td>\n",
              "      <td>-2.362720</td>\n",
              "      <td>2</td>\n",
              "      <td>0.424148</td>\n",
              "    </tr>\n",
              "    <tr>\n",
              "      <th>2</th>\n",
              "      <td>1</td>\n",
              "      <td>4148</td>\n",
              "      <td>2019-01-10</td>\n",
              "      <td>2018-12-30</td>\n",
              "      <td>2019-01-14</td>\n",
              "      <td>1189.6326</td>\n",
              "      <td>2018-12-30</td>\n",
              "      <td>39</td>\n",
              "      <td>-4</td>\n",
              "      <td>14</td>\n",
              "      <td>1</td>\n",
              "      <td>2019</td>\n",
              "      <td>30</td>\n",
              "      <td>2018</td>\n",
              "      <td>-2.366337</td>\n",
              "      <td>1</td>\n",
              "      <td>0.424148</td>\n",
              "    </tr>\n",
              "  </tbody>\n",
              "</table>\n",
              "</div>"
            ],
            "text/plain": [
              "   business_code  name_customer  ... amount_bins bcode_avg_delay\n",
              "0              1           4147  ...           1        0.424148\n",
              "1              1           4151  ...           2        0.424148\n",
              "2              1           4148  ...           1        0.424148\n",
              "\n",
              "[3 rows x 17 columns]"
            ]
          },
          "metadata": {
            "tags": []
          },
          "execution_count": 164
        }
      ]
    },
    {
      "cell_type": "code",
      "metadata": {
        "colab": {
          "base_uri": "https://localhost:8080/"
        },
        "id": "rW-fGI6RmQ05",
        "outputId": "51260ea4-ea0c-4c15-b380-c6e884e7cdd1"
      },
      "source": [
        "X_train.dtypes"
      ],
      "execution_count": 165,
      "outputs": [
        {
          "output_type": "execute_result",
          "data": {
            "text/plain": [
              "business_code                      int64\n",
              "name_customer                      int64\n",
              "clear_date                datetime64[ns]\n",
              "document_create_date.1    datetime64[ns]\n",
              "due_in_date               datetime64[ns]\n",
              "total_open_amount                float64\n",
              "baseline_create_date      datetime64[ns]\n",
              "cust_payment_terms                 int64\n",
              "delay                              int64\n",
              "due_date_day                       int64\n",
              "due_date_month                     int64\n",
              "due_date_year                      int64\n",
              "baseline_date_day                  int64\n",
              "baseline_date_year                 int64\n",
              "avg_cust_delay                   float64\n",
              "amount_bins                     category\n",
              "bcode_avg_delay                  float64\n",
              "dtype: object"
            ]
          },
          "metadata": {
            "tags": []
          },
          "execution_count": 165
        }
      ]
    },
    {
      "cell_type": "code",
      "metadata": {
        "colab": {
          "base_uri": "https://localhost:8080/"
        },
        "id": "z4QBUGeetbPg",
        "outputId": "22b35fe9-da9f-43e0-daa8-c86347e06219"
      },
      "source": [
        "X_train.shape"
      ],
      "execution_count": 166,
      "outputs": [
        {
          "output_type": "execute_result",
          "data": {
            "text/plain": [
              "(37159, 17)"
            ]
          },
          "metadata": {
            "tags": []
          },
          "execution_count": 166
        }
      ]
    },
    {
      "cell_type": "code",
      "metadata": {
        "colab": {
          "base_uri": "https://localhost:8080/"
        },
        "id": "mVbrAEeUtoCW",
        "outputId": "2747cbf2-7d12-4733-e2ee-d5a167334ff5"
      },
      "source": [
        "x_val1.shape"
      ],
      "execution_count": 167,
      "outputs": [
        {
          "output_type": "execute_result",
          "data": {
            "text/plain": [
              "(3968, 17)"
            ]
          },
          "metadata": {
            "tags": []
          },
          "execution_count": 167
        }
      ]
    },
    {
      "cell_type": "code",
      "metadata": {
        "colab": {
          "base_uri": "https://localhost:8080/"
        },
        "id": "gOQ-YW_5tppt",
        "outputId": "fe567dd3-0f03-4948-9943-dfd45b898d1c"
      },
      "source": [
        "x_val2.shape"
      ],
      "execution_count": 168,
      "outputs": [
        {
          "output_type": "execute_result",
          "data": {
            "text/plain": [
              "(3969, 18)"
            ]
          },
          "metadata": {
            "tags": []
          },
          "execution_count": 168
        }
      ]
    },
    {
      "cell_type": "markdown",
      "metadata": {
        "id": "ecK_uzjutcrL"
      },
      "source": [
        "**Creating a baseline model for the data**"
      ]
    },
    {
      "cell_type": "code",
      "metadata": {
        "id": "vOUZQ5amhCYJ"
      },
      "source": [
        "y=X_train['delay']\r\n",
        "X_pass=X_train.drop('clear_date',axis=1)"
      ],
      "execution_count": 169,
      "outputs": []
    },
    {
      "cell_type": "code",
      "metadata": {
        "id": "dpjU9HHBj-US"
      },
      "source": [
        "X_pass.drop(['document_create_date.1','due_in_date','baseline_create_date','delay'],axis=1,inplace=True)#datetime objects"
      ],
      "execution_count": 170,
      "outputs": []
    },
    {
      "cell_type": "code",
      "metadata": {
        "id": "UlLxbmftgx2K"
      },
      "source": [
        "#train_test_split\r\n",
        "xtrain,xtest,ytrain,ytest=train_test_split(X_pass,y,test_size=0.2)"
      ],
      "execution_count": 171,
      "outputs": []
    },
    {
      "cell_type": "code",
      "metadata": {
        "colab": {
          "base_uri": "https://localhost:8080/"
        },
        "id": "uv0W43IUdWSO",
        "outputId": "9fa206f0-6193-4903-b73d-02b4522a5f39"
      },
      "source": [
        "#linear regession \r\n",
        "from sklearn.linear_model import LinearRegression\r\n",
        "reg = LinearRegression(normalize=True)\r\n",
        "reg.fit(xtrain,ytrain)\r\n",
        "print(\"Training complete.\")"
      ],
      "execution_count": 172,
      "outputs": [
        {
          "output_type": "stream",
          "text": [
            "Training complete.\n"
          ],
          "name": "stdout"
        }
      ]
    },
    {
      "cell_type": "code",
      "metadata": {
        "colab": {
          "base_uri": "https://localhost:8080/"
        },
        "id": "fZ6w64Byj4VE",
        "outputId": "6aa0ec98-8d35-4bd3-a7b4-fc1c5e24004c"
      },
      "source": [
        "accuracy = reg.score(xtest,ytest)\r\n",
        "print(accuracy*100,'%')"
      ],
      "execution_count": 173,
      "outputs": [
        {
          "output_type": "stream",
          "text": [
            "53.057212446082836 %\n"
          ],
          "name": "stdout"
        }
      ]
    },
    {
      "cell_type": "code",
      "metadata": {
        "colab": {
          "base_uri": "https://localhost:8080/"
        },
        "id": "pFtOmaYvpwwI",
        "outputId": "4a093a13-ead1-465e-ff04-ecf8852370a9"
      },
      "source": [
        "y_pred=reg.predict(xtest)\r\n",
        "from sklearn.metrics import mean_squared_error\r\n",
        "mean_squared_error(ytest, y_pred)"
      ],
      "execution_count": 174,
      "outputs": [
        {
          "output_type": "execute_result",
          "data": {
            "text/plain": [
              "62.56976877905312"
            ]
          },
          "metadata": {
            "tags": []
          },
          "execution_count": 174
        }
      ]
    },
    {
      "cell_type": "code",
      "metadata": {
        "colab": {
          "base_uri": "https://localhost:8080/"
        },
        "id": "VeQtIPxKe3kS",
        "outputId": "9da9095b-457d-4c9b-b216-d76013f7c665"
      },
      "source": [
        "from sklearn.metrics import r2_score \r\n",
        "r2_score(ytest,y_pred)"
      ],
      "execution_count": 175,
      "outputs": [
        {
          "output_type": "execute_result",
          "data": {
            "text/plain": [
              "0.5305721244608284"
            ]
          },
          "metadata": {
            "tags": []
          },
          "execution_count": 175
        }
      ]
    },
    {
      "cell_type": "markdown",
      "metadata": {
        "id": "x5NMJIN6twxP"
      },
      "source": [
        "### Implementing our final model"
      ]
    },
    {
      "cell_type": "code",
      "metadata": {
        "id": "AccwtzUbtwSg"
      },
      "source": [
        "X_new=X_train.drop(['clear_date','document_create_date.1','due_in_date','baseline_create_date','delay'],axis=1)#datetime objects"
      ],
      "execution_count": 176,
      "outputs": []
    },
    {
      "cell_type": "code",
      "metadata": {
        "colab": {
          "base_uri": "https://localhost:8080/"
        },
        "id": "EbNjoJfzuZ2H",
        "outputId": "9fb6fcda-3fc6-48cb-fe57-dc9ed176b150"
      },
      "source": [
        "X_new.shape"
      ],
      "execution_count": 177,
      "outputs": [
        {
          "output_type": "execute_result",
          "data": {
            "text/plain": [
              "(37159, 12)"
            ]
          },
          "metadata": {
            "tags": []
          },
          "execution_count": 177
        }
      ]
    },
    {
      "cell_type": "code",
      "metadata": {
        "id": "Q2fcBvceuK-C"
      },
      "source": [
        "y_new=y=X_train['delay']\r\n",
        "y_val1=x_val1['delay']\r\n",
        "y_val2=x_val2['delay']"
      ],
      "execution_count": 178,
      "outputs": []
    },
    {
      "cell_type": "code",
      "metadata": {
        "id": "2BM2n2SDuVU5"
      },
      "source": [
        "x_val1=x_val1.drop(['clear_date','document_create_date.1','due_in_date','baseline_create_date','delay'],axis=1)#datetime objects"
      ],
      "execution_count": 179,
      "outputs": []
    },
    {
      "cell_type": "code",
      "metadata": {
        "colab": {
          "base_uri": "https://localhost:8080/"
        },
        "id": "DDYwKzFEumO1",
        "outputId": "c74327e7-d7b3-4952-ab0b-8787b9799191"
      },
      "source": [
        "x_val1.shape"
      ],
      "execution_count": 180,
      "outputs": [
        {
          "output_type": "execute_result",
          "data": {
            "text/plain": [
              "(3968, 12)"
            ]
          },
          "metadata": {
            "tags": []
          },
          "execution_count": 180
        }
      ]
    },
    {
      "cell_type": "code",
      "metadata": {
        "id": "aqyg4yw0ueYn"
      },
      "source": [
        "x_val2=x_val2.drop(['clear_date','document_create_date.1','due_in_date','baseline_create_date','index','delay'],axis=1)#datetime objects"
      ],
      "execution_count": 181,
      "outputs": []
    },
    {
      "cell_type": "code",
      "metadata": {
        "colab": {
          "base_uri": "https://localhost:8080/"
        },
        "id": "wItjM2reuoCQ",
        "outputId": "825adaa2-d0ba-4900-ba71-6a9cf15b465b"
      },
      "source": [
        "x_val2.shape"
      ],
      "execution_count": 182,
      "outputs": [
        {
          "output_type": "execute_result",
          "data": {
            "text/plain": [
              "(3969, 12)"
            ]
          },
          "metadata": {
            "tags": []
          },
          "execution_count": 182
        }
      ]
    },
    {
      "cell_type": "code",
      "metadata": {
        "id": "hzXn7nj-w97o"
      },
      "source": [
        "xtrain1,xtest1,ytrain1,ytest1=train_test_split(X_pass,y,test_size=0.2)"
      ],
      "execution_count": 183,
      "outputs": []
    },
    {
      "cell_type": "code",
      "metadata": {
        "id": "BhZMsw0Xw-jt"
      },
      "source": [
        "xtrain2,xtest2,ytrain2,ytest2=train_test_split(X_pass,y,test_size=0.2)"
      ],
      "execution_count": 184,
      "outputs": []
    },
    {
      "cell_type": "code",
      "metadata": {
        "id": "273RH6a4ugR3"
      },
      "source": [
        "test=test.drop(['clear_date','document_create_date.1','due_in_date','baseline_create_date','index'],axis=1)#datetime objects"
      ],
      "execution_count": 185,
      "outputs": []
    },
    {
      "cell_type": "code",
      "metadata": {
        "colab": {
          "base_uri": "https://localhost:8080/"
        },
        "id": "HZFCaXrWulMV",
        "outputId": "d9797cac-c615-490c-821e-c5f236caff14"
      },
      "source": [
        "test.shape"
      ],
      "execution_count": 186,
      "outputs": [
        {
          "output_type": "execute_result",
          "data": {
            "text/plain": [
              "(4734, 9)"
            ]
          },
          "metadata": {
            "tags": []
          },
          "execution_count": 186
        }
      ]
    },
    {
      "cell_type": "markdown",
      "metadata": {
        "id": "jzZGYBlgBhmB"
      },
      "source": [
        "## Implementation of Linear Regression"
      ]
    },
    {
      "cell_type": "code",
      "metadata": {
        "colab": {
          "base_uri": "https://localhost:8080/"
        },
        "id": "8m2VwhOmwS-w",
        "outputId": "e4455986-6883-4884-94d7-b67f3280be27"
      },
      "source": [
        "#linear regession \r\n",
        "reg = LinearRegression(normalize=True)\r\n",
        "reg.fit(X_new,y_new)\r\n",
        "print(\"Training complete.\")"
      ],
      "execution_count": 187,
      "outputs": [
        {
          "output_type": "stream",
          "text": [
            "Training complete.\n"
          ],
          "name": "stdout"
        }
      ]
    },
    {
      "cell_type": "code",
      "metadata": {
        "colab": {
          "base_uri": "https://localhost:8080/"
        },
        "id": "6q4gdiidweKv",
        "outputId": "0e5ddb1a-3411-4e8b-9d4a-5d5b5bc2d299"
      },
      "source": [
        "acc1= reg.score(xtest1,ytest1)\r\n",
        "print(acc1*100,'%')"
      ],
      "execution_count": 188,
      "outputs": [
        {
          "output_type": "stream",
          "text": [
            "57.06887965804979 %\n"
          ],
          "name": "stdout"
        }
      ]
    },
    {
      "cell_type": "code",
      "metadata": {
        "colab": {
          "base_uri": "https://localhost:8080/"
        },
        "id": "_aNNAUBqxHN1",
        "outputId": "620e1617-63e8-4d90-ffec-e1311b1fd12d"
      },
      "source": [
        "acc2= reg.score(xtest2,ytest2)\r\n",
        "print(acc1*100,'%')"
      ],
      "execution_count": 189,
      "outputs": [
        {
          "output_type": "stream",
          "text": [
            "57.06887965804979 %\n"
          ],
          "name": "stdout"
        }
      ]
    },
    {
      "cell_type": "code",
      "metadata": {
        "colab": {
          "base_uri": "https://localhost:8080/"
        },
        "id": "TOhXmqwV4mxZ",
        "outputId": "25957830-b06c-4a6b-eab7-b33294b92ee2"
      },
      "source": [
        "y_pred1=reg.predict(xtest1)\r\n",
        "from sklearn.metrics import mean_squared_error\r\n",
        "mean_squared_error(ytest1, y_pred1)"
      ],
      "execution_count": 190,
      "outputs": [
        {
          "output_type": "execute_result",
          "data": {
            "text/plain": [
              "51.692694028425834"
            ]
          },
          "metadata": {
            "tags": []
          },
          "execution_count": 190
        }
      ]
    },
    {
      "cell_type": "code",
      "metadata": {
        "colab": {
          "base_uri": "https://localhost:8080/"
        },
        "id": "HVKP6ZG55D7i",
        "outputId": "82105fb8-9444-4066-a9c3-d5998bbb9dc1"
      },
      "source": [
        "y_pred2=reg.predict(xtest2)\r\n",
        "from sklearn.metrics import mean_squared_error\r\n",
        "mean_squared_error(ytest2, y_pred2)"
      ],
      "execution_count": 191,
      "outputs": [
        {
          "output_type": "execute_result",
          "data": {
            "text/plain": [
              "55.90829067500576"
            ]
          },
          "metadata": {
            "tags": []
          },
          "execution_count": 191
        }
      ]
    },
    {
      "cell_type": "markdown",
      "metadata": {
        "id": "AKLxKueqBqY6"
      },
      "source": [
        "## Implementation of Ridge Regression"
      ]
    },
    {
      "cell_type": "code",
      "metadata": {
        "colab": {
          "base_uri": "https://localhost:8080/"
        },
        "id": "zj9Flpv284I8",
        "outputId": "c6bf49e1-7238-4fc6-febf-d28293562862"
      },
      "source": [
        "from sklearn.linear_model import Ridge\r\n",
        "rr = Ridge(alpha=0.01)\r\n",
        "rr.fit(X_new, y_new) \r\n",
        "pred_train_rr= rr.predict(X_new)\r\n",
        "print(np.sqrt(mean_squared_error(y_new,pred_train_rr)))\r\n",
        "print(r2_score(y_new, pred_train_rr))\r\n",
        "\r\n",
        "pred_test_rr= rr.predict(xtest1)\r\n",
        "print(np.sqrt(mean_squared_error(ytest1,pred_test_rr))) \r\n",
        "print(r2_score(ytest1, pred_test_rr))"
      ],
      "execution_count": 192,
      "outputs": [
        {
          "output_type": "stream",
          "text": [
            "7.813131199186963\n",
            "0.5167078368914184\n",
            "7.189764003613171\n",
            "0.5706886936041164\n"
          ],
          "name": "stdout"
        }
      ]
    },
    {
      "cell_type": "code",
      "metadata": {
        "colab": {
          "base_uri": "https://localhost:8080/"
        },
        "id": "r1ibVKYt-xCi",
        "outputId": "fd3689a4-a4c1-4f22-daac-8d64299ace44"
      },
      "source": [
        "acc1= rr.score(xtest1,ytest1)\r\n",
        "print(acc1*100,'%')"
      ],
      "execution_count": 193,
      "outputs": [
        {
          "output_type": "stream",
          "text": [
            "57.06886936041165 %\n"
          ],
          "name": "stdout"
        }
      ]
    },
    {
      "cell_type": "code",
      "metadata": {
        "colab": {
          "base_uri": "https://localhost:8080/"
        },
        "id": "GjxR49qz-ke_",
        "outputId": "8ba92762-82c5-4f0d-c999-0553b0aaf41f"
      },
      "source": [
        "acc2= rr.score(xtest2,ytest2)\r\n",
        "print(acc1*100,'%')"
      ],
      "execution_count": 194,
      "outputs": [
        {
          "output_type": "stream",
          "text": [
            "57.06886936041165 %\n"
          ],
          "name": "stdout"
        }
      ]
    },
    {
      "cell_type": "markdown",
      "metadata": {
        "id": "9Z42-PHABwIO"
      },
      "source": [
        "## Implementation of Elastic Net"
      ]
    },
    {
      "cell_type": "code",
      "metadata": {
        "colab": {
          "base_uri": "https://localhost:8080/"
        },
        "id": "8hR8idyc_8it",
        "outputId": "10e26719-1b5c-4725-dffa-c641abc148fb"
      },
      "source": [
        "#Elastic Net\r\n",
        "from sklearn.linear_model import ElasticNet\r\n",
        "model_enet = ElasticNet(alpha = 0.01)\r\n",
        "model_enet.fit(X_new, y_new) \r\n",
        "pred_train_enet= model_enet.predict(X_new)\r\n",
        "print(np.sqrt(mean_squared_error(y_new,pred_train_enet)))\r\n",
        "print(r2_score(y_new, pred_train_enet))\r\n",
        "\r\n",
        "pred_test_enet= model_enet.predict(xtest1)\r\n",
        "print(np.sqrt(mean_squared_error(ytest1,pred_test_enet)))\r\n",
        "print(r2_score(ytest1, pred_test_enet))"
      ],
      "execution_count": 195,
      "outputs": [
        {
          "output_type": "stream",
          "text": [
            "7.815410155871108\n",
            "0.516425859664242\n",
            "7.192237883304048\n",
            "0.5703932048395616\n"
          ],
          "name": "stdout"
        }
      ]
    },
    {
      "cell_type": "code",
      "metadata": {
        "colab": {
          "base_uri": "https://localhost:8080/"
        },
        "id": "HuKVL-ApAc88",
        "outputId": "deb13bb7-612b-4a66-e1d8-444f3771b257"
      },
      "source": [
        "acc1= model_enet.score(xtest1,ytest1)\r\n",
        "print(acc1*100,'%')"
      ],
      "execution_count": 196,
      "outputs": [
        {
          "output_type": "stream",
          "text": [
            "57.03932048395616 %\n"
          ],
          "name": "stdout"
        }
      ]
    }
  ]
}